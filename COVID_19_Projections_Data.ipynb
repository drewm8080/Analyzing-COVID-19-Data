{
  "nbformat": 4,
  "nbformat_minor": 0,
  "metadata": {
    "colab": {
      "name": "COVID_19 Projections Data",
      "provenance": [],
      "collapsed_sections": [],
      "include_colab_link": true
    },
    "kernelspec": {
      "display_name": "Python 3",
      "name": "python3"
    }
  },
  "cells": [
    {
      "cell_type": "markdown",
      "metadata": {
        "id": "view-in-github",
        "colab_type": "text"
      },
      "source": [
        "<a href=\"https://colab.research.google.com/github/drewm8080/Analyzing-COVID-19-Data-Sources/blob/main/COVID_19_Projections_Data.ipynb\" target=\"_parent\"><img src=\"https://colab.research.google.com/assets/colab-badge.svg\" alt=\"Open In Colab\"/></a>"
      ]
    },
    {
      "cell_type": "markdown",
      "metadata": {
        "id": "CdqSuoT0SwiZ"
      },
      "source": [
        "**User Input Here**"
      ]
    },
    {
      "cell_type": "code",
      "metadata": {
        "colab": {
          "base_uri": "https://localhost:8080/"
        },
        "id": "kXOx7TzxS6-J",
        "outputId": "e4f2be3a-a90f-48d1-9fd4-772b27b13ea0"
      },
      "source": [
        "print('Welcome to the COVID-19_Projections Statistics')\n",
        "print('')\n",
        "print('Please tell me which state you would like to see. Type abbreivated name of state in caps. EX: FL,GA etc.')\n",
        "userinput = input('Please put state here:')"
      ],
      "execution_count": 1,
      "outputs": [
        {
          "output_type": "stream",
          "text": [
            "Welcome to the COVID-19_Projections Statistics\n",
            "\n",
            "Please tell me which state you would like to see. Type abbreivated name of state in caps. EX: FL,GA etc.\n",
            "Please put state here:CA\n"
          ],
          "name": "stdout"
        }
      ]
    },
    {
      "cell_type": "markdown",
      "metadata": {
        "id": "lx4KMgyyGjHL"
      },
      "source": [
        "**Framework for Cases and Deaths from Covid_Projections**\n",
        "\n"
      ]
    },
    {
      "cell_type": "code",
      "metadata": {
        "id": "1l3ogsUIrrln"
      },
      "source": [
        "# Might need this cell if your data does not download directly from the URL\n",
        "# !pip install fsspec\n",
        "# !pip install pandas"
      ],
      "execution_count": 2,
      "outputs": []
    },
    {
      "cell_type": "code",
      "metadata": {
        "id": "odDxDul0QhhT"
      },
      "source": [
        "import pandas as pd\n",
        "import numpy as np \n",
        "import matplotlib.pyplot as plt"
      ],
      "execution_count": 3,
      "outputs": []
    },
    {
      "cell_type": "code",
      "metadata": {
        "id": "2zkKJQ59RLuy"
      },
      "source": [
        "# grabbing the Data\n",
        "url = 'https://github.com/youyanggu/covid19-infection-estimates-latest/raw/main/latest_all_estimates_states.csv'\n",
        "df = pd.read_csv(url)"
      ],
      "execution_count": 4,
      "outputs": []
    },
    {
      "cell_type": "code",
      "metadata": {
        "id": "5FVLVyblhEiP"
      },
      "source": [
        "# indexing the data\n",
        "df = df.loc[:,['date','state','total_deaths','total_infected_mean']]\n"
      ],
      "execution_count": 5,
      "outputs": []
    },
    {
      "cell_type": "code",
      "metadata": {
        "id": "j45FvAsmf7j2"
      },
      "source": [
        "# converting to datetime \n",
        "df['date'] = pd.to_datetime(df['date'])"
      ],
      "execution_count": 6,
      "outputs": []
    },
    {
      "cell_type": "code",
      "metadata": {
        "id": "vW18NRm4gGN8"
      },
      "source": [
        "# renaming the columns\n",
        "df['Deaths'] = df['total_deaths']\n",
        "df['Cases'] = df['total_infected_mean']\n",
        "df = df.drop(columns=['total_deaths','total_infected_mean'])"
      ],
      "execution_count": 7,
      "outputs": []
    },
    {
      "cell_type": "code",
      "metadata": {
        "id": "PMsSS89bD7zC"
      },
      "source": [
        "# getting user input\n",
        "df = df[df['state'] == userinput]"
      ],
      "execution_count": 8,
      "outputs": []
    },
    {
      "cell_type": "code",
      "metadata": {
        "id": "_owp9ek3DKrr"
      },
      "source": [
        "# making sure the data starts March 1st \n",
        "df = df[df['date'] >= '03-01-2020']\n"
      ],
      "execution_count": 9,
      "outputs": []
    },
    {
      "cell_type": "code",
      "metadata": {
        "id": "9SE-XfWOTs9O"
      },
      "source": [
        "# dropping Null Values\n",
        "df = df.dropna()"
      ],
      "execution_count": 10,
      "outputs": []
    },
    {
      "cell_type": "code",
      "metadata": {
        "id": "3unZO1iZ5YsC"
      },
      "source": [
        "# creating the day column\n",
        "df['Day'] = df.groupby('state')['date'].rank(ascending=True)"
      ],
      "execution_count": 11,
      "outputs": []
    },
    {
      "cell_type": "code",
      "metadata": {
        "id": "J0XzhLK-UYOr"
      },
      "source": [
        "df['Avg day of case'] = 0 # declaring new column\n",
        "df['Avg day of death'] = 0"
      ],
      "execution_count": 12,
      "outputs": []
    },
    {
      "cell_type": "code",
      "metadata": {
        "id": "au8gCXbNUrHU"
      },
      "source": [
        "# setting the avg day of case to be the first day of the day column\n",
        "df.loc[df.groupby('state')['date'].head(1).index, 'Avg day of case'] = df.loc[:,'Day']"
      ],
      "execution_count": 13,
      "outputs": []
    },
    {
      "cell_type": "code",
      "metadata": {
        "id": "PpoIBOWWchkG"
      },
      "source": [
        "df = df.reset_index(drop = True)"
      ],
      "execution_count": 14,
      "outputs": []
    },
    {
      "cell_type": "code",
      "metadata": {
        "id": "-g7lyfVxEF_u"
      },
      "source": [
        "# calulating Avgerage day of case\n",
        "for i in range(1, len(df)):\n",
        "  x = (((df.loc[i, 'Cases'] - df.loc[i-1, 'Cases']) * (df.loc[i, 'Day']- df.loc[i-1, 'Avg day of case'])) / (df.loc[i, 'Cases'])) + (df.loc[i-1, 'Avg day of case'])\n",
        "  df.loc[i, 'Avg day of case'] = round(x, 2)\n"
      ],
      "execution_count": 15,
      "outputs": []
    },
    {
      "cell_type": "code",
      "metadata": {
        "id": "cg1z0sxtMIE4"
      },
      "source": [
        "# making sure it only calculate where the deaths >0\n",
        "df = df[df['Deaths'] > 0]"
      ],
      "execution_count": 16,
      "outputs": []
    },
    {
      "cell_type": "code",
      "metadata": {
        "id": "tVfbQcLKMrb-"
      },
      "source": [
        "# setting the first day as the first row in Avg day of death\n",
        "df.loc[df.groupby('state')['date'].head(1).index, 'Avg day of death'] = df.loc[:,'Day']"
      ],
      "execution_count": 17,
      "outputs": []
    },
    {
      "cell_type": "code",
      "metadata": {
        "id": "b2p9hNrBVmOM"
      },
      "source": [
        "# creating the CDF Column\n",
        "df['cdf_cases'] = df['Cases']"
      ],
      "execution_count": 18,
      "outputs": []
    },
    {
      "cell_type": "code",
      "metadata": {
        "id": "AI0g8MKT3-BT"
      },
      "source": [
        "# creating the cdf column\n",
        "df['cdf_deaths'] = df['Deaths']"
      ],
      "execution_count": 19,
      "outputs": []
    },
    {
      "cell_type": "code",
      "metadata": {
        "id": "nHSztNOFRWGc"
      },
      "source": [
        "# creating the formula for the CDF column\n",
        "df.loc[:,'cdf_cases':] = df.loc[:,'cdf_cases':].div(df.iloc[-1]['cdf_cases':])\n",
        "df = df.reset_index()"
      ],
      "execution_count": 20,
      "outputs": []
    },
    {
      "cell_type": "code",
      "metadata": {
        "id": "K0oCI3O3M-tS"
      },
      "source": [
        "# creating the formula for the CDF column\n",
        "df['cdf_deaths'] = df.loc[:,'cdf_deaths':].div(df.iloc[-1]['cdf_deaths':])"
      ],
      "execution_count": 21,
      "outputs": []
    },
    {
      "cell_type": "code",
      "metadata": {
        "id": "Ms3qNF6YGvAY"
      },
      "source": [
        "# calulating Avgerage day of death\n",
        "for i in range(1, len(df)):\n",
        "  x = (((df.loc[i, 'Deaths'] - df.loc[i-1, 'Deaths']) * (df.loc[i, 'Day']- df.loc[i-1, 'Avg day of death'])) / (df.loc[i, 'Deaths'])) + (df.loc[i-1, 'Avg day of death'])\n",
        "  df.loc[i, 'Avg day of death'] = round(x, 2)"
      ],
      "execution_count": 22,
      "outputs": []
    },
    {
      "cell_type": "code",
      "metadata": {
        "id": "McfYTTfVJLPP"
      },
      "source": [
        "# dropping null values for deaths\n",
        "df = df.dropna()"
      ],
      "execution_count": 23,
      "outputs": []
    },
    {
      "cell_type": "code",
      "metadata": {
        "id": "3YI3NiRpBzf_"
      },
      "source": [
        "# avg death day - avg case day\n",
        "df['Avg Death Day - Avg Case Day'] = df['Avg day of death'] - df['Avg day of case'] "
      ],
      "execution_count": 24,
      "outputs": []
    },
    {
      "cell_type": "code",
      "metadata": {
        "id": "0Ymb3MlgCzhz"
      },
      "source": [
        "# avg day of case/ current day\n",
        "df['Avg Day of Case/ Current Day'] = df['Avg day of case'] / df['Day']"
      ],
      "execution_count": 25,
      "outputs": []
    },
    {
      "cell_type": "code",
      "metadata": {
        "id": "j1LpK--RDwnS"
      },
      "source": [
        "# avg death day/current day\n",
        "df['Avg Day of Death/ Current Day'] = df['Avg day of death'] / df['Day']"
      ],
      "execution_count": 26,
      "outputs": []
    },
    {
      "cell_type": "code",
      "metadata": {
        "id": "S84cKJx4JwAX"
      },
      "source": [
        "# converting to datetime\n",
        "df.date = pd.to_datetime(df.date)"
      ],
      "execution_count": 27,
      "outputs": []
    },
    {
      "cell_type": "code",
      "metadata": {
        "id": "1FZB3O-hdx5t"
      },
      "source": [
        "df = df.drop(columns='index')"
      ],
      "execution_count": 28,
      "outputs": []
    },
    {
      "cell_type": "code",
      "metadata": {
        "id": "M51RnOQZhxaC",
        "colab": {
          "base_uri": "https://localhost:8080/",
          "height": 606
        },
        "outputId": "2cc3e59a-8965-4354-8e14-083b11c2ce3d"
      },
      "source": [
        "df"
      ],
      "execution_count": 29,
      "outputs": [
        {
          "output_type": "execute_result",
          "data": {
            "text/html": [
              "<div>\n",
              "<style scoped>\n",
              "    .dataframe tbody tr th:only-of-type {\n",
              "        vertical-align: middle;\n",
              "    }\n",
              "\n",
              "    .dataframe tbody tr th {\n",
              "        vertical-align: top;\n",
              "    }\n",
              "\n",
              "    .dataframe thead th {\n",
              "        text-align: right;\n",
              "    }\n",
              "</style>\n",
              "<table border=\"1\" class=\"dataframe\">\n",
              "  <thead>\n",
              "    <tr style=\"text-align: right;\">\n",
              "      <th></th>\n",
              "      <th>date</th>\n",
              "      <th>state</th>\n",
              "      <th>Deaths</th>\n",
              "      <th>Cases</th>\n",
              "      <th>Day</th>\n",
              "      <th>Avg day of case</th>\n",
              "      <th>Avg day of death</th>\n",
              "      <th>cdf_cases</th>\n",
              "      <th>cdf_deaths</th>\n",
              "      <th>Avg Death Day - Avg Case Day</th>\n",
              "      <th>Avg Day of Case/ Current Day</th>\n",
              "      <th>Avg Day of Death/ Current Day</th>\n",
              "    </tr>\n",
              "  </thead>\n",
              "  <tbody>\n",
              "    <tr>\n",
              "      <th>0</th>\n",
              "      <td>2020-03-12</td>\n",
              "      <td>CA</td>\n",
              "      <td>4</td>\n",
              "      <td>58780.4</td>\n",
              "      <td>12.0</td>\n",
              "      <td>7.39</td>\n",
              "      <td>12.00</td>\n",
              "      <td>0.00566176</td>\n",
              "      <td>8.14581e-05</td>\n",
              "      <td>4.61</td>\n",
              "      <td>0.615833</td>\n",
              "      <td>1.000000</td>\n",
              "    </tr>\n",
              "    <tr>\n",
              "      <th>1</th>\n",
              "      <td>2020-03-13</td>\n",
              "      <td>CA</td>\n",
              "      <td>4</td>\n",
              "      <td>68157.8</td>\n",
              "      <td>13.0</td>\n",
              "      <td>8.16</td>\n",
              "      <td>12.00</td>\n",
              "      <td>0.006565</td>\n",
              "      <td>8.14581e-05</td>\n",
              "      <td>3.84</td>\n",
              "      <td>0.627692</td>\n",
              "      <td>0.923077</td>\n",
              "    </tr>\n",
              "    <tr>\n",
              "      <th>2</th>\n",
              "      <td>2020-03-14</td>\n",
              "      <td>CA</td>\n",
              "      <td>5</td>\n",
              "      <td>77537.3</td>\n",
              "      <td>14.0</td>\n",
              "      <td>8.87</td>\n",
              "      <td>12.40</td>\n",
              "      <td>0.00746844</td>\n",
              "      <td>0.000101823</td>\n",
              "      <td>3.53</td>\n",
              "      <td>0.633571</td>\n",
              "      <td>0.885714</td>\n",
              "    </tr>\n",
              "    <tr>\n",
              "      <th>3</th>\n",
              "      <td>2020-03-15</td>\n",
              "      <td>CA</td>\n",
              "      <td>5</td>\n",
              "      <td>86771.5</td>\n",
              "      <td>15.0</td>\n",
              "      <td>9.52</td>\n",
              "      <td>12.40</td>\n",
              "      <td>0.00835788</td>\n",
              "      <td>0.000101823</td>\n",
              "      <td>2.88</td>\n",
              "      <td>0.634667</td>\n",
              "      <td>0.826667</td>\n",
              "    </tr>\n",
              "    <tr>\n",
              "      <th>4</th>\n",
              "      <td>2020-03-16</td>\n",
              "      <td>CA</td>\n",
              "      <td>6</td>\n",
              "      <td>95720.2</td>\n",
              "      <td>16.0</td>\n",
              "      <td>10.13</td>\n",
              "      <td>13.00</td>\n",
              "      <td>0.00921982</td>\n",
              "      <td>0.000122187</td>\n",
              "      <td>2.87</td>\n",
              "      <td>0.633125</td>\n",
              "      <td>0.812500</td>\n",
              "    </tr>\n",
              "    <tr>\n",
              "      <th>...</th>\n",
              "      <td>...</td>\n",
              "      <td>...</td>\n",
              "      <td>...</td>\n",
              "      <td>...</td>\n",
              "      <td>...</td>\n",
              "      <td>...</td>\n",
              "      <td>...</td>\n",
              "      <td>...</td>\n",
              "      <td>...</td>\n",
              "      <td>...</td>\n",
              "      <td>...</td>\n",
              "      <td>...</td>\n",
              "    </tr>\n",
              "    <tr>\n",
              "      <th>342</th>\n",
              "      <td>2021-02-17</td>\n",
              "      <td>CA</td>\n",
              "      <td>47507</td>\n",
              "      <td>10344200.0</td>\n",
              "      <td>354.0</td>\n",
              "      <td>241.40</td>\n",
              "      <td>253.69</td>\n",
              "      <td>0.996359</td>\n",
              "      <td>0.967457</td>\n",
              "      <td>12.29</td>\n",
              "      <td>0.681921</td>\n",
              "      <td>0.716638</td>\n",
              "    </tr>\n",
              "    <tr>\n",
              "      <th>343</th>\n",
              "      <td>2021-02-18</td>\n",
              "      <td>CA</td>\n",
              "      <td>47924</td>\n",
              "      <td>10354000.0</td>\n",
              "      <td>355.0</td>\n",
              "      <td>241.51</td>\n",
              "      <td>254.57</td>\n",
              "      <td>0.997303</td>\n",
              "      <td>0.975949</td>\n",
              "      <td>13.06</td>\n",
              "      <td>0.680310</td>\n",
              "      <td>0.717099</td>\n",
              "    </tr>\n",
              "    <tr>\n",
              "      <th>344</th>\n",
              "      <td>2021-02-19</td>\n",
              "      <td>CA</td>\n",
              "      <td>48344</td>\n",
              "      <td>10363500.0</td>\n",
              "      <td>356.0</td>\n",
              "      <td>241.61</td>\n",
              "      <td>255.45</td>\n",
              "      <td>0.998218</td>\n",
              "      <td>0.984503</td>\n",
              "      <td>13.84</td>\n",
              "      <td>0.678680</td>\n",
              "      <td>0.717556</td>\n",
              "    </tr>\n",
              "    <tr>\n",
              "      <th>345</th>\n",
              "      <td>2021-02-20</td>\n",
              "      <td>CA</td>\n",
              "      <td>48825</td>\n",
              "      <td>10372900.0</td>\n",
              "      <td>357.0</td>\n",
              "      <td>241.71</td>\n",
              "      <td>256.45</td>\n",
              "      <td>0.999123</td>\n",
              "      <td>0.994298</td>\n",
              "      <td>14.74</td>\n",
              "      <td>0.677059</td>\n",
              "      <td>0.718347</td>\n",
              "    </tr>\n",
              "    <tr>\n",
              "      <th>346</th>\n",
              "      <td>2021-02-21</td>\n",
              "      <td>CA</td>\n",
              "      <td>49105</td>\n",
              "      <td>10382000.0</td>\n",
              "      <td>358.0</td>\n",
              "      <td>241.81</td>\n",
              "      <td>257.03</td>\n",
              "      <td>1</td>\n",
              "      <td>1</td>\n",
              "      <td>15.22</td>\n",
              "      <td>0.675447</td>\n",
              "      <td>0.717961</td>\n",
              "    </tr>\n",
              "  </tbody>\n",
              "</table>\n",
              "<p>347 rows × 12 columns</p>\n",
              "</div>"
            ],
            "text/plain": [
              "          date  ... Avg Day of Death/ Current Day\n",
              "0   2020-03-12  ...                      1.000000\n",
              "1   2020-03-13  ...                      0.923077\n",
              "2   2020-03-14  ...                      0.885714\n",
              "3   2020-03-15  ...                      0.826667\n",
              "4   2020-03-16  ...                      0.812500\n",
              "..         ...  ...                           ...\n",
              "342 2021-02-17  ...                      0.716638\n",
              "343 2021-02-18  ...                      0.717099\n",
              "344 2021-02-19  ...                      0.717556\n",
              "345 2021-02-20  ...                      0.718347\n",
              "346 2021-02-21  ...                      0.717961\n",
              "\n",
              "[347 rows x 12 columns]"
            ]
          },
          "metadata": {
            "tags": []
          },
          "execution_count": 29
        }
      ]
    },
    {
      "cell_type": "markdown",
      "metadata": {
        "id": "sOHA96bdFFo3"
      },
      "source": [
        "**Statistics**"
      ]
    },
    {
      "cell_type": "code",
      "metadata": {
        "id": "B84iVqT-FMOM"
      },
      "source": [
        "# framework for statistics\n",
        "averagedayofcase = df['Avg day of case'].iloc[-1]\n",
        "averagedayofdeath = df['Avg day of death'].iloc[-1]\n",
        "differDeaths = df['Avg Death Day - Avg Case Day'].max()\n",
        "differCases= -df['Avg Death Day - Avg Case Day'].min()"
      ],
      "execution_count": 30,
      "outputs": []
    },
    {
      "cell_type": "code",
      "metadata": {
        "id": "n3MUHKhtMQLX",
        "colab": {
          "base_uri": "https://localhost:8080/"
        },
        "outputId": "9ffa56bb-b729-49bf-fa0a-35ac60117127"
      },
      "source": [
        "print('COVID-19 STATISTICS')\n",
        "print('')\n",
        "print('State = ', df.state.iloc[-1])\n",
        "print('Average Day of Death and Average Day of Case as of',df['date'].iloc[-1])\n",
        "print('Case =', averagedayofcase)\n",
        "print('Death = ', averagedayofdeath)\n",
        "print('Days When Average Dates of Death Differ By Largest Amounts')\n",
        "print('Death Day – Case Day =', differDeaths)\n",
        "print('Case Day - Death Day =',differCases)"
      ],
      "execution_count": 31,
      "outputs": [
        {
          "output_type": "stream",
          "text": [
            "COVID-19 STATISTICS\n",
            "\n",
            "State =  CA\n",
            "Average Day of Death and Average Day of Case as of 2021-02-21 00:00:00\n",
            "Case = 241.81\n",
            "Death =  257.03\n",
            "Days When Average Dates of Death Differ By Largest Amounts\n",
            "Death Day – Case Day = 15.469999999999999\n",
            "Case Day - Death Day = 37.22999999999999\n"
          ],
          "name": "stdout"
        }
      ]
    },
    {
      "cell_type": "markdown",
      "metadata": {
        "id": "QjKUIo_rRc43"
      },
      "source": [
        "**Data Visualization**"
      ]
    },
    {
      "cell_type": "code",
      "metadata": {
        "id": "1tU4ZIveysMy",
        "colab": {
          "base_uri": "https://localhost:8080/",
          "height": 625
        },
        "outputId": "a3e2f479-27a5-4247-c821-00869d143512"
      },
      "source": [
        "plt.figure(figsize = (18,8))\n",
        "\n",
        "plt.subplot(2,2,1)\n",
        "plt.plot(df['Day'], df['Avg day of case'],df['Avg day of death'])\n",
        "plt.title('Average Day Case/Death')\n",
        "plt.xlabel('Day')\n",
        "plt.ylabel('Average Day of Case or Death')\n",
        "\n",
        "plt.subplot(2,2,2)\n",
        "plt.plot(df['Day'], df['Avg Death Day - Avg Case Day'])\n",
        "plt.title('Avg Death Day - Avg Case Day for')\n",
        "plt.xlabel('Day')\n",
        "plt.ylabel('Difference in Days')\n",
        "\n",
        "plt.subplot(2,2,3)\n",
        "plt.plot(df['Day'],df['cdf_cases'],df['cdf_deaths'])\n",
        "plt.title('Cumulative Probability Distribution, Days of Cases and Deaths')\n",
        "plt.xlabel('Day')\n",
        "plt.ylabel('Cumulative Probability')\n",
        "\n",
        "plt.subplot(2,2,4)\n",
        "plt.plot(df['Day'], df['Avg Day of Case/ Current Day'])\n",
        "plt.title('Ratio of Average Day of Event to Current Date')\n",
        "plt.xlabel('Day')\n",
        "plt.ylabel('Ratio')\n",
        "\n",
        "\n",
        "\n",
        "plt.suptitle('Covid_19 Projections Data, as of Date Day 1 = March 1, 2020', size= 16,y=1.05)\n",
        "plt.tight_layout()\n",
        "\n",
        "plt.style.use('seaborn')"
      ],
      "execution_count": 33,
      "outputs": [
        {
          "output_type": "display_data",
          "data": {
            "image/png": "[encoded data removed]",
            "text/plain": [
              "<Figure size 1296x576 with 4 Axes>"
            ]
          },
          "metadata": {
            "tags": []
          }
        }
      ]
    }
  ]
}