{
  "nbformat": 4,
  "nbformat_minor": 0,
  "metadata": {
    "colab": {
      "name": "COVID_19 Projections Data",
      "provenance": [],
      "collapsed_sections": [],
      "include_colab_link": true
    },
    "kernelspec": {
      "display_name": "Python 3",
      "name": "python3"
    }
  },
  "cells": [
    {
      "cell_type": "markdown",
      "metadata": {
        "id": "view-in-github",
        "colab_type": "text"
      },
      "source": [
        "<a href=\"https://colab.research.google.com/github/drewm8080/Analyzing-COVID-19-Data/blob/main/COVID_19_Projections_Data.ipynb\" target=\"_parent\"><img src=\"https://colab.research.google.com/assets/colab-badge.svg\" alt=\"Open In Colab\"/></a>"
      ]
    },
    {
      "cell_type": "markdown",
      "metadata": {
        "id": "CdqSuoT0SwiZ"
      },
      "source": [
        "**User Input Here**"
      ]
    },
    {
      "cell_type": "code",
      "metadata": {
        "colab": {
          "base_uri": "https://localhost:8080/"
        },
        "id": "kXOx7TzxS6-J",
        "outputId": "511dcd18-b87e-41d1-95a0-32490a0cf4d8"
      },
      "source": [
        "print('Welcome to the COVID-19_Projections Statistics')\n",
        "print('')\n",
        "print('Please tell me which state you would like to see. No spaces,acronoym only and all caps. Example: FL for Florida and AL for Alabama')\n",
        "userinput = input('Please put state here:')"
      ],
      "execution_count": 31,
      "outputs": [
        {
          "output_type": "stream",
          "text": [
            "Welcome to the COVID-19_Projections Statistics\n",
            "\n",
            "Please tell me which state you would like to see. No spaces,acronoym only and all caps. Example: FL for Florida and AL for Alabama\n",
            "Please put state here:CA\n"
          ],
          "name": "stdout"
        }
      ]
    },
    {
      "cell_type": "markdown",
      "metadata": {
        "id": "lx4KMgyyGjHL"
      },
      "source": [
        "**Framework for Cases and Deaths from Covid_Projections**\n",
        "\n"
      ]
    },
    {
      "cell_type": "code",
      "metadata": {
        "id": "1l3ogsUIrrln"
      },
      "source": [
        "# Might need this cell if your data does not download directly from the URL\n",
        "# !pip install fsspec\n",
        "# !pip install pandas"
      ],
      "execution_count": 32,
      "outputs": []
    },
    {
      "cell_type": "code",
      "metadata": {
        "id": "odDxDul0QhhT"
      },
      "source": [
        "import pandas as pd\n",
        "import numpy as np \n",
        "import matplotlib.pyplot as plt"
      ],
      "execution_count": 33,
      "outputs": []
    },
    {
      "cell_type": "code",
      "metadata": {
        "id": "2zkKJQ59RLuy"
      },
      "source": [
        "# grabbing the Data\n",
        "url = 'https://github.com/youyanggu/covid19-infection-estimates-latest/raw/main/latest_all_estimates_states.csv'\n",
        "df = pd.read_csv(url)"
      ],
      "execution_count": 34,
      "outputs": []
    },
    {
      "cell_type": "code",
      "metadata": {
        "id": "5FVLVyblhEiP"
      },
      "source": [
        "# indexing the data\n",
        "df = df.loc[:,['date','state','total_deaths','total_infected_mean']]\n"
      ],
      "execution_count": 35,
      "outputs": []
    },
    {
      "cell_type": "code",
      "metadata": {
        "id": "j45FvAsmf7j2"
      },
      "source": [
        "# converting to datetime \n",
        "df['date'] = pd.to_datetime(df['date'])"
      ],
      "execution_count": 36,
      "outputs": []
    },
    {
      "cell_type": "code",
      "metadata": {
        "id": "vW18NRm4gGN8"
      },
      "source": [
        "# renaming the columns\n",
        "df['Deaths'] = df['total_deaths']\n",
        "df['Cases'] = df['total_infected_mean']\n",
        "df = df.drop(columns=['total_deaths','total_infected_mean'])"
      ],
      "execution_count": 37,
      "outputs": []
    },
    {
      "cell_type": "code",
      "metadata": {
        "id": "_owp9ek3DKrr"
      },
      "source": [
        "# making sure the data starts March 1st \n",
        "df = df[df['date'] >= '03-01-2020']\n"
      ],
      "execution_count": 38,
      "outputs": []
    },
    {
      "cell_type": "code",
      "metadata": {
        "id": "9SE-XfWOTs9O"
      },
      "source": [
        "# dropping Null Values\n",
        "df = df.dropna()"
      ],
      "execution_count": 39,
      "outputs": []
    },
    {
      "cell_type": "code",
      "metadata": {
        "id": "3unZO1iZ5YsC"
      },
      "source": [
        "# creating the day column\n",
        "df['Day'] = df.groupby('state')['date'].rank(ascending=True)"
      ],
      "execution_count": 40,
      "outputs": []
    },
    {
      "cell_type": "code",
      "metadata": {
        "id": "J0XzhLK-UYOr"
      },
      "source": [
        "df['Avg day of case'] = 0 # declaring new column\n",
        "df['Avg day of death'] = 0"
      ],
      "execution_count": 41,
      "outputs": []
    },
    {
      "cell_type": "code",
      "metadata": {
        "id": "au8gCXbNUrHU"
      },
      "source": [
        "# setting the avg day of case to be the first day of the day column\n",
        "df.loc[df.groupby('state')['date'].head(1).index, 'Avg day of case'] = df.loc[:,'Day']"
      ],
      "execution_count": 42,
      "outputs": []
    },
    {
      "cell_type": "code",
      "metadata": {
        "id": "PMsSS89bD7zC"
      },
      "source": [
        "# getting user input\n",
        "df = df[df['state'] == userinput]"
      ],
      "execution_count": 43,
      "outputs": []
    },
    {
      "cell_type": "code",
      "metadata": {
        "id": "cg1z0sxtMIE4"
      },
      "source": [
        "# making sure it only calculate where the deaths >0\n",
        "df = df[df['Deaths'] > 0]"
      ],
      "execution_count": 44,
      "outputs": []
    },
    {
      "cell_type": "code",
      "metadata": {
        "id": "NJAawBjpP2Xv"
      },
      "source": [
        "# creating a new column\n",
        "df['Avg day of death'] = 0"
      ],
      "execution_count": 45,
      "outputs": []
    },
    {
      "cell_type": "code",
      "metadata": {
        "id": "tVfbQcLKMrb-"
      },
      "source": [
        "# setting the first day as the first row in Avg day of death\n",
        "df.loc[df.groupby('state')['date'].head(1).index, 'Avg day of death'] = df.loc[:,'Day']"
      ],
      "execution_count": 46,
      "outputs": []
    },
    {
      "cell_type": "code",
      "metadata": {
        "id": "b2p9hNrBVmOM"
      },
      "source": [
        "# creating the CDF Column\n",
        "df['cdf_cases'] = df['Cases']"
      ],
      "execution_count": 47,
      "outputs": []
    },
    {
      "cell_type": "code",
      "metadata": {
        "id": "AI0g8MKT3-BT"
      },
      "source": [
        "# creating the cdf column\n",
        "df['cdf_deaths'] = df['Deaths']"
      ],
      "execution_count": 48,
      "outputs": []
    },
    {
      "cell_type": "code",
      "metadata": {
        "id": "nHSztNOFRWGc"
      },
      "source": [
        "# creating the formula for the CDF column\n",
        "df.loc[:,'cdf_cases':] = df.loc[:,'cdf_cases':].div(df.iloc[-1]['cdf_cases':])\n",
        "df = df.reset_index()"
      ],
      "execution_count": 49,
      "outputs": []
    },
    {
      "cell_type": "code",
      "metadata": {
        "id": "K0oCI3O3M-tS"
      },
      "source": [
        "# creating the formula for the CDF column\n",
        "df['cdf_deaths'] = df.loc[:,'cdf_deaths':].div(df.iloc[-1]['cdf_deaths':])"
      ],
      "execution_count": 50,
      "outputs": []
    },
    {
      "cell_type": "code",
      "metadata": {
        "id": "-g7lyfVxEF_u"
      },
      "source": [
        "# calulating Avgerage day of case\n",
        "for i in range(1, len(df)):\n",
        "  x = (((df.loc[i, 'Cases'] - df.loc[i-1, 'Cases']) * (df.loc[i, 'Day']- df.loc[i-1, 'Avg day of case'])) / (df.loc[i, 'Cases'])) + (df.loc[i-1, 'Avg day of case'])\n",
        "  df.loc[i, 'Avg day of case'] = round(x, 2)\n"
      ],
      "execution_count": 51,
      "outputs": []
    },
    {
      "cell_type": "code",
      "metadata": {
        "id": "Ms3qNF6YGvAY"
      },
      "source": [
        "# calulating Avgerage day of death\n",
        "for i in range(1, len(df)):\n",
        "  x = (((df.loc[i, 'Deaths'] - df.loc[i-1, 'Deaths']) * (df.loc[i, 'Day']- df.loc[i-1, 'Avg day of death'])) / (df.loc[i, 'Deaths'])) + (df.loc[i-1, 'Avg day of death'])\n",
        "  df.loc[i, 'Avg day of death'] = round(x, 2)"
      ],
      "execution_count": 52,
      "outputs": []
    },
    {
      "cell_type": "code",
      "metadata": {
        "id": "McfYTTfVJLPP"
      },
      "source": [
        "# dropping null values for deaths\n",
        "df = df.dropna()"
      ],
      "execution_count": 53,
      "outputs": []
    },
    {
      "cell_type": "code",
      "metadata": {
        "id": "3YI3NiRpBzf_"
      },
      "source": [
        "# avg death day - avg case day\n",
        "df['Avg Death Day - Avg Case Day'] = df['Avg day of death'] - df['Avg day of case'] "
      ],
      "execution_count": 54,
      "outputs": []
    },
    {
      "cell_type": "code",
      "metadata": {
        "id": "0Ymb3MlgCzhz"
      },
      "source": [
        "# avg day of case/ current day\n",
        "df['Avg Day of Case/ Current Day'] = df['Avg day of case'] / df['Day']"
      ],
      "execution_count": 55,
      "outputs": []
    },
    {
      "cell_type": "code",
      "metadata": {
        "id": "j1LpK--RDwnS"
      },
      "source": [
        "# avg death day/current day\n",
        "df['Avg Day of Death/ Current Day'] = df['Avg day of death'] / df['Day']"
      ],
      "execution_count": 56,
      "outputs": []
    },
    {
      "cell_type": "code",
      "metadata": {
        "id": "S84cKJx4JwAX"
      },
      "source": [
        "# converting to datetime\n",
        "df.date = pd.to_datetime(df.date)"
      ],
      "execution_count": 57,
      "outputs": []
    },
    {
      "cell_type": "markdown",
      "metadata": {
        "id": "qFVmnykfZj3i"
      },
      "source": [
        "**Framework for hospital data**"
      ]
    },
    {
      "cell_type": "code",
      "metadata": {
        "id": "GQzH1eCToPh2"
      },
      "source": [
        "# loading in the data\n",
        "\n",
        "hospitalizationdf = pd.read_csv('https://healthdata.gov/api/views/g62h-syeh/rows.csv?accessType=DOWNLOAD')"
      ],
      "execution_count": 58,
      "outputs": []
    },
    {
      "cell_type": "code",
      "metadata": {
        "id": "CZlDbvRBoSa7"
      },
      "source": [
        "# slicing the df\n",
        "hospitalizationdf = hospitalizationdf.loc[:,['state','date','previous_day_admission_adult_covid_confirmed','previous_day_admission_adult_covid_suspected','previous_day_admission_pediatric_covid_confirmed','previous_day_admission_pediatric_covid_suspected']]"
      ],
      "execution_count": 59,
      "outputs": []
    },
    {
      "cell_type": "code",
      "metadata": {
        "id": "hGRubLe4oums"
      },
      "source": [
        "# setting the state through user input\n",
        "hospitalizationdf = hospitalizationdf[hospitalizationdf.state == userinput]"
      ],
      "execution_count": 60,
      "outputs": []
    },
    {
      "cell_type": "code",
      "metadata": {
        "id": "kJ_q9yl0pmZQ"
      },
      "source": [
        "# setting to datetime \n",
        "hospitalizationdf.date = pd.to_datetime(hospitalizationdf.date)"
      ],
      "execution_count": 61,
      "outputs": []
    },
    {
      "cell_type": "code",
      "metadata": {
        "id": "iqc7rOlyqRm4"
      },
      "source": [
        "# sorting the data\n",
        "hospitalizationdf = hospitalizationdf.sort_values(by = 'date')"
      ],
      "execution_count": 62,
      "outputs": []
    },
    {
      "cell_type": "code",
      "metadata": {
        "id": "QmqDon9PqqC-"
      },
      "source": [
        "# resetting the index\n",
        "hospitalizationdf = hospitalizationdf.reset_index(drop = True)"
      ],
      "execution_count": 63,
      "outputs": []
    },
    {
      "cell_type": "code",
      "metadata": {
        "id": "WmoJ4rlj6VAs"
      },
      "source": [
        "# starting the date at 03-01-2020\n",
        "hospitalizationdf = hospitalizationdf[hospitalizationdf['date'] >= '03-01-2020']"
      ],
      "execution_count": 64,
      "outputs": []
    },
    {
      "cell_type": "code",
      "metadata": {
        "id": "qkbPINfV6YLi"
      },
      "source": [
        "# making sure the date is greater than 0\n",
        "hospitalizationdf = hospitalizationdf [(hospitalizationdf.previous_day_admission_adult_covid_confirmed >0)& (hospitalizationdf.previous_day_admission_adult_covid_suspected >0) & (hospitalizationdf.previous_day_admission_pediatric_covid_confirmed >0) & (hospitalizationdf.previous_day_admission_pediatric_covid_suspected>0)]"
      ],
      "execution_count": 65,
      "outputs": []
    },
    {
      "cell_type": "code",
      "metadata": {
        "id": "3ZrCYpiL6aEp"
      },
      "source": [
        "# resetting the index\n",
        "hospitalizationdf = hospitalizationdf.reset_index(drop = True)"
      ],
      "execution_count": 66,
      "outputs": []
    },
    {
      "cell_type": "code",
      "metadata": {
        "id": "lW3KmspQ070G"
      },
      "source": [
        "# making the data cumulative \n",
        "for i in range(1,len(hospitalizationdf)):\n",
        "  x = hospitalizationdf.loc[i,'previous_day_admission_adult_covid_confirmed'] + hospitalizationdf.loc[i-1,'previous_day_admission_adult_covid_confirmed']\n",
        "  hospitalizationdf.loc[i,'previous_day_admission_adult_covid_confirmed'] = x"
      ],
      "execution_count": 67,
      "outputs": []
    },
    {
      "cell_type": "code",
      "metadata": {
        "id": "W1xY6T3j2Gf8"
      },
      "source": [
        "# making the data cumulative \n",
        "for i in range(1,len(hospitalizationdf)):\n",
        "  x = hospitalizationdf.loc[i,'previous_day_admission_adult_covid_suspected'] + hospitalizationdf.loc[i-1,'previous_day_admission_adult_covid_suspected']\n",
        "  hospitalizationdf.loc[i,'previous_day_admission_adult_covid_suspected'] = x"
      ],
      "execution_count": 68,
      "outputs": []
    },
    {
      "cell_type": "code",
      "metadata": {
        "id": "lkM9OKpoBANs"
      },
      "source": [
        "# making the data cumulative \n",
        "for i in range(1,len(hospitalizationdf)):\n",
        "  x = hospitalizationdf.loc[i,'previous_day_admission_pediatric_covid_confirmed'] + hospitalizationdf.loc[i-1,'previous_day_admission_pediatric_covid_confirmed']\n",
        "  hospitalizationdf.loc[i,'previous_day_admission_pediatric_covid_confirmed'] = x"
      ],
      "execution_count": 69,
      "outputs": []
    },
    {
      "cell_type": "code",
      "metadata": {
        "id": "egM5dj21BseL"
      },
      "source": [
        "# making the data cumulative \n",
        "for i in range(1,len(hospitalizationdf)):\n",
        "  x = hospitalizationdf.loc[i,'previous_day_admission_pediatric_covid_suspected'] + hospitalizationdf.loc[i-1,'previous_day_admission_pediatric_covid_suspected']\n",
        "  hospitalizationdf.loc[i,'previous_day_admission_pediatric_covid_suspected'] = x"
      ],
      "execution_count": 70,
      "outputs": []
    },
    {
      "cell_type": "code",
      "metadata": {
        "id": "QvR7jWsWB20p"
      },
      "source": [
        "# adding up all the data \n",
        "hospitalizationdf['hospitalized_cumulative'] = hospitalizationdf.previous_day_admission_adult_covid_confirmed + hospitalizationdf.previous_day_admission_adult_covid_suspected + hospitalizationdf.previous_day_admission_pediatric_covid_confirmed + hospitalizationdf.previous_day_admission_pediatric_covid_suspected"
      ],
      "execution_count": 71,
      "outputs": []
    },
    {
      "cell_type": "code",
      "metadata": {
        "id": "XdvrLIHyJOCY"
      },
      "source": [
        "# cleaning the data \n",
        "hospitalizationdf = hospitalizationdf.drop(columns = ['previous_day_admission_adult_covid_confirmed','previous_day_admission_adult_covid_suspected','previous_day_admission_pediatric_covid_confirmed','previous_day_admission_pediatric_covid_suspected'])"
      ],
      "execution_count": 72,
      "outputs": []
    },
    {
      "cell_type": "code",
      "metadata": {
        "id": "Kc0n--on6ccQ"
      },
      "source": [
        "# merging the two dataframes together\n",
        "df = df.merge(hospitalizationdf, on ='date')"
      ],
      "execution_count": 73,
      "outputs": []
    },
    {
      "cell_type": "code",
      "metadata": {
        "id": "2rtbCncTLvNY"
      },
      "source": [
        "# cleaning data\n",
        "df = df.drop(columns='state_y')"
      ],
      "execution_count": 74,
      "outputs": []
    },
    {
      "cell_type": "code",
      "metadata": {
        "id": "Q-JQB86K6fVn"
      },
      "source": [
        "# cleaning data \n",
        "df['state'] = df['state_x']"
      ],
      "execution_count": 75,
      "outputs": []
    },
    {
      "cell_type": "code",
      "metadata": {
        "id": "FbYP0dPw6g3J"
      },
      "source": [
        "# cleaning data\n",
        "df = df.drop(columns = 'state_x')"
      ],
      "execution_count": 76,
      "outputs": []
    },
    {
      "cell_type": "code",
      "metadata": {
        "id": "AHiEQ7E86iOM"
      },
      "source": [
        "# creating the cdf column\n",
        "df['cdf_hospitalized'] = df['hospitalized_cumulative']"
      ],
      "execution_count": 77,
      "outputs": []
    },
    {
      "cell_type": "code",
      "metadata": {
        "id": "dZMzNd3R--Y1"
      },
      "source": [
        "# creating the formula for the CDF column\n",
        "df.loc[:,'cdf_hospitalized':] = df.loc[:,'cdf_hospitalized':].div(df.iloc[-1]['cdf_hospitalized':])\n",
        "df = df.reset_index(drop= True)"
      ],
      "execution_count": 78,
      "outputs": []
    },
    {
      "cell_type": "code",
      "metadata": {
        "id": "ggK3rkuB9SaQ"
      },
      "source": [
        "# creating avg day of hospitalization\n",
        "df['Avg day of hospitalization'] = 0"
      ],
      "execution_count": 79,
      "outputs": []
    },
    {
      "cell_type": "code",
      "metadata": {
        "id": "uI0rO8qCQa0y"
      },
      "source": [
        "# setting the first day of avg hospitalizations to the first day\n",
        "df.loc[0,'Avg day of hospitalization'] = df.loc[0,'Day']"
      ],
      "execution_count": 80,
      "outputs": []
    },
    {
      "cell_type": "code",
      "metadata": {
        "id": "H-dALOuz6jfT"
      },
      "source": [
        "# calulating Avgerage day of Hospitalization\n",
        "for i in range(1, len(df)):\n",
        "  x = (((df.loc[i, 'hospitalized_cumulative'] - df.loc[i-1, 'hospitalized_cumulative']) * (df.loc[i, 'Day']- df.loc[i-1, 'Avg day of hospitalization'])) / (df.loc[i, 'hospitalized_cumulative'])) + (df.loc[i-1, 'Avg day of hospitalization'])\n",
        "  df.loc[i, 'Avg day of hospitalization'] = round(x, 2)"
      ],
      "execution_count": 81,
      "outputs": []
    },
    {
      "cell_type": "code",
      "metadata": {
        "id": "vx9v7pFS6k5T"
      },
      "source": [
        "# avg hospitalization day vs case day\n",
        "df['Avg Hospitalization Day - Avg Case Day'] = df['Avg day of hospitalization'] - df['Avg day of case']  "
      ],
      "execution_count": 82,
      "outputs": []
    },
    {
      "cell_type": "code",
      "metadata": {
        "id": "y8F6Bc__6mn6"
      },
      "source": [
        "# avg hospitalization/ current day\n",
        "df['Avg Day of Hospitalization/ Current Day'] = df['Avg day of hospitalization'] /df['Day']"
      ],
      "execution_count": 83,
      "outputs": []
    },
    {
      "cell_type": "code",
      "metadata": {
        "id": "MH0XTr9H6noq"
      },
      "source": [
        "# cleaning dataframe\n",
        "df = df.loc[:,['date','state','Deaths','Cases','hospitalized_cumulative','Day','Avg day of case','Avg day of death','Avg day of hospitalization','Avg Death Day - Avg Case Day','Avg Hospitalization Day - Avg Case Day','Avg Day of Case/ Current Day','Avg Day of Death/ Current Day','Avg Day of Hospitalization/ Current Day','cdf_cases','cdf_deaths','cdf_hospitalized']]"
      ],
      "execution_count": 84,
      "outputs": []
    },
    {
      "cell_type": "code",
      "metadata": {
        "colab": {
          "base_uri": "https://localhost:8080/",
          "height": 640
        },
        "id": "M51RnOQZhxaC",
        "outputId": "579a91e2-cf0c-4f7b-9f9a-849bfa280cdb"
      },
      "source": [
        "df"
      ],
      "execution_count": 85,
      "outputs": [
        {
          "output_type": "execute_result",
          "data": {
            "text/html": [
              "<div>\n",
              "<style scoped>\n",
              "    .dataframe tbody tr th:only-of-type {\n",
              "        vertical-align: middle;\n",
              "    }\n",
              "\n",
              "    .dataframe tbody tr th {\n",
              "        vertical-align: top;\n",
              "    }\n",
              "\n",
              "    .dataframe thead th {\n",
              "        text-align: right;\n",
              "    }\n",
              "</style>\n",
              "<table border=\"1\" class=\"dataframe\">\n",
              "  <thead>\n",
              "    <tr style=\"text-align: right;\">\n",
              "      <th></th>\n",
              "      <th>date</th>\n",
              "      <th>state</th>\n",
              "      <th>Deaths</th>\n",
              "      <th>Cases</th>\n",
              "      <th>hospitalized_cumulative</th>\n",
              "      <th>Day</th>\n",
              "      <th>Avg day of case</th>\n",
              "      <th>Avg day of death</th>\n",
              "      <th>Avg day of hospitalization</th>\n",
              "      <th>Avg Death Day - Avg Case Day</th>\n",
              "      <th>Avg Hospitalization Day - Avg Case Day</th>\n",
              "      <th>Avg Day of Case/ Current Day</th>\n",
              "      <th>Avg Day of Death/ Current Day</th>\n",
              "      <th>Avg Day of Hospitalization/ Current Day</th>\n",
              "      <th>cdf_cases</th>\n",
              "      <th>cdf_deaths</th>\n",
              "      <th>cdf_hospitalized</th>\n",
              "    </tr>\n",
              "  </thead>\n",
              "  <tbody>\n",
              "    <tr>\n",
              "      <th>0</th>\n",
              "      <td>2020-07-15</td>\n",
              "      <td>CA</td>\n",
              "      <td>7227</td>\n",
              "      <td>1816000.0</td>\n",
              "      <td>983.0</td>\n",
              "      <td>137.0</td>\n",
              "      <td>92.92</td>\n",
              "      <td>85.36</td>\n",
              "      <td>137.00</td>\n",
              "      <td>-7.56</td>\n",
              "      <td>44.08</td>\n",
              "      <td>0.678248</td>\n",
              "      <td>0.623066</td>\n",
              "      <td>1.000000</td>\n",
              "      <td>0.174918</td>\n",
              "      <td>0.147174</td>\n",
              "      <td>0.00287651</td>\n",
              "    </tr>\n",
              "    <tr>\n",
              "      <th>1</th>\n",
              "      <td>2020-07-16</td>\n",
              "      <td>CA</td>\n",
              "      <td>7345</td>\n",
              "      <td>1846200.0</td>\n",
              "      <td>2030.0</td>\n",
              "      <td>138.0</td>\n",
              "      <td>93.66</td>\n",
              "      <td>86.21</td>\n",
              "      <td>137.52</td>\n",
              "      <td>-7.45</td>\n",
              "      <td>43.86</td>\n",
              "      <td>0.678696</td>\n",
              "      <td>0.624710</td>\n",
              "      <td>0.996522</td>\n",
              "      <td>0.177827</td>\n",
              "      <td>0.149577</td>\n",
              "      <td>0.00594031</td>\n",
              "    </tr>\n",
              "    <tr>\n",
              "      <th>2</th>\n",
              "      <td>2020-07-17</td>\n",
              "      <td>CA</td>\n",
              "      <td>7475</td>\n",
              "      <td>1875060.0</td>\n",
              "      <td>3145.0</td>\n",
              "      <td>139.0</td>\n",
              "      <td>94.36</td>\n",
              "      <td>87.13</td>\n",
              "      <td>138.04</td>\n",
              "      <td>-7.23</td>\n",
              "      <td>43.68</td>\n",
              "      <td>0.678849</td>\n",
              "      <td>0.626835</td>\n",
              "      <td>0.993094</td>\n",
              "      <td>0.180607</td>\n",
              "      <td>0.152225</td>\n",
              "      <td>0.00920309</td>\n",
              "    </tr>\n",
              "    <tr>\n",
              "      <th>3</th>\n",
              "      <td>2020-07-18</td>\n",
              "      <td>CA</td>\n",
              "      <td>7595</td>\n",
              "      <td>1902750.0</td>\n",
              "      <td>4192.0</td>\n",
              "      <td>140.0</td>\n",
              "      <td>95.02</td>\n",
              "      <td>87.97</td>\n",
              "      <td>138.53</td>\n",
              "      <td>-7.05</td>\n",
              "      <td>43.51</td>\n",
              "      <td>0.678714</td>\n",
              "      <td>0.628357</td>\n",
              "      <td>0.989500</td>\n",
              "      <td>0.183274</td>\n",
              "      <td>0.154669</td>\n",
              "      <td>0.0122669</td>\n",
              "    </tr>\n",
              "    <tr>\n",
              "      <th>4</th>\n",
              "      <td>2020-07-19</td>\n",
              "      <td>CA</td>\n",
              "      <td>7685</td>\n",
              "      <td>1929320.0</td>\n",
              "      <td>4972.0</td>\n",
              "      <td>141.0</td>\n",
              "      <td>95.65</td>\n",
              "      <td>88.59</td>\n",
              "      <td>138.92</td>\n",
              "      <td>-7.06</td>\n",
              "      <td>43.27</td>\n",
              "      <td>0.678369</td>\n",
              "      <td>0.628298</td>\n",
              "      <td>0.985248</td>\n",
              "      <td>0.185833</td>\n",
              "      <td>0.156501</td>\n",
              "      <td>0.0145494</td>\n",
              "    </tr>\n",
              "    <tr>\n",
              "      <th>...</th>\n",
              "      <td>...</td>\n",
              "      <td>...</td>\n",
              "      <td>...</td>\n",
              "      <td>...</td>\n",
              "      <td>...</td>\n",
              "      <td>...</td>\n",
              "      <td>...</td>\n",
              "      <td>...</td>\n",
              "      <td>...</td>\n",
              "      <td>...</td>\n",
              "      <td>...</td>\n",
              "      <td>...</td>\n",
              "      <td>...</td>\n",
              "      <td>...</td>\n",
              "      <td>...</td>\n",
              "      <td>...</td>\n",
              "      <td>...</td>\n",
              "    </tr>\n",
              "    <tr>\n",
              "      <th>216</th>\n",
              "      <td>2021-02-17</td>\n",
              "      <td>CA</td>\n",
              "      <td>47507</td>\n",
              "      <td>10344200.0</td>\n",
              "      <td>337106.0</td>\n",
              "      <td>354.0</td>\n",
              "      <td>241.34</td>\n",
              "      <td>253.69</td>\n",
              "      <td>262.87</td>\n",
              "      <td>12.35</td>\n",
              "      <td>21.53</td>\n",
              "      <td>0.681751</td>\n",
              "      <td>0.716638</td>\n",
              "      <td>0.742571</td>\n",
              "      <td>0.996359</td>\n",
              "      <td>0.967457</td>\n",
              "      <td>0.98646</td>\n",
              "    </tr>\n",
              "    <tr>\n",
              "      <th>217</th>\n",
              "      <td>2021-02-18</td>\n",
              "      <td>CA</td>\n",
              "      <td>47924</td>\n",
              "      <td>10354000.0</td>\n",
              "      <td>338369.0</td>\n",
              "      <td>355.0</td>\n",
              "      <td>241.45</td>\n",
              "      <td>254.57</td>\n",
              "      <td>263.21</td>\n",
              "      <td>13.12</td>\n",
              "      <td>21.76</td>\n",
              "      <td>0.680141</td>\n",
              "      <td>0.717099</td>\n",
              "      <td>0.741437</td>\n",
              "      <td>0.997303</td>\n",
              "      <td>0.975949</td>\n",
              "      <td>0.990156</td>\n",
              "    </tr>\n",
              "    <tr>\n",
              "      <th>218</th>\n",
              "      <td>2021-02-19</td>\n",
              "      <td>CA</td>\n",
              "      <td>48344</td>\n",
              "      <td>10363500.0</td>\n",
              "      <td>339573.0</td>\n",
              "      <td>356.0</td>\n",
              "      <td>241.56</td>\n",
              "      <td>255.45</td>\n",
              "      <td>263.54</td>\n",
              "      <td>13.89</td>\n",
              "      <td>21.98</td>\n",
              "      <td>0.678539</td>\n",
              "      <td>0.717556</td>\n",
              "      <td>0.740281</td>\n",
              "      <td>0.998218</td>\n",
              "      <td>0.984503</td>\n",
              "      <td>0.993679</td>\n",
              "    </tr>\n",
              "    <tr>\n",
              "      <th>219</th>\n",
              "      <td>2021-02-20</td>\n",
              "      <td>CA</td>\n",
              "      <td>48825</td>\n",
              "      <td>10372900.0</td>\n",
              "      <td>340719.0</td>\n",
              "      <td>357.0</td>\n",
              "      <td>241.66</td>\n",
              "      <td>256.45</td>\n",
              "      <td>263.85</td>\n",
              "      <td>14.79</td>\n",
              "      <td>22.19</td>\n",
              "      <td>0.676919</td>\n",
              "      <td>0.718347</td>\n",
              "      <td>0.739076</td>\n",
              "      <td>0.999123</td>\n",
              "      <td>0.994298</td>\n",
              "      <td>0.997033</td>\n",
              "    </tr>\n",
              "    <tr>\n",
              "      <th>220</th>\n",
              "      <td>2021-02-21</td>\n",
              "      <td>CA</td>\n",
              "      <td>49105</td>\n",
              "      <td>10382000.0</td>\n",
              "      <td>341733.0</td>\n",
              "      <td>358.0</td>\n",
              "      <td>241.76</td>\n",
              "      <td>257.03</td>\n",
              "      <td>264.13</td>\n",
              "      <td>15.27</td>\n",
              "      <td>22.37</td>\n",
              "      <td>0.675307</td>\n",
              "      <td>0.717961</td>\n",
              "      <td>0.737793</td>\n",
              "      <td>1</td>\n",
              "      <td>1</td>\n",
              "      <td>1</td>\n",
              "    </tr>\n",
              "  </tbody>\n",
              "</table>\n",
              "<p>221 rows × 17 columns</p>\n",
              "</div>"
            ],
            "text/plain": [
              "          date state  Deaths  ...  cdf_cases  cdf_deaths  cdf_hospitalized\n",
              "0   2020-07-15    CA    7227  ...   0.174918    0.147174        0.00287651\n",
              "1   2020-07-16    CA    7345  ...   0.177827    0.149577        0.00594031\n",
              "2   2020-07-17    CA    7475  ...   0.180607    0.152225        0.00920309\n",
              "3   2020-07-18    CA    7595  ...   0.183274    0.154669         0.0122669\n",
              "4   2020-07-19    CA    7685  ...   0.185833    0.156501         0.0145494\n",
              "..         ...   ...     ...  ...        ...         ...               ...\n",
              "216 2021-02-17    CA   47507  ...   0.996359    0.967457           0.98646\n",
              "217 2021-02-18    CA   47924  ...   0.997303    0.975949          0.990156\n",
              "218 2021-02-19    CA   48344  ...   0.998218    0.984503          0.993679\n",
              "219 2021-02-20    CA   48825  ...   0.999123    0.994298          0.997033\n",
              "220 2021-02-21    CA   49105  ...          1           1                 1\n",
              "\n",
              "[221 rows x 17 columns]"
            ]
          },
          "metadata": {
            "tags": []
          },
          "execution_count": 85
        }
      ]
    },
    {
      "cell_type": "markdown",
      "metadata": {
        "id": "sOHA96bdFFo3"
      },
      "source": [
        "**Statistics**"
      ]
    },
    {
      "cell_type": "code",
      "metadata": {
        "id": "B84iVqT-FMOM"
      },
      "source": [
        "# framework for statistics\n",
        "averagedayofcase = df['Avg day of case'].iloc[-1]\n",
        "averagedayofdeath = df['Avg day of death'].iloc[-1]\n",
        "differDeaths = df['Avg Death Day - Avg Case Day'].max()\n",
        "differCases= -df['Avg Death Day - Avg Case Day'].min()\n",
        "differhospitalizations = df['Avg Hospitalization Day - Avg Case Day'].max()\n",
        "differhospitalizations1 = -df['Avg Hospitalization Day - Avg Case Day'].min()"
      ],
      "execution_count": 86,
      "outputs": []
    },
    {
      "cell_type": "code",
      "metadata": {
        "colab": {
          "base_uri": "https://localhost:8080/"
        },
        "id": "n3MUHKhtMQLX",
        "outputId": "ae42198d-015a-4483-c17d-ba920e3d3b04"
      },
      "source": [
        "print('COVID-19 STATISTICS')\n",
        "print('')\n",
        "print('State = ', df.state.iloc[-1])\n",
        "print('Average Day of Death and Average Day of Case as of',df['date'].iloc[-1])\n",
        "print('Case =', averagedayofcase)\n",
        "print('Death = ', averagedayofdeath)\n",
        "print('Days When Average Dates of Death Differ By Largest Amounts')\n",
        "print('Death Day – Case Day =', differDeaths)\n",
        "print('Case Day - Death Day =',differCases)\n",
        "print('Case Day - Hospitalization day = ',differhospitalizations)\n",
        "print('Hospialization Day - Case Day =', differhospitalizations1) "
      ],
      "execution_count": 87,
      "outputs": [
        {
          "output_type": "stream",
          "text": [
            "COVID-19 STATISTICS\n",
            "\n",
            "State =  CA\n",
            "Average Day of Death and Average Day of Case as of 2021-02-21 00:00:00\n",
            "Case = 241.76\n",
            "Death =  257.03\n",
            "Days When Average Dates of Death Differ By Largest Amounts\n",
            "Death Day – Case Day = 15.269999999999982\n",
            "Case Day - Death Day = 37.139999999999986\n",
            "Case Day - Hospitalization day =  51.47\n",
            "Hospialization Day - Case Day = -11.079999999999984\n"
          ],
          "name": "stdout"
        }
      ]
    },
    {
      "cell_type": "markdown",
      "metadata": {
        "id": "QjKUIo_rRc43"
      },
      "source": [
        "**Data Visualization**"
      ]
    },
    {
      "cell_type": "code",
      "metadata": {
        "colab": {
          "base_uri": "https://localhost:8080/",
          "height": 1000
        },
        "id": "1tU4ZIveysMy",
        "outputId": "6c9610fe-4d6f-468a-a587-b37413d26ccf"
      },
      "source": [
        "# ratio avg Day of Event/current Date Graph\n",
        "df.plot(x= 'Day',y = ['Avg Day of Case/ Current Day','Avg Day of Death/ Current Day','Avg Day of Hospitalization/ Current Day'],title = 'Ratio of Average Day of Event to Current Date', ylabel = 'Ratio')\n",
        "# avg hospitalization day - avg case day\n",
        "df.plot(x = 'Day', y=['Avg Death Day - Avg Case Day','Avg Hospitalization Day - Avg Case Day'],title = 'Avg Death Day - Avg Case Day, Avg Hospitalization Day - Avg Case Day',ylabel = 'Difference in Days')\n",
        "# avg Day of Case/Death/Hospitalization\n",
        "df.plot(x = 'Day', y= ['Avg day of case','Avg day of death','Avg day of hospitalization'],title = 'Average Day, Case,Death,Hospitalization, as of Date Day 1 = March 1, 2020', ylabel = 'Average Day of Case or Death')\n",
        "# CDF\n",
        "df.plot( x= 'Day', y= ['cdf_cases','cdf_deaths','cdf_hospitalized'],title = 'Cumulative Probability Distribution, Days of Cases,Deaths,Hospitalization', ylabel = 'Cumulative Probability')\n",
        "\n",
        "plt.style.use('seaborn')"
      ],
      "execution_count": 93,
      "outputs": [
        {
          "output_type": "display_data",
          "data": {
            "image/png": "[encoded data removed]",
            "text/plain": [
              "<Figure size 576x396 with 1 Axes>"
            ]
          },
          "metadata": {
            "tags": []
          }
        },
        {
          "output_type": "display_data",
          "data": {
            "image/png": "[encoded data removed]",
            "text/plain": [
              "<Figure size 576x396 with 1 Axes>"
            ]
          },
          "metadata": {
            "tags": []
          }
        },
        {
          "output_type": "display_data",
          "data": {
            "image/png": "[encoded data removed]",
            "text/plain": [
              "<Figure size 576x396 with 1 Axes>"
            ]
          },
          "metadata": {
            "tags": []
          }
        },
        {
          "output_type": "display_data",
          "data": {
            "image/png": "[encoded data removed]",
            "text/plain": [
              "<Figure size 576x396 with 1 Axes>"
            ]
          },
          "metadata": {
            "tags": []
          }
        }
      ]
    }
  ]
}