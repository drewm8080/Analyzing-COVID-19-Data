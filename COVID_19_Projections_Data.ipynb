{
  "nbformat": 4,
  "nbformat_minor": 0,
  "metadata": {
    "colab": {
      "name": "COVID_19 Projections Data",
      "provenance": [],
      "collapsed_sections": []
    },
    "kernelspec": {
      "display_name": "Python 3",
      "name": "python3"
    }
  },
  "cells": [
    {
      "cell_type": "markdown",
      "metadata": {
        "id": "CdqSuoT0SwiZ"
      },
      "source": [
        "**User Input Here**"
      ]
    },
    {
      "cell_type": "code",
      "metadata": {
        "colab": {
          "base_uri": "https://localhost:8080/"
        },
        "id": "kXOx7TzxS6-J",
        "outputId": "3e4327af-66ed-44ff-b853-21f043de3394"
      },
      "source": [
        "print('Welcome to the COVID-19_Projections Statistics')\n",
        "print('')\n",
        "print('Please tell me which state you would like to see. No spaces,acronoym only and all caps. Example: FL for Florida and AL for Alabama')\n",
        "print('states/territories not available: CA,DC,DE,IA,IL,LA,MI,MO,NC,NV,PA,TX,VT,WV')\n",
        "userinput = input('Please put state here:')"
      ],
      "execution_count": null,
      "outputs": [
        {
          "output_type": "stream",
          "text": [
            "Welcome to the COVID-19 Projections Statistics\n",
            "\n",
            "Please tell me which state you would like to see. No spaces,acronoym only and all caps. Example: FL for Florida and AL for Alabama\n",
            "states/territories not available: CA,DC,DE,IA,IL,LA,MI,MO,NC,NV,PA,TX,VT,WV\n",
            "Please put state here:FL\n"
          ],
          "name": "stdout"
        }
      ]
    },
    {
      "cell_type": "markdown",
      "metadata": {
        "id": "lx4KMgyyGjHL"
      },
      "source": [
        "**Framework for Cases and Deaths from Covid_Projections**\n",
        "\n"
      ]
    },
    {
      "cell_type": "code",
      "metadata": {
        "id": "1l3ogsUIrrln"
      },
      "source": [
        "# Might need this cell if your data does not download directly from the URL\n",
        "#!pip install fsspec\n",
        "#!pip install pandas"
      ],
      "execution_count": null,
      "outputs": []
    },
    {
      "cell_type": "code",
      "metadata": {
        "id": "odDxDul0QhhT"
      },
      "source": [
        "import pandas as pd\n",
        "import numpy as np \n",
        "import matplotlib.pyplot as plt"
      ],
      "execution_count": null,
      "outputs": []
    },
    {
      "cell_type": "code",
      "metadata": {
        "id": "2zkKJQ59RLuy"
      },
      "source": [
        "# Grabbing the Data\n",
        "url = 'https://github.com/youyanggu/covid19-infection-estimates-latest/raw/main/latest_all_estimates_states.csv'\n",
        "df = pd.read_csv(url)"
      ],
      "execution_count": null,
      "outputs": []
    },
    {
      "cell_type": "code",
      "metadata": {
        "id": "5FVLVyblhEiP"
      },
      "source": [
        "#indexing the data\n",
        "df = df.loc[:,['date','state','total_deaths','total_infected_mean']]\n"
      ],
      "execution_count": null,
      "outputs": []
    },
    {
      "cell_type": "code",
      "metadata": {
        "id": "j45FvAsmf7j2"
      },
      "source": [
        "#converting to datetime \n",
        "df['date'] = pd.to_datetime(df['date'])"
      ],
      "execution_count": null,
      "outputs": []
    },
    {
      "cell_type": "code",
      "metadata": {
        "id": "vW18NRm4gGN8"
      },
      "source": [
        "#renaming the columns\n",
        "df['Deaths'] = df['total_deaths']\n",
        "df['Cases'] = df['total_infected_mean']\n",
        "df = df.drop(columns=['total_deaths','total_infected_mean'])"
      ],
      "execution_count": null,
      "outputs": []
    },
    {
      "cell_type": "code",
      "metadata": {
        "id": "_owp9ek3DKrr"
      },
      "source": [
        "# Making sure the data starts March 1st \n",
        "df = df[df['date'] >= '03-01-2020']\n"
      ],
      "execution_count": null,
      "outputs": []
    },
    {
      "cell_type": "code",
      "metadata": {
        "id": "9SE-XfWOTs9O"
      },
      "source": [
        "# Dropping Null Values\n",
        "df = df.dropna()"
      ],
      "execution_count": null,
      "outputs": []
    },
    {
      "cell_type": "code",
      "metadata": {
        "id": "3unZO1iZ5YsC"
      },
      "source": [
        "# making creating the day column\n",
        "df['Day'] = df.groupby('state')['date'].rank(ascending=True)"
      ],
      "execution_count": null,
      "outputs": []
    },
    {
      "cell_type": "code",
      "metadata": {
        "id": "J0XzhLK-UYOr"
      },
      "source": [
        "df['Avg day of case'] = 0 # declaring new column\n",
        "df['Avg day of death'] = 0"
      ],
      "execution_count": null,
      "outputs": []
    },
    {
      "cell_type": "code",
      "metadata": {
        "id": "au8gCXbNUrHU"
      },
      "source": [
        "df.loc[df.groupby('state')['date'].head(1).index, 'Avg day of case'] = df.loc[:,'Day']"
      ],
      "execution_count": null,
      "outputs": []
    },
    {
      "cell_type": "code",
      "metadata": {
        "id": "PMsSS89bD7zC"
      },
      "source": [
        "# getting user input\n",
        "df = df[df['state'] == userinput]"
      ],
      "execution_count": null,
      "outputs": []
    },
    {
      "cell_type": "code",
      "metadata": {
        "id": "cg1z0sxtMIE4"
      },
      "source": [
        "#making sure it only calculate where the deaths >0\n",
        "df = df[df['Deaths'] > 0]"
      ],
      "execution_count": null,
      "outputs": []
    },
    {
      "cell_type": "code",
      "metadata": {
        "id": "NJAawBjpP2Xv"
      },
      "source": [
        "#creating a new column\n",
        "df['Avg day of death'] = 0"
      ],
      "execution_count": null,
      "outputs": []
    },
    {
      "cell_type": "code",
      "metadata": {
        "id": "tVfbQcLKMrb-"
      },
      "source": [
        "#Setting the first day as the first row in Avg day of death\n",
        "df.loc[df.groupby('state')['date'].head(1).index, 'Avg day of death'] = df.loc[:,'Day']"
      ],
      "execution_count": null,
      "outputs": []
    },
    {
      "cell_type": "code",
      "metadata": {
        "id": "b2p9hNrBVmOM"
      },
      "source": [
        "# creating the CDF Column\n",
        "df['cdf_cases'] = df['Cases']"
      ],
      "execution_count": null,
      "outputs": []
    },
    {
      "cell_type": "code",
      "metadata": {
        "id": "AI0g8MKT3-BT"
      },
      "source": [
        "#creating the cdf column\n",
        "df['cdf_deaths'] = df['Deaths']"
      ],
      "execution_count": null,
      "outputs": []
    },
    {
      "cell_type": "code",
      "metadata": {
        "id": "nHSztNOFRWGc"
      },
      "source": [
        "#creating the formula for the CDF column\n",
        "df.loc[:,'cdf_cases':] = df.loc[:,'cdf_cases':].div(df.iloc[-1]['cdf_cases':])\n",
        "df = df.reset_index()"
      ],
      "execution_count": null,
      "outputs": []
    },
    {
      "cell_type": "code",
      "metadata": {
        "id": "K0oCI3O3M-tS"
      },
      "source": [
        "#creating the formula for the CDF column\n",
        "df['cdf_deaths'] = df.loc[:,'cdf_deaths':].div(df.iloc[-1]['cdf_deaths':])"
      ],
      "execution_count": null,
      "outputs": []
    },
    {
      "cell_type": "code",
      "metadata": {
        "id": "-g7lyfVxEF_u"
      },
      "source": [
        "#Calulating Avgerage day of case\n",
        "for i in range(1, len(df)):\n",
        "  x = (((df.loc[i, 'Cases'] - df.loc[i-1, 'Cases']) * (df.loc[i, 'Day']- df.loc[i-1, 'Avg day of case'])) / (df.loc[i, 'Cases'])) + (df.loc[i-1, 'Avg day of case'])\n",
        "  df.loc[i, 'Avg day of case'] = round(x, 2)\n"
      ],
      "execution_count": null,
      "outputs": []
    },
    {
      "cell_type": "code",
      "metadata": {
        "id": "Ms3qNF6YGvAY"
      },
      "source": [
        "#Calulating Avgerage day of death\n",
        "for i in range(1, len(df)):\n",
        "  x = (((df.loc[i, 'Deaths'] - df.loc[i-1, 'Deaths']) * (df.loc[i, 'Day']- df.loc[i-1, 'Avg day of death'])) / (df.loc[i, 'Deaths'])) + (df.loc[i-1, 'Avg day of death'])\n",
        "  df.loc[i, 'Avg day of death'] = round(x, 2)"
      ],
      "execution_count": null,
      "outputs": []
    },
    {
      "cell_type": "code",
      "metadata": {
        "id": "McfYTTfVJLPP"
      },
      "source": [
        "#dropping null values for deaths\n",
        "df = df.dropna()"
      ],
      "execution_count": null,
      "outputs": []
    },
    {
      "cell_type": "code",
      "metadata": {
        "id": "3YI3NiRpBzf_"
      },
      "source": [
        "df['Avg Death Day - Avg Case Day'] = df['Avg day of death'] - df['Avg day of case'] "
      ],
      "execution_count": null,
      "outputs": []
    },
    {
      "cell_type": "code",
      "metadata": {
        "id": "0Ymb3MlgCzhz"
      },
      "source": [
        "df['Avg Day of Case/ Current Day'] = df['Avg day of case'] / df['Day']"
      ],
      "execution_count": null,
      "outputs": []
    },
    {
      "cell_type": "code",
      "metadata": {
        "id": "j1LpK--RDwnS"
      },
      "source": [
        "df['Avg Day of Death/ Current Day'] = df['Avg day of death'] / df['Day']"
      ],
      "execution_count": null,
      "outputs": []
    },
    {
      "cell_type": "code",
      "metadata": {
        "id": "S84cKJx4JwAX"
      },
      "source": [
        "# converting to datetime\n",
        "df.date = pd.to_datetime(df.date)"
      ],
      "execution_count": null,
      "outputs": []
    },
    {
      "cell_type": "markdown",
      "metadata": {
        "id": "qFVmnykfZj3i"
      },
      "source": [
        "**Framework for hospital data**"
      ]
    },
    {
      "cell_type": "code",
      "metadata": {
        "id": "L0TtFswaZjoI"
      },
      "source": [
        "# downloading the data\n",
        "url = 'https://covidtracking.com/data/download/all-states-history.csv'"
      ],
      "execution_count": null,
      "outputs": []
    },
    {
      "cell_type": "code",
      "metadata": {
        "id": "8cKe-m7kaa2N"
      },
      "source": [
        "# saving to a df\n",
        "hospitalizationdf = pd.read_csv(url)"
      ],
      "execution_count": null,
      "outputs": []
    },
    {
      "cell_type": "code",
      "metadata": {
        "id": "4U7rEdcta7m6"
      },
      "source": [
        "#indexing column\n",
        "hospitalizationdf = hospitalizationdf.loc[:,['state','date','hospitalizedCumulative']]"
      ],
      "execution_count": null,
      "outputs": []
    },
    {
      "cell_type": "code",
      "metadata": {
        "id": "1hMoRA_2bejm"
      },
      "source": [
        "#changing to datetime \n",
        "hospitalizationdf.date = pd.to_datetime(hospitalizationdf.date)"
      ],
      "execution_count": null,
      "outputs": []
    },
    {
      "cell_type": "code",
      "metadata": {
        "id": "MuL6yZ6wcN1j"
      },
      "source": [
        "# making sure the state is the same\n",
        "hospitalizationdf = hospitalizationdf[hospitalizationdf.state == userinput]"
      ],
      "execution_count": null,
      "outputs": []
    },
    {
      "cell_type": "code",
      "metadata": {
        "id": "isTBBuCvcypv"
      },
      "source": [
        "# Flipping the df \n",
        "hospitalizationdf = hospitalizationdf.iloc[::-1]"
      ],
      "execution_count": null,
      "outputs": []
    },
    {
      "cell_type": "code",
      "metadata": {
        "id": "Fa9o-6IkdapF"
      },
      "source": [
        "# starting the date at 03-01-2020\n",
        "hospitalizationdf = hospitalizationdf[hospitalizationdf['date'] >= '03-01-2020']"
      ],
      "execution_count": null,
      "outputs": []
    },
    {
      "cell_type": "code",
      "metadata": {
        "id": "rSS0XAJrdgOv"
      },
      "source": [
        "# making sure the date is greater than 0\n",
        "hospitalizationdf = hospitalizationdf [hospitalizationdf.hospitalizedCumulative >0]"
      ],
      "execution_count": null,
      "outputs": []
    },
    {
      "cell_type": "code",
      "metadata": {
        "id": "tR4HCHCAcoui"
      },
      "source": [
        "# resetting the index\n",
        "hospitalizationdf = hospitalizationdf.reset_index()"
      ],
      "execution_count": null,
      "outputs": []
    },
    {
      "cell_type": "code",
      "metadata": {
        "id": "UCzuBim6d7jM"
      },
      "source": [
        "# cleaning data \n",
        "hospitalizationdf = hospitalizationdf.drop(columns= 'index')"
      ],
      "execution_count": null,
      "outputs": []
    },
    {
      "cell_type": "code",
      "metadata": {
        "id": "TeoSHXeDeNcu"
      },
      "source": [
        "#merging the two dataframes together\n",
        "df = df.merge(hospitalizationdf, on ='date')"
      ],
      "execution_count": null,
      "outputs": []
    },
    {
      "cell_type": "code",
      "metadata": {
        "id": "zt3JnuA_erXx"
      },
      "source": [
        "# cleaning data\n",
        "df = df.drop(columns = ['state_y','index'])"
      ],
      "execution_count": null,
      "outputs": []
    },
    {
      "cell_type": "code",
      "metadata": {
        "id": "7lMZA67afE1N"
      },
      "source": [
        "# cleaning data \n",
        "df['state'] = df['state_x']"
      ],
      "execution_count": null,
      "outputs": []
    },
    {
      "cell_type": "code",
      "metadata": {
        "id": "GeqI-nTafIfc"
      },
      "source": [
        "#cleanign data\n",
        "df = df.drop(columns = 'state_x')"
      ],
      "execution_count": null,
      "outputs": []
    },
    {
      "cell_type": "code",
      "metadata": {
        "id": "cVxNbBARffMp"
      },
      "source": [
        "#creating the cdf column\n",
        "df['cdf_hospitalized'] = df['hospitalizedCumulative']"
      ],
      "execution_count": null,
      "outputs": []
    },
    {
      "cell_type": "code",
      "metadata": {
        "id": "hY9FjCmKfpFb"
      },
      "source": [
        "#creating the formula for the CDF column\n",
        "df.loc[:,'cdf_hospitalized':] = df.loc[:,'cdf_hospitalized':].div(df.iloc[-1]['cdf_hospitalized':])\n",
        "df = df.reset_index()"
      ],
      "execution_count": null,
      "outputs": []
    },
    {
      "cell_type": "code",
      "metadata": {
        "id": "2Zz80mK1frLJ"
      },
      "source": [
        "# Cleaning data\n",
        "df= df.drop(columns = ['index'])"
      ],
      "execution_count": null,
      "outputs": []
    },
    {
      "cell_type": "code",
      "metadata": {
        "id": "hG_qolekfs6k"
      },
      "source": [
        "# Creating avg day of hospitalization\n",
        "df['Avg day of hospitalization'] = 0"
      ],
      "execution_count": null,
      "outputs": []
    },
    {
      "cell_type": "code",
      "metadata": {
        "id": "NRwVPJ0bfuzt"
      },
      "source": [
        "#Calulating Avgerage day of Hospitalization\n",
        "for i in range(1, len(df)):\n",
        "  x = (((df.loc[i, 'hospitalizedCumulative'] - df.loc[i-1, 'hospitalizedCumulative']) * (df.loc[i, 'Day']- df.loc[i-1, 'Avg day of hospitalization'])) / (df.loc[i, 'hospitalizedCumulative'])) + (df.loc[i-1, 'Avg day of hospitalization'])\n",
        "  df.loc[i, 'Avg day of hospitalization'] = round(x, 2)"
      ],
      "execution_count": null,
      "outputs": []
    },
    {
      "cell_type": "code",
      "metadata": {
        "id": "rJfQSjtCf36k"
      },
      "source": [
        "df['Avg Hospitalization Day - Avg Case Day'] = df['Avg day of hospitalization'] - df['Avg day of case']  "
      ],
      "execution_count": null,
      "outputs": []
    },
    {
      "cell_type": "code",
      "metadata": {
        "id": "JEnVohBwf6IK"
      },
      "source": [
        "df['Avg Day of Hospitalization/ Current Day'] = df['Avg day of hospitalization'] /df['Day']"
      ],
      "execution_count": null,
      "outputs": []
    },
    {
      "cell_type": "code",
      "metadata": {
        "id": "t_NJkcvIfhFb"
      },
      "source": [
        "# Cleaning dataframe\n",
        "df = df.loc[:,['date','state','Deaths','Cases','hospitalizedCumulative','Day','Avg day of case','Avg day of death','Avg day of hospitalization','Avg Death Day - Avg Case Day','Avg Hospitalization Day - Avg Case Day','Avg Day of Case/ Current Day','Avg Day of Death/ Current Day','Avg Day of Hospitalization/ Current Day','cdf_cases','cdf_deaths','cdf_hospitalized']]"
      ],
      "execution_count": null,
      "outputs": []
    },
    {
      "cell_type": "code",
      "metadata": {
        "colab": {
          "base_uri": "https://localhost:8080/",
          "height": 694
        },
        "id": "6anMsnhtg0Tc",
        "outputId": "48e52b79-7338-408f-c7a9-2a7fc7a06098"
      },
      "source": [
        "df"
      ],
      "execution_count": null,
      "outputs": [
        {
          "output_type": "execute_result",
          "data": {
            "text/html": [
              "<div>\n",
              "<style scoped>\n",
              "    .dataframe tbody tr th:only-of-type {\n",
              "        vertical-align: middle;\n",
              "    }\n",
              "\n",
              "    .dataframe tbody tr th {\n",
              "        vertical-align: top;\n",
              "    }\n",
              "\n",
              "    .dataframe thead th {\n",
              "        text-align: right;\n",
              "    }\n",
              "</style>\n",
              "<table border=\"1\" class=\"dataframe\">\n",
              "  <thead>\n",
              "    <tr style=\"text-align: right;\">\n",
              "      <th></th>\n",
              "      <th>date</th>\n",
              "      <th>state</th>\n",
              "      <th>Deaths</th>\n",
              "      <th>Cases</th>\n",
              "      <th>hospitalizedCumulative</th>\n",
              "      <th>Day</th>\n",
              "      <th>Avg day of case</th>\n",
              "      <th>Avg day of death</th>\n",
              "      <th>Avg day of hospitalization</th>\n",
              "      <th>Avg Death Day - Avg Case Day</th>\n",
              "      <th>Avg Hospitalization Day - Avg Case Day</th>\n",
              "      <th>Avg Day of Case/ Current Day</th>\n",
              "      <th>Avg Day of Death/ Current Day</th>\n",
              "      <th>Avg Day of Hospitalization/ Current Day</th>\n",
              "      <th>cdf_cases</th>\n",
              "      <th>cdf_deaths</th>\n",
              "      <th>cdf_hospitalized</th>\n",
              "    </tr>\n",
              "  </thead>\n",
              "  <tbody>\n",
              "    <tr>\n",
              "      <th>0</th>\n",
              "      <td>2020-03-21</td>\n",
              "      <td>FL</td>\n",
              "      <td>12</td>\n",
              "      <td>84754.7</td>\n",
              "      <td>158.0</td>\n",
              "      <td>21.0</td>\n",
              "      <td>12.12</td>\n",
              "      <td>17.01</td>\n",
              "      <td>0.00</td>\n",
              "      <td>4.89</td>\n",
              "      <td>-12.12</td>\n",
              "      <td>0.577143</td>\n",
              "      <td>0.810000</td>\n",
              "      <td>0.000000</td>\n",
              "      <td>0.0135573</td>\n",
              "      <td>0.000394296</td>\n",
              "      <td>0.00200137</td>\n",
              "    </tr>\n",
              "    <tr>\n",
              "      <th>1</th>\n",
              "      <td>2020-03-22</td>\n",
              "      <td>FL</td>\n",
              "      <td>13</td>\n",
              "      <td>91483.5</td>\n",
              "      <td>185.0</td>\n",
              "      <td>22.0</td>\n",
              "      <td>12.85</td>\n",
              "      <td>17.39</td>\n",
              "      <td>3.21</td>\n",
              "      <td>4.54</td>\n",
              "      <td>-9.64</td>\n",
              "      <td>0.584091</td>\n",
              "      <td>0.790455</td>\n",
              "      <td>0.145909</td>\n",
              "      <td>0.0146336</td>\n",
              "      <td>0.000427154</td>\n",
              "      <td>0.00234337</td>\n",
              "    </tr>\n",
              "    <tr>\n",
              "      <th>2</th>\n",
              "      <td>2020-03-23</td>\n",
              "      <td>FL</td>\n",
              "      <td>14</td>\n",
              "      <td>98100.5</td>\n",
              "      <td>217.0</td>\n",
              "      <td>23.0</td>\n",
              "      <td>13.53</td>\n",
              "      <td>17.79</td>\n",
              "      <td>6.13</td>\n",
              "      <td>4.26</td>\n",
              "      <td>-7.40</td>\n",
              "      <td>0.588261</td>\n",
              "      <td>0.773478</td>\n",
              "      <td>0.266522</td>\n",
              "      <td>0.015692</td>\n",
              "      <td>0.000460012</td>\n",
              "      <td>0.00274871</td>\n",
              "    </tr>\n",
              "    <tr>\n",
              "      <th>3</th>\n",
              "      <td>2020-03-24</td>\n",
              "      <td>FL</td>\n",
              "      <td>18</td>\n",
              "      <td>104563.0</td>\n",
              "      <td>259.0</td>\n",
              "      <td>24.0</td>\n",
              "      <td>14.18</td>\n",
              "      <td>19.17</td>\n",
              "      <td>9.03</td>\n",
              "      <td>4.99</td>\n",
              "      <td>-5.15</td>\n",
              "      <td>0.590833</td>\n",
              "      <td>0.798750</td>\n",
              "      <td>0.376250</td>\n",
              "      <td>0.0167258</td>\n",
              "      <td>0.000591444</td>\n",
              "      <td>0.00328072</td>\n",
              "    </tr>\n",
              "    <tr>\n",
              "      <th>4</th>\n",
              "      <td>2020-03-25</td>\n",
              "      <td>FL</td>\n",
              "      <td>22</td>\n",
              "      <td>110832.0</td>\n",
              "      <td>316.0</td>\n",
              "      <td>25.0</td>\n",
              "      <td>14.79</td>\n",
              "      <td>20.23</td>\n",
              "      <td>11.91</td>\n",
              "      <td>5.44</td>\n",
              "      <td>-2.88</td>\n",
              "      <td>0.591600</td>\n",
              "      <td>0.809200</td>\n",
              "      <td>0.476400</td>\n",
              "      <td>0.0177286</td>\n",
              "      <td>0.000722876</td>\n",
              "      <td>0.00400274</td>\n",
              "    </tr>\n",
              "    <tr>\n",
              "      <th>...</th>\n",
              "      <td>...</td>\n",
              "      <td>...</td>\n",
              "      <td>...</td>\n",
              "      <td>...</td>\n",
              "      <td>...</td>\n",
              "      <td>...</td>\n",
              "      <td>...</td>\n",
              "      <td>...</td>\n",
              "      <td>...</td>\n",
              "      <td>...</td>\n",
              "      <td>...</td>\n",
              "      <td>...</td>\n",
              "      <td>...</td>\n",
              "      <td>...</td>\n",
              "      <td>...</td>\n",
              "      <td>...</td>\n",
              "      <td>...</td>\n",
              "    </tr>\n",
              "    <tr>\n",
              "      <th>333</th>\n",
              "      <td>2021-02-17</td>\n",
              "      <td>FL</td>\n",
              "      <td>29824</td>\n",
              "      <td>6196430.0</td>\n",
              "      <td>77994.0</td>\n",
              "      <td>354.0</td>\n",
              "      <td>215.11</td>\n",
              "      <td>223.89</td>\n",
              "      <td>201.10</td>\n",
              "      <td>8.78</td>\n",
              "      <td>-14.01</td>\n",
              "      <td>0.607655</td>\n",
              "      <td>0.632458</td>\n",
              "      <td>0.568079</td>\n",
              "      <td>0.991173</td>\n",
              "      <td>0.979957</td>\n",
              "      <td>0.987941</td>\n",
              "    </tr>\n",
              "    <tr>\n",
              "      <th>334</th>\n",
              "      <td>2021-02-18</td>\n",
              "      <td>FL</td>\n",
              "      <td>29990</td>\n",
              "      <td>6210310.0</td>\n",
              "      <td>78295.0</td>\n",
              "      <td>355.0</td>\n",
              "      <td>215.42</td>\n",
              "      <td>224.62</td>\n",
              "      <td>201.69</td>\n",
              "      <td>9.20</td>\n",
              "      <td>-13.73</td>\n",
              "      <td>0.606817</td>\n",
              "      <td>0.632732</td>\n",
              "      <td>0.568141</td>\n",
              "      <td>0.993394</td>\n",
              "      <td>0.985411</td>\n",
              "      <td>0.991754</td>\n",
              "    </tr>\n",
              "    <tr>\n",
              "      <th>335</th>\n",
              "      <td>2021-02-19</td>\n",
              "      <td>FL</td>\n",
              "      <td>30214</td>\n",
              "      <td>6224190.0</td>\n",
              "      <td>78590.0</td>\n",
              "      <td>356.0</td>\n",
              "      <td>215.73</td>\n",
              "      <td>225.59</td>\n",
              "      <td>202.27</td>\n",
              "      <td>9.86</td>\n",
              "      <td>-13.46</td>\n",
              "      <td>0.605983</td>\n",
              "      <td>0.633680</td>\n",
              "      <td>0.568174</td>\n",
              "      <td>0.995614</td>\n",
              "      <td>0.992771</td>\n",
              "      <td>0.995491</td>\n",
              "    </tr>\n",
              "    <tr>\n",
              "      <th>336</th>\n",
              "      <td>2021-02-20</td>\n",
              "      <td>FL</td>\n",
              "      <td>30339</td>\n",
              "      <td>6237940.0</td>\n",
              "      <td>78840.0</td>\n",
              "      <td>357.0</td>\n",
              "      <td>216.04</td>\n",
              "      <td>226.13</td>\n",
              "      <td>202.76</td>\n",
              "      <td>10.09</td>\n",
              "      <td>-13.28</td>\n",
              "      <td>0.605154</td>\n",
              "      <td>0.633417</td>\n",
              "      <td>0.567955</td>\n",
              "      <td>0.997813</td>\n",
              "      <td>0.996878</td>\n",
              "      <td>0.998657</td>\n",
              "    </tr>\n",
              "    <tr>\n",
              "      <th>337</th>\n",
              "      <td>2021-02-21</td>\n",
              "      <td>FL</td>\n",
              "      <td>30434</td>\n",
              "      <td>6251610.0</td>\n",
              "      <td>78946.0</td>\n",
              "      <td>358.0</td>\n",
              "      <td>216.35</td>\n",
              "      <td>226.54</td>\n",
              "      <td>202.97</td>\n",
              "      <td>10.19</td>\n",
              "      <td>-13.38</td>\n",
              "      <td>0.604330</td>\n",
              "      <td>0.632793</td>\n",
              "      <td>0.566955</td>\n",
              "      <td>1</td>\n",
              "      <td>1</td>\n",
              "      <td>1</td>\n",
              "    </tr>\n",
              "  </tbody>\n",
              "</table>\n",
              "<p>338 rows × 17 columns</p>\n",
              "</div>"
            ],
            "text/plain": [
              "          date state  Deaths  ...  cdf_cases   cdf_deaths  cdf_hospitalized\n",
              "0   2020-03-21    FL      12  ...  0.0135573  0.000394296        0.00200137\n",
              "1   2020-03-22    FL      13  ...  0.0146336  0.000427154        0.00234337\n",
              "2   2020-03-23    FL      14  ...   0.015692  0.000460012        0.00274871\n",
              "3   2020-03-24    FL      18  ...  0.0167258  0.000591444        0.00328072\n",
              "4   2020-03-25    FL      22  ...  0.0177286  0.000722876        0.00400274\n",
              "..         ...   ...     ...  ...        ...          ...               ...\n",
              "333 2021-02-17    FL   29824  ...   0.991173     0.979957          0.987941\n",
              "334 2021-02-18    FL   29990  ...   0.993394     0.985411          0.991754\n",
              "335 2021-02-19    FL   30214  ...   0.995614     0.992771          0.995491\n",
              "336 2021-02-20    FL   30339  ...   0.997813     0.996878          0.998657\n",
              "337 2021-02-21    FL   30434  ...          1            1                 1\n",
              "\n",
              "[338 rows x 17 columns]"
            ]
          },
          "metadata": {
            "tags": []
          },
          "execution_count": 110
        }
      ]
    },
    {
      "cell_type": "markdown",
      "metadata": {
        "id": "sOHA96bdFFo3"
      },
      "source": [
        "**Statistics**"
      ]
    },
    {
      "cell_type": "code",
      "metadata": {
        "id": "B84iVqT-FMOM"
      },
      "source": [
        "averagedayofcase = df['Avg day of case'].iloc[-1]\n",
        "averagedayofdeath = df['Avg day of death'].iloc[-1]\n",
        "differDeaths = df['Avg Death Day - Avg Case Day'].max()\n",
        "differCases= -df['Avg Death Day - Avg Case Day'].min()\n",
        "differhospitalizations = df['Avg Hospitalization Day - Avg Case Day'].max()\n",
        "differhospitalizations1 = -df['Avg Hospitalization Day - Avg Case Day'].min()"
      ],
      "execution_count": null,
      "outputs": []
    },
    {
      "cell_type": "code",
      "metadata": {
        "colab": {
          "base_uri": "https://localhost:8080/"
        },
        "id": "n3MUHKhtMQLX",
        "outputId": "e3ab463f-1334-4eea-af4e-cf0a35565111"
      },
      "source": [
        "print('COVID-19 STATISTICS')\n",
        "print('')\n",
        "print('State = ', df.state.iloc[-1])\n",
        "print('Average Day of Death and Average Day of Case as of',df['date'].iloc[-1])\n",
        "print('Case =', averagedayofcase)\n",
        "print('Death = ', averagedayofdeath)\n",
        "print('Days When Average Dates of Death Differ By Largest Amounts')\n",
        "print('Death Day – Case Day =', differDeaths)\n",
        "print('Case Day - Death Day =',differCases)\n",
        "print('Case Day - Hospitalization day = ',differhospitalizations)\n",
        "print('Hospialization Day - Case Day =', differhospitalizations1) "
      ],
      "execution_count": null,
      "outputs": [
        {
          "output_type": "stream",
          "text": [
            "COVID-19 STATISTICS\n",
            "\n",
            "State =  FL\n",
            "Average Day of Death and Average Day of Case as of 2021-02-21 00:00:00\n",
            "Case = 216.35\n",
            "Death =  226.54\n",
            "Days When Average Dates of Death Differ By Largest Amounts\n",
            "Death Day – Case Day = 21.55000000000001\n",
            "Case Day - Death Day = 20.209999999999994\n",
            "Case Day - Hospitalization day =  17.740000000000002\n",
            "Hospialization Day - Case Day = 20.309999999999988\n"
          ],
          "name": "stdout"
        }
      ]
    },
    {
      "cell_type": "markdown",
      "metadata": {
        "id": "QjKUIo_rRc43"
      },
      "source": [
        "**Data Visualization**"
      ]
    },
    {
      "cell_type": "code",
      "metadata": {
        "colab": {
          "base_uri": "https://localhost:8080/",
          "height": 376
        },
        "id": "34FNGss3RlOQ",
        "outputId": "987f250d-a2c0-4cbd-c7e8-032db5172a3d"
      },
      "source": [
        "#Ratio Avg Day of Event/Current Date Graph\n",
        "df.plot(x= 'Day',y = ['Avg Day of Case/ Current Day','Avg Day of Death/ Current Day','Avg Day of Hospitalization/ Current Day'],title = 'Ratio of Average Day of Event to Current Date', ylabel = 'Ratio')\n",
        "plt.style.use('seaborn')"
      ],
      "execution_count": null,
      "outputs": [
        {
          "output_type": "display_data",
          "data": {
            "image/png": "[encoded data removed]",
            "text/plain": [
              "<Figure size 576x396 with 1 Axes>"
            ]
          },
          "metadata": {
            "tags": []
          }
        }
      ]
    },
    {
      "cell_type": "code",
      "metadata": {
        "colab": {
          "base_uri": "https://localhost:8080/",
          "height": 376
        },
        "id": "q05vIlDISjY0",
        "outputId": "59f242e4-2242-4a20-be7e-1004d501e49b"
      },
      "source": [
        "#Avg Death Day-Avg Case Day\n",
        "df.plot(x = 'Day', y=['Avg Death Day - Avg Case Day','Avg Hospitalization Day - Avg Case Day'],title = 'Avg Death Day - Avg Case Day, Avg Hospitalization Day - Avg Case Day',ylabel = 'Difference in Days')\n",
        "plt.style.use('seaborn')"
      ],
      "execution_count": null,
      "outputs": [
        {
          "output_type": "display_data",
          "data": {
            "image/png": "[encoded data removed]",
            "text/plain": [
              "<Figure size 576x396 with 1 Axes>"
            ]
          },
          "metadata": {
            "tags": []
          }
        }
      ]
    },
    {
      "cell_type": "code",
      "metadata": {
        "colab": {
          "base_uri": "https://localhost:8080/",
          "height": 376
        },
        "id": "NcfsVA7WXs8H",
        "outputId": "eb11fc42-3ad2-42c5-e4ca-8d5c50d172af"
      },
      "source": [
        "#Average Case or Death or hospitalization\n",
        "df.plot(x = 'Day', y= ['Avg day of case','Avg day of death','Avg day of hospitalization'],title = 'Average Day, Case,Death,Hospitalization, as of Date Day 1 = March 1, 2020', ylabel = 'Average Day of Case or Death')\n",
        "plt.style.use('seaborn')"
      ],
      "execution_count": null,
      "outputs": [
        {
          "output_type": "display_data",
          "data": {
            "image/png": "[encoded data removed]",
            "text/plain": [
              "<Figure size 576x396 with 1 Axes>"
            ]
          },
          "metadata": {
            "tags": []
          }
        }
      ]
    },
    {
      "cell_type": "code",
      "metadata": {
        "colab": {
          "base_uri": "https://localhost:8080/",
          "height": 376
        },
        "id": "iirAPAkjgzYQ",
        "outputId": "1cb4c25e-ac63-4804-d7d1-0f46028511fa"
      },
      "source": [
        "#CDF\n",
        "df.plot( x= 'Day', y= ['cdf_cases','cdf_deaths','cdf_hospitalized'],title = 'Cumulative Probability Distribution, Days of Cases,Deaths,Hospitalization', ylabel = 'Cumulative Probability')\n",
        "plt.style.use('seaborn')"
      ],
      "execution_count": null,
      "outputs": [
        {
          "output_type": "display_data",
          "data": {
            "image/png": "[encoded data removed]",
            "text/plain": [
              "<Figure size 576x396 with 1 Axes>"
            ]
          },
          "metadata": {
            "tags": []
          }
        }
      ]
    }
  ]
}