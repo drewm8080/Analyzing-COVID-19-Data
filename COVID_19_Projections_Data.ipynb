{
  "nbformat": 4,
  "nbformat_minor": 0,
  "metadata": {
    "colab": {
      "name": "COVID_19 Projections Data",
      "provenance": [],
      "collapsed_sections": [],
      "include_colab_link": true
    },
    "kernelspec": {
      "display_name": "Python 3",
      "name": "python3"
    }
  },
  "cells": [
    {
      "cell_type": "markdown",
      "metadata": {
        "id": "view-in-github",
        "colab_type": "text"
      },
      "source": [
        "<a href=\"https://colab.research.google.com/github/drewm8080/Analyzing-COVID-19-Data-Sources/blob/main/COVID_19_Projections_Data.ipynb\" target=\"_parent\"><img src=\"https://colab.research.google.com/assets/colab-badge.svg\" alt=\"Open In Colab\"/></a>"
      ]
    },
    {
      "cell_type": "markdown",
      "metadata": {
        "id": "CdqSuoT0SwiZ"
      },
      "source": [
        "**User Input Here**"
      ]
    },
    {
      "cell_type": "code",
      "metadata": {
        "colab": {
          "base_uri": "https://localhost:8080/"
        },
        "id": "kXOx7TzxS6-J",
        "outputId": "5e6ad3ac-4967-497e-c8dc-88f0df3fe055"
      },
      "source": [
        "print('Welcome to the COVID-19_Projections Statistics')\n",
        "print('')\n",
        "print('Please tell me which state you would like to see. Type abbreivated name of state in caps. EX: FL,GA etc.')\n",
        "userinput = input('Please put state here:')"
      ],
      "execution_count": 1,
      "outputs": [
        {
          "name": "stdout",
          "output_type": "stream",
          "text": [
            "Welcome to the COVID-19_Projections Statistics\n",
            "\n",
            "Please tell me which state you would like to see. Type abbreivated name of state in caps. EX: FL,GA etc.\n",
            "Please put state here:FL\n"
          ]
        }
      ]
    },
    {
      "cell_type": "markdown",
      "metadata": {
        "id": "lx4KMgyyGjHL"
      },
      "source": [
        "**Framework for Cases and Deaths from Covid_Projections**\n",
        "\n"
      ]
    },
    {
      "cell_type": "code",
      "metadata": {
        "id": "1l3ogsUIrrln"
      },
      "source": [
        "# Might need this cell if your data does not download directly from the URL\n",
        "# !pip install fsspec\n",
        "# !pip install pandas"
      ],
      "execution_count": 2,
      "outputs": []
    },
    {
      "cell_type": "code",
      "metadata": {
        "id": "odDxDul0QhhT"
      },
      "source": [
        "import pandas as pd\n",
        "import numpy as np \n",
        "import matplotlib.pyplot as plt"
      ],
      "execution_count": 3,
      "outputs": []
    },
    {
      "cell_type": "code",
      "metadata": {
        "id": "2zkKJQ59RLuy"
      },
      "source": [
        "# grabbing the Data\n",
        "url = 'https://github.com/youyanggu/covid19-infection-estimates-latest/raw/main/latest_all_estimates_states.csv'\n",
        "df = pd.read_csv(url)"
      ],
      "execution_count": 4,
      "outputs": []
    },
    {
      "cell_type": "code",
      "metadata": {
        "colab": {
          "base_uri": "https://localhost:8080/",
          "height": 609
        },
        "id": "rAdrEQ_f1zsC",
        "outputId": "cf05a60e-d1d1-4e6b-a9c0-204b04619f15"
      },
      "source": [
        "df[df.state == \"FL\"]"
      ],
      "execution_count": 5,
      "outputs": [
        {
          "output_type": "execute_result",
          "data": {
            "text/html": [
              "<div>\n",
              "<style scoped>\n",
              "    .dataframe tbody tr th:only-of-type {\n",
              "        vertical-align: middle;\n",
              "    }\n",
              "\n",
              "    .dataframe tbody tr th {\n",
              "        vertical-align: top;\n",
              "    }\n",
              "\n",
              "    .dataframe thead th {\n",
              "        text-align: right;\n",
              "    }\n",
              "</style>\n",
              "<table border=\"1\" class=\"dataframe\">\n",
              "  <thead>\n",
              "    <tr style=\"text-align: right;\">\n",
              "      <th></th>\n",
              "      <th>date</th>\n",
              "      <th>state</th>\n",
              "      <th>total_cases</th>\n",
              "      <th>total_deaths</th>\n",
              "      <th>total_tests</th>\n",
              "      <th>current_hospitalized</th>\n",
              "      <th>daily_positive_7day_ma</th>\n",
              "      <th>daily_deaths_7day_ma</th>\n",
              "      <th>daily_tests_7day_ma</th>\n",
              "      <th>positivity_rate_orig_7day_ma</th>\n",
              "      <th>positivity_rate_7day_ma</th>\n",
              "      <th>prevalence_ratio_mean</th>\n",
              "      <th>prevalence_ratio_lower</th>\n",
              "      <th>prevalence_ratio_upper</th>\n",
              "      <th>rt_mean</th>\n",
              "      <th>new_infected_mean</th>\n",
              "      <th>new_infected_lower</th>\n",
              "      <th>new_infected_upper</th>\n",
              "      <th>current_infected_mean</th>\n",
              "      <th>current_infected_lower</th>\n",
              "      <th>current_infected_upper</th>\n",
              "      <th>perc_current_infected_mean</th>\n",
              "      <th>perc_current_infected_lower</th>\n",
              "      <th>perc_current_infected_upper</th>\n",
              "      <th>total_infected_mean</th>\n",
              "      <th>total_infected_lower</th>\n",
              "      <th>total_infected_upper</th>\n",
              "      <th>perc_total_infected_mean</th>\n",
              "      <th>perc_total_infected_lower</th>\n",
              "      <th>perc_total_infected_upper</th>\n",
              "    </tr>\n",
              "  </thead>\n",
              "  <tbody>\n",
              "    <tr>\n",
              "      <th>3492</th>\n",
              "      <td>2020-02-08</td>\n",
              "      <td>FL</td>\n",
              "      <td>0</td>\n",
              "      <td>0</td>\n",
              "      <td>0</td>\n",
              "      <td>NaN</td>\n",
              "      <td>NaN</td>\n",
              "      <td>NaN</td>\n",
              "      <td>NaN</td>\n",
              "      <td>NaN</td>\n",
              "      <td>NaN</td>\n",
              "      <td>NaN</td>\n",
              "      <td>NaN</td>\n",
              "      <td>NaN</td>\n",
              "      <td>NaN</td>\n",
              "      <td>5.30358</td>\n",
              "      <td>3.53572</td>\n",
              "      <td>7.95537</td>\n",
              "      <td>5.30358</td>\n",
              "      <td>3.53572</td>\n",
              "      <td>7.95537</td>\n",
              "      <td>2.469340e-07</td>\n",
              "      <td>1.646220e-07</td>\n",
              "      <td>3.704010e-07</td>\n",
              "      <td>5.30358</td>\n",
              "      <td>3.53572</td>\n",
              "      <td>7.95537</td>\n",
              "      <td>2.469340e-07</td>\n",
              "      <td>1.646220e-07</td>\n",
              "      <td>3.704010e-07</td>\n",
              "    </tr>\n",
              "    <tr>\n",
              "      <th>3493</th>\n",
              "      <td>2020-02-09</td>\n",
              "      <td>FL</td>\n",
              "      <td>0</td>\n",
              "      <td>0</td>\n",
              "      <td>0</td>\n",
              "      <td>NaN</td>\n",
              "      <td>NaN</td>\n",
              "      <td>NaN</td>\n",
              "      <td>NaN</td>\n",
              "      <td>NaN</td>\n",
              "      <td>NaN</td>\n",
              "      <td>NaN</td>\n",
              "      <td>NaN</td>\n",
              "      <td>NaN</td>\n",
              "      <td>NaN</td>\n",
              "      <td>6.44152</td>\n",
              "      <td>4.29435</td>\n",
              "      <td>9.66228</td>\n",
              "      <td>11.74510</td>\n",
              "      <td>7.83007</td>\n",
              "      <td>17.61760</td>\n",
              "      <td>5.468500e-07</td>\n",
              "      <td>3.645670e-07</td>\n",
              "      <td>8.202750e-07</td>\n",
              "      <td>11.74510</td>\n",
              "      <td>7.83007</td>\n",
              "      <td>17.61760</td>\n",
              "      <td>5.468500e-07</td>\n",
              "      <td>3.645670e-07</td>\n",
              "      <td>8.202750e-07</td>\n",
              "    </tr>\n",
              "    <tr>\n",
              "      <th>3494</th>\n",
              "      <td>2020-02-10</td>\n",
              "      <td>FL</td>\n",
              "      <td>0</td>\n",
              "      <td>0</td>\n",
              "      <td>0</td>\n",
              "      <td>NaN</td>\n",
              "      <td>NaN</td>\n",
              "      <td>NaN</td>\n",
              "      <td>NaN</td>\n",
              "      <td>NaN</td>\n",
              "      <td>NaN</td>\n",
              "      <td>NaN</td>\n",
              "      <td>NaN</td>\n",
              "      <td>NaN</td>\n",
              "      <td>NaN</td>\n",
              "      <td>9.69725</td>\n",
              "      <td>6.46484</td>\n",
              "      <td>14.54590</td>\n",
              "      <td>21.44240</td>\n",
              "      <td>14.29490</td>\n",
              "      <td>32.16350</td>\n",
              "      <td>9.983520e-07</td>\n",
              "      <td>6.655680e-07</td>\n",
              "      <td>1.497530e-06</td>\n",
              "      <td>21.44240</td>\n",
              "      <td>14.29490</td>\n",
              "      <td>32.16350</td>\n",
              "      <td>9.983520e-07</td>\n",
              "      <td>6.655680e-07</td>\n",
              "      <td>1.497530e-06</td>\n",
              "    </tr>\n",
              "    <tr>\n",
              "      <th>3495</th>\n",
              "      <td>2020-02-11</td>\n",
              "      <td>FL</td>\n",
              "      <td>0</td>\n",
              "      <td>0</td>\n",
              "      <td>0</td>\n",
              "      <td>NaN</td>\n",
              "      <td>NaN</td>\n",
              "      <td>NaN</td>\n",
              "      <td>NaN</td>\n",
              "      <td>NaN</td>\n",
              "      <td>NaN</td>\n",
              "      <td>NaN</td>\n",
              "      <td>NaN</td>\n",
              "      <td>NaN</td>\n",
              "      <td>NaN</td>\n",
              "      <td>12.07110</td>\n",
              "      <td>8.04740</td>\n",
              "      <td>18.10670</td>\n",
              "      <td>33.51350</td>\n",
              "      <td>22.34230</td>\n",
              "      <td>50.27020</td>\n",
              "      <td>1.560380e-06</td>\n",
              "      <td>1.040250e-06</td>\n",
              "      <td>2.340570e-06</td>\n",
              "      <td>33.51350</td>\n",
              "      <td>22.34230</td>\n",
              "      <td>50.27020</td>\n",
              "      <td>1.560380e-06</td>\n",
              "      <td>1.040250e-06</td>\n",
              "      <td>2.340570e-06</td>\n",
              "    </tr>\n",
              "    <tr>\n",
              "      <th>3496</th>\n",
              "      <td>2020-02-12</td>\n",
              "      <td>FL</td>\n",
              "      <td>0</td>\n",
              "      <td>0</td>\n",
              "      <td>0</td>\n",
              "      <td>NaN</td>\n",
              "      <td>NaN</td>\n",
              "      <td>NaN</td>\n",
              "      <td>NaN</td>\n",
              "      <td>NaN</td>\n",
              "      <td>NaN</td>\n",
              "      <td>NaN</td>\n",
              "      <td>NaN</td>\n",
              "      <td>NaN</td>\n",
              "      <td>NaN</td>\n",
              "      <td>13.50610</td>\n",
              "      <td>9.00405</td>\n",
              "      <td>20.25910</td>\n",
              "      <td>47.01950</td>\n",
              "      <td>31.34640</td>\n",
              "      <td>70.52930</td>\n",
              "      <td>2.189220e-06</td>\n",
              "      <td>1.459480e-06</td>\n",
              "      <td>3.283830e-06</td>\n",
              "      <td>47.01950</td>\n",
              "      <td>31.34640</td>\n",
              "      <td>70.52930</td>\n",
              "      <td>2.189220e-06</td>\n",
              "      <td>1.459480e-06</td>\n",
              "      <td>3.283830e-06</td>\n",
              "    </tr>\n",
              "    <tr>\n",
              "      <th>...</th>\n",
              "      <td>...</td>\n",
              "      <td>...</td>\n",
              "      <td>...</td>\n",
              "      <td>...</td>\n",
              "      <td>...</td>\n",
              "      <td>...</td>\n",
              "      <td>...</td>\n",
              "      <td>...</td>\n",
              "      <td>...</td>\n",
              "      <td>...</td>\n",
              "      <td>...</td>\n",
              "      <td>...</td>\n",
              "      <td>...</td>\n",
              "      <td>...</td>\n",
              "      <td>...</td>\n",
              "      <td>...</td>\n",
              "      <td>...</td>\n",
              "      <td>...</td>\n",
              "      <td>...</td>\n",
              "      <td>...</td>\n",
              "      <td>...</td>\n",
              "      <td>...</td>\n",
              "      <td>...</td>\n",
              "      <td>...</td>\n",
              "      <td>...</td>\n",
              "      <td>...</td>\n",
              "      <td>...</td>\n",
              "      <td>...</td>\n",
              "      <td>...</td>\n",
              "      <td>...</td>\n",
              "    </tr>\n",
              "    <tr>\n",
              "      <th>3881</th>\n",
              "      <td>2021-03-03</td>\n",
              "      <td>FL</td>\n",
              "      <td>1888725</td>\n",
              "      <td>31829</td>\n",
              "      <td>21975593</td>\n",
              "      <td>3596.0</td>\n",
              "      <td>5367.71</td>\n",
              "      <td>135.857</td>\n",
              "      <td>86570.9</td>\n",
              "      <td>0.062004</td>\n",
              "      <td>0.062004</td>\n",
              "      <td>2.63039</td>\n",
              "      <td>1.75360</td>\n",
              "      <td>3.94559</td>\n",
              "      <td>NaN</td>\n",
              "      <td>NaN</td>\n",
              "      <td>NaN</td>\n",
              "      <td>NaN</td>\n",
              "      <td>NaN</td>\n",
              "      <td>NaN</td>\n",
              "      <td>NaN</td>\n",
              "      <td>NaN</td>\n",
              "      <td>NaN</td>\n",
              "      <td>NaN</td>\n",
              "      <td>NaN</td>\n",
              "      <td>NaN</td>\n",
              "      <td>NaN</td>\n",
              "      <td>NaN</td>\n",
              "      <td>NaN</td>\n",
              "      <td>NaN</td>\n",
              "    </tr>\n",
              "    <tr>\n",
              "      <th>3882</th>\n",
              "      <td>2021-03-04</td>\n",
              "      <td>FL</td>\n",
              "      <td>1894722</td>\n",
              "      <td>31955</td>\n",
              "      <td>22079838</td>\n",
              "      <td>3566.0</td>\n",
              "      <td>5293.14</td>\n",
              "      <td>133.857</td>\n",
              "      <td>84533.3</td>\n",
              "      <td>0.062616</td>\n",
              "      <td>0.062616</td>\n",
              "      <td>2.63190</td>\n",
              "      <td>1.75460</td>\n",
              "      <td>3.94785</td>\n",
              "      <td>NaN</td>\n",
              "      <td>NaN</td>\n",
              "      <td>NaN</td>\n",
              "      <td>NaN</td>\n",
              "      <td>NaN</td>\n",
              "      <td>NaN</td>\n",
              "      <td>NaN</td>\n",
              "      <td>NaN</td>\n",
              "      <td>NaN</td>\n",
              "      <td>NaN</td>\n",
              "      <td>NaN</td>\n",
              "      <td>NaN</td>\n",
              "      <td>NaN</td>\n",
              "      <td>NaN</td>\n",
              "      <td>NaN</td>\n",
              "      <td>NaN</td>\n",
              "    </tr>\n",
              "    <tr>\n",
              "      <th>3883</th>\n",
              "      <td>2021-03-05</td>\n",
              "      <td>FL</td>\n",
              "      <td>1900598</td>\n",
              "      <td>32093</td>\n",
              "      <td>22186763</td>\n",
              "      <td>3419.0</td>\n",
              "      <td>5306.43</td>\n",
              "      <td>133.000</td>\n",
              "      <td>84734.3</td>\n",
              "      <td>0.062624</td>\n",
              "      <td>0.062624</td>\n",
              "      <td>2.63035</td>\n",
              "      <td>1.75357</td>\n",
              "      <td>3.94552</td>\n",
              "      <td>NaN</td>\n",
              "      <td>NaN</td>\n",
              "      <td>NaN</td>\n",
              "      <td>NaN</td>\n",
              "      <td>NaN</td>\n",
              "      <td>NaN</td>\n",
              "      <td>NaN</td>\n",
              "      <td>NaN</td>\n",
              "      <td>NaN</td>\n",
              "      <td>NaN</td>\n",
              "      <td>NaN</td>\n",
              "      <td>NaN</td>\n",
              "      <td>NaN</td>\n",
              "      <td>NaN</td>\n",
              "      <td>NaN</td>\n",
              "      <td>NaN</td>\n",
              "    </tr>\n",
              "    <tr>\n",
              "      <th>3884</th>\n",
              "      <td>2021-03-06</td>\n",
              "      <td>FL</td>\n",
              "      <td>1905185</td>\n",
              "      <td>32200</td>\n",
              "      <td>22274583</td>\n",
              "      <td>3352.0</td>\n",
              "      <td>5202.29</td>\n",
              "      <td>131.429</td>\n",
              "      <td>84319.7</td>\n",
              "      <td>0.061697</td>\n",
              "      <td>0.061697</td>\n",
              "      <td>2.62409</td>\n",
              "      <td>1.74940</td>\n",
              "      <td>3.93614</td>\n",
              "      <td>NaN</td>\n",
              "      <td>NaN</td>\n",
              "      <td>NaN</td>\n",
              "      <td>NaN</td>\n",
              "      <td>NaN</td>\n",
              "      <td>NaN</td>\n",
              "      <td>NaN</td>\n",
              "      <td>NaN</td>\n",
              "      <td>NaN</td>\n",
              "      <td>NaN</td>\n",
              "      <td>NaN</td>\n",
              "      <td>NaN</td>\n",
              "      <td>NaN</td>\n",
              "      <td>NaN</td>\n",
              "      <td>NaN</td>\n",
              "      <td>NaN</td>\n",
              "    </tr>\n",
              "    <tr>\n",
              "      <th>3885</th>\n",
              "      <td>2021-03-07</td>\n",
              "      <td>FL</td>\n",
              "      <td>1909209</td>\n",
              "      <td>32266</td>\n",
              "      <td>22339182</td>\n",
              "      <td>3307.0</td>\n",
              "      <td>5007.86</td>\n",
              "      <td>122.857</td>\n",
              "      <td>82483.4</td>\n",
              "      <td>0.060713</td>\n",
              "      <td>0.060713</td>\n",
              "      <td>2.61755</td>\n",
              "      <td>1.74503</td>\n",
              "      <td>3.92632</td>\n",
              "      <td>NaN</td>\n",
              "      <td>NaN</td>\n",
              "      <td>NaN</td>\n",
              "      <td>NaN</td>\n",
              "      <td>NaN</td>\n",
              "      <td>NaN</td>\n",
              "      <td>NaN</td>\n",
              "      <td>NaN</td>\n",
              "      <td>NaN</td>\n",
              "      <td>NaN</td>\n",
              "      <td>NaN</td>\n",
              "      <td>NaN</td>\n",
              "      <td>NaN</td>\n",
              "      <td>NaN</td>\n",
              "      <td>NaN</td>\n",
              "      <td>NaN</td>\n",
              "    </tr>\n",
              "  </tbody>\n",
              "</table>\n",
              "<p>394 rows × 30 columns</p>\n",
              "</div>"
            ],
            "text/plain": [
              "            date state  ...  perc_total_infected_lower  perc_total_infected_upper\n",
              "3492  2020-02-08    FL  ...               1.646220e-07               3.704010e-07\n",
              "3493  2020-02-09    FL  ...               3.645670e-07               8.202750e-07\n",
              "3494  2020-02-10    FL  ...               6.655680e-07               1.497530e-06\n",
              "3495  2020-02-11    FL  ...               1.040250e-06               2.340570e-06\n",
              "3496  2020-02-12    FL  ...               1.459480e-06               3.283830e-06\n",
              "...          ...   ...  ...                        ...                        ...\n",
              "3881  2021-03-03    FL  ...                        NaN                        NaN\n",
              "3882  2021-03-04    FL  ...                        NaN                        NaN\n",
              "3883  2021-03-05    FL  ...                        NaN                        NaN\n",
              "3884  2021-03-06    FL  ...                        NaN                        NaN\n",
              "3885  2021-03-07    FL  ...                        NaN                        NaN\n",
              "\n",
              "[394 rows x 30 columns]"
            ]
          },
          "metadata": {},
          "execution_count": 5
        }
      ]
    },
    {
      "cell_type": "code",
      "metadata": {
        "id": "5FVLVyblhEiP"
      },
      "source": [
        "# indexing the data\n",
        "df = df.loc[:,['date','state','total_deaths','total_infected_mean']]\n"
      ],
      "execution_count": 6,
      "outputs": []
    },
    {
      "cell_type": "code",
      "metadata": {
        "id": "j45FvAsmf7j2"
      },
      "source": [
        "# converting to datetime \n",
        "df['date'] = pd.to_datetime(df['date'])"
      ],
      "execution_count": 7,
      "outputs": []
    },
    {
      "cell_type": "code",
      "metadata": {
        "id": "vW18NRm4gGN8"
      },
      "source": [
        "# renaming the columns\n",
        "df['Deaths'] = df['total_deaths']\n",
        "df['Cases'] = df['total_infected_mean']\n",
        "df = df.drop(columns=['total_deaths','total_infected_mean'])"
      ],
      "execution_count": 8,
      "outputs": []
    },
    {
      "cell_type": "code",
      "metadata": {
        "id": "PMsSS89bD7zC"
      },
      "source": [
        "# getting user input\n",
        "df = df[df['state'] == userinput]"
      ],
      "execution_count": 9,
      "outputs": []
    },
    {
      "cell_type": "code",
      "metadata": {
        "id": "_owp9ek3DKrr"
      },
      "source": [
        "# making sure the data starts March 1st \n",
        "df = df[df['date'] >= '03-01-2020']\n",
        "df= df[df['date']<= '02-21-2021']"
      ],
      "execution_count": 10,
      "outputs": []
    },
    {
      "cell_type": "code",
      "metadata": {
        "id": "PpoIBOWWchkG"
      },
      "source": [
        "df = df.reset_index(drop = True)"
      ],
      "execution_count": 11,
      "outputs": []
    },
    {
      "cell_type": "code",
      "metadata": {
        "id": "3unZO1iZ5YsC"
      },
      "source": [
        "# creating the day column\n",
        "df['Day'] = df.groupby('state')['date'].rank(ascending=True)"
      ],
      "execution_count": 12,
      "outputs": []
    },
    {
      "cell_type": "code",
      "metadata": {
        "id": "J0XzhLK-UYOr"
      },
      "source": [
        "df.loc[0, 'Avg day of case'] = np.nan\n",
        "df.loc[0, 'Avg day of death'] = np.nan"
      ],
      "execution_count": 13,
      "outputs": []
    },
    {
      "cell_type": "code",
      "metadata": {
        "id": "GsXrL92-vaZp"
      },
      "source": [
        "if df.loc[0,'Cases'] != 0:\n",
        "  df.loc[0,'Avg day of case'] = df.loc[0,'Day']"
      ],
      "execution_count": 14,
      "outputs": []
    },
    {
      "cell_type": "code",
      "metadata": {
        "id": "aEjaHVWXvcPr"
      },
      "source": [
        "if df.loc[0,'Deaths'] != 0:\n",
        "  df.loc[0,'Avg day of death'] = df.loc[0,'Day']"
      ],
      "execution_count": 15,
      "outputs": []
    },
    {
      "cell_type": "code",
      "metadata": {
        "id": "-g7lyfVxEF_u"
      },
      "source": [
        "# calulating Average day of Case\n",
        "for i in range(1,len(df)):\n",
        "  if df.loc[i-1, 'Cases']!=0 and df.loc[i, 'Cases']!=0:\n",
        "    x = (((df.loc[i, 'Cases'] - df.loc[i-1, 'Cases']) * (df.loc[i, 'Day']- df.loc[i-1, 'Avg day of case'])) / (df.loc[i, 'Cases'])) + (df.loc[i-1, 'Avg day of case'])\n",
        "    df.loc[i, 'Avg day of case'] = round(x,4)\n",
        "  elif df.loc[i-1, 'Cases'] ==0 and df.loc[i, 'Cases']!=0:\n",
        "    x = df.loc[i, 'Day']\n",
        "    df.loc[i, 'Avg day of case'] = round(x,4)\n",
        "  else:\n",
        "     df.loc[i, 'Avg day of case'] = np.nan\n"
      ],
      "execution_count": 16,
      "outputs": []
    },
    {
      "cell_type": "code",
      "metadata": {
        "id": "Ms3qNF6YGvAY"
      },
      "source": [
        "# calulating Average day of death\n",
        "for i in range(1,len(df)):\n",
        "  if df.loc[i-1, 'Deaths']!=0 and df.loc[i, 'Deaths']!=0:\n",
        "    x = (((df.loc[i, 'Deaths'] - df.loc[i-1, 'Deaths']) * (df.loc[i, 'Day']- df.loc[i-1, 'Avg day of death'])) / (df.loc[i, 'Deaths'])) + (df.loc[i-1, 'Avg day of death'])\n",
        "    df.loc[i, 'Avg day of death'] = round(x, 4)\n",
        "  elif df.loc[i-1, 'Deaths'] ==0 and df.loc[i, 'Deaths']!=0:\n",
        "    x = df.loc[i, 'Day']\n",
        "    df.loc[i, 'Avg day of death'] = round(x, 4)\n",
        "  else:\n",
        "     df.loc[i, 'Avg day of death'] = np.nan"
      ],
      "execution_count": 17,
      "outputs": []
    },
    {
      "cell_type": "code",
      "metadata": {
        "id": "b2p9hNrBVmOM"
      },
      "source": [
        "# creating the CDF Column\n",
        "df['cdf_cases'] = df['Cases']"
      ],
      "execution_count": 18,
      "outputs": []
    },
    {
      "cell_type": "code",
      "metadata": {
        "id": "AI0g8MKT3-BT"
      },
      "source": [
        "# creating the cdf column\n",
        "df['cdf_deaths'] = df['Deaths']"
      ],
      "execution_count": 19,
      "outputs": []
    },
    {
      "cell_type": "code",
      "metadata": {
        "id": "nHSztNOFRWGc"
      },
      "source": [
        "# creating the formula for the CDF column\n",
        "df.loc[:,'cdf_cases':] = df.loc[:,'cdf_cases':].div(df.iloc[-1]['cdf_cases':])\n",
        "df = df.reset_index()"
      ],
      "execution_count": 20,
      "outputs": []
    },
    {
      "cell_type": "code",
      "metadata": {
        "id": "K0oCI3O3M-tS"
      },
      "source": [
        "# creating the formula for the CDF column\n",
        "df['cdf_deaths'] = df.loc[:,'cdf_deaths':].div(df.iloc[-1]['cdf_deaths':])"
      ],
      "execution_count": 21,
      "outputs": []
    },
    {
      "cell_type": "code",
      "metadata": {
        "id": "3YI3NiRpBzf_"
      },
      "source": [
        "# avg death day - avg case day\n",
        "df['Avg Death Day - Avg Case Day'] = df['Avg day of death'] - df['Avg day of case'] "
      ],
      "execution_count": 22,
      "outputs": []
    },
    {
      "cell_type": "code",
      "metadata": {
        "id": "0Ymb3MlgCzhz"
      },
      "source": [
        "# avg day of case/ current day\n",
        "df['Avg Day of Case/ Current Day'] = df['Avg day of case'] / df['Day']"
      ],
      "execution_count": 23,
      "outputs": []
    },
    {
      "cell_type": "code",
      "metadata": {
        "id": "j1LpK--RDwnS"
      },
      "source": [
        "# avg death day/current day\n",
        "df['Avg Day of Death/ Current Day'] = df['Avg day of death'] / df['Day']"
      ],
      "execution_count": 24,
      "outputs": []
    },
    {
      "cell_type": "code",
      "metadata": {
        "id": "HAzolIv_GR5F"
      },
      "source": [
        "df['Avg Case Day - Avg Death Day']= df['Avg day of case']- df['Avg day of death']"
      ],
      "execution_count": 25,
      "outputs": []
    },
    {
      "cell_type": "code",
      "metadata": {
        "id": "S84cKJx4JwAX"
      },
      "source": [
        "# converting to datetime\n",
        "df.date = pd.to_datetime(df.date)"
      ],
      "execution_count": 26,
      "outputs": []
    },
    {
      "cell_type": "code",
      "metadata": {
        "id": "1FZB3O-hdx5t"
      },
      "source": [
        "df = df.drop(columns='index')"
      ],
      "execution_count": 27,
      "outputs": []
    },
    {
      "cell_type": "code",
      "metadata": {
        "id": "M51RnOQZhxaC",
        "colab": {
          "base_uri": "https://localhost:8080/",
          "height": 606
        },
        "outputId": "021d7778-9f00-4484-fc94-3ad013dfaffa"
      },
      "source": [
        "df"
      ],
      "execution_count": 28,
      "outputs": [
        {
          "output_type": "execute_result",
          "data": {
            "text/html": [
              "<div>\n",
              "<style scoped>\n",
              "    .dataframe tbody tr th:only-of-type {\n",
              "        vertical-align: middle;\n",
              "    }\n",
              "\n",
              "    .dataframe tbody tr th {\n",
              "        vertical-align: top;\n",
              "    }\n",
              "\n",
              "    .dataframe thead th {\n",
              "        text-align: right;\n",
              "    }\n",
              "</style>\n",
              "<table border=\"1\" class=\"dataframe\">\n",
              "  <thead>\n",
              "    <tr style=\"text-align: right;\">\n",
              "      <th></th>\n",
              "      <th>date</th>\n",
              "      <th>state</th>\n",
              "      <th>Deaths</th>\n",
              "      <th>Cases</th>\n",
              "      <th>Day</th>\n",
              "      <th>Avg day of case</th>\n",
              "      <th>Avg day of death</th>\n",
              "      <th>cdf_cases</th>\n",
              "      <th>cdf_deaths</th>\n",
              "      <th>Avg Death Day - Avg Case Day</th>\n",
              "      <th>Avg Day of Case/ Current Day</th>\n",
              "      <th>Avg Day of Death/ Current Day</th>\n",
              "      <th>Avg Case Day - Avg Death Day</th>\n",
              "    </tr>\n",
              "  </thead>\n",
              "  <tbody>\n",
              "    <tr>\n",
              "      <th>0</th>\n",
              "      <td>2020-03-01</td>\n",
              "      <td>FL</td>\n",
              "      <td>0</td>\n",
              "      <td>3222.16</td>\n",
              "      <td>1.0</td>\n",
              "      <td>1.0000</td>\n",
              "      <td>NaN</td>\n",
              "      <td>0.000515413</td>\n",
              "      <td>0</td>\n",
              "      <td>NaN</td>\n",
              "      <td>1.000000</td>\n",
              "      <td>NaN</td>\n",
              "      <td>NaN</td>\n",
              "    </tr>\n",
              "    <tr>\n",
              "      <th>1</th>\n",
              "      <td>2020-03-02</td>\n",
              "      <td>FL</td>\n",
              "      <td>0</td>\n",
              "      <td>4089.55</td>\n",
              "      <td>2.0</td>\n",
              "      <td>1.2121</td>\n",
              "      <td>NaN</td>\n",
              "      <td>0.000654159</td>\n",
              "      <td>0</td>\n",
              "      <td>NaN</td>\n",
              "      <td>0.606050</td>\n",
              "      <td>NaN</td>\n",
              "      <td>NaN</td>\n",
              "    </tr>\n",
              "    <tr>\n",
              "      <th>2</th>\n",
              "      <td>2020-03-03</td>\n",
              "      <td>FL</td>\n",
              "      <td>0</td>\n",
              "      <td>5128.40</td>\n",
              "      <td>3.0</td>\n",
              "      <td>1.5743</td>\n",
              "      <td>NaN</td>\n",
              "      <td>0.000820333</td>\n",
              "      <td>0</td>\n",
              "      <td>NaN</td>\n",
              "      <td>0.524767</td>\n",
              "      <td>NaN</td>\n",
              "      <td>NaN</td>\n",
              "    </tr>\n",
              "    <tr>\n",
              "      <th>3</th>\n",
              "      <td>2020-03-04</td>\n",
              "      <td>FL</td>\n",
              "      <td>0</td>\n",
              "      <td>6373.94</td>\n",
              "      <td>4.0</td>\n",
              "      <td>2.0483</td>\n",
              "      <td>NaN</td>\n",
              "      <td>0.00101957</td>\n",
              "      <td>0</td>\n",
              "      <td>NaN</td>\n",
              "      <td>0.512075</td>\n",
              "      <td>NaN</td>\n",
              "      <td>NaN</td>\n",
              "    </tr>\n",
              "    <tr>\n",
              "      <th>4</th>\n",
              "      <td>2020-03-05</td>\n",
              "      <td>FL</td>\n",
              "      <td>0</td>\n",
              "      <td>7858.56</td>\n",
              "      <td>5.0</td>\n",
              "      <td>2.6059</td>\n",
              "      <td>NaN</td>\n",
              "      <td>0.00125705</td>\n",
              "      <td>0</td>\n",
              "      <td>NaN</td>\n",
              "      <td>0.521180</td>\n",
              "      <td>NaN</td>\n",
              "      <td>NaN</td>\n",
              "    </tr>\n",
              "    <tr>\n",
              "      <th>...</th>\n",
              "      <td>...</td>\n",
              "      <td>...</td>\n",
              "      <td>...</td>\n",
              "      <td>...</td>\n",
              "      <td>...</td>\n",
              "      <td>...</td>\n",
              "      <td>...</td>\n",
              "      <td>...</td>\n",
              "      <td>...</td>\n",
              "      <td>...</td>\n",
              "      <td>...</td>\n",
              "      <td>...</td>\n",
              "      <td>...</td>\n",
              "    </tr>\n",
              "    <tr>\n",
              "      <th>353</th>\n",
              "      <td>2021-02-17</td>\n",
              "      <td>FL</td>\n",
              "      <td>29824</td>\n",
              "      <td>6196430.00</td>\n",
              "      <td>354.0</td>\n",
              "      <td>215.1771</td>\n",
              "      <td>223.8866</td>\n",
              "      <td>0.991173</td>\n",
              "      <td>0.979957</td>\n",
              "      <td>8.7095</td>\n",
              "      <td>0.607845</td>\n",
              "      <td>0.632448</td>\n",
              "      <td>-8.7095</td>\n",
              "    </tr>\n",
              "    <tr>\n",
              "      <th>354</th>\n",
              "      <td>2021-02-18</td>\n",
              "      <td>FL</td>\n",
              "      <td>29990</td>\n",
              "      <td>6210310.00</td>\n",
              "      <td>355.0</td>\n",
              "      <td>215.4896</td>\n",
              "      <td>224.6123</td>\n",
              "      <td>0.993394</td>\n",
              "      <td>0.985411</td>\n",
              "      <td>9.1227</td>\n",
              "      <td>0.607013</td>\n",
              "      <td>0.632711</td>\n",
              "      <td>-9.1227</td>\n",
              "    </tr>\n",
              "    <tr>\n",
              "      <th>355</th>\n",
              "      <td>2021-02-19</td>\n",
              "      <td>FL</td>\n",
              "      <td>30214</td>\n",
              "      <td>6224190.00</td>\n",
              "      <td>356.0</td>\n",
              "      <td>215.8029</td>\n",
              "      <td>225.5864</td>\n",
              "      <td>0.995614</td>\n",
              "      <td>0.992771</td>\n",
              "      <td>9.7835</td>\n",
              "      <td>0.606188</td>\n",
              "      <td>0.633670</td>\n",
              "      <td>-9.7835</td>\n",
              "    </tr>\n",
              "    <tr>\n",
              "      <th>356</th>\n",
              "      <td>2021-02-20</td>\n",
              "      <td>FL</td>\n",
              "      <td>30339</td>\n",
              "      <td>6237940.00</td>\n",
              "      <td>357.0</td>\n",
              "      <td>216.1141</td>\n",
              "      <td>226.1278</td>\n",
              "      <td>0.997813</td>\n",
              "      <td>0.996878</td>\n",
              "      <td>10.0137</td>\n",
              "      <td>0.605362</td>\n",
              "      <td>0.633411</td>\n",
              "      <td>-10.0137</td>\n",
              "    </tr>\n",
              "    <tr>\n",
              "      <th>357</th>\n",
              "      <td>2021-02-21</td>\n",
              "      <td>FL</td>\n",
              "      <td>30434</td>\n",
              "      <td>6251610.00</td>\n",
              "      <td>358.0</td>\n",
              "      <td>216.4244</td>\n",
              "      <td>226.5394</td>\n",
              "      <td>1</td>\n",
              "      <td>1</td>\n",
              "      <td>10.1150</td>\n",
              "      <td>0.604537</td>\n",
              "      <td>0.632792</td>\n",
              "      <td>-10.1150</td>\n",
              "    </tr>\n",
              "  </tbody>\n",
              "</table>\n",
              "<p>358 rows × 13 columns</p>\n",
              "</div>"
            ],
            "text/plain": [
              "          date  ... Avg Case Day - Avg Death Day\n",
              "0   2020-03-01  ...                          NaN\n",
              "1   2020-03-02  ...                          NaN\n",
              "2   2020-03-03  ...                          NaN\n",
              "3   2020-03-04  ...                          NaN\n",
              "4   2020-03-05  ...                          NaN\n",
              "..         ...  ...                          ...\n",
              "353 2021-02-17  ...                      -8.7095\n",
              "354 2021-02-18  ...                      -9.1227\n",
              "355 2021-02-19  ...                      -9.7835\n",
              "356 2021-02-20  ...                     -10.0137\n",
              "357 2021-02-21  ...                     -10.1150\n",
              "\n",
              "[358 rows x 13 columns]"
            ]
          },
          "metadata": {},
          "execution_count": 28
        }
      ]
    },
    {
      "cell_type": "code",
      "metadata": {
        "id": "VwfaqyeF2mJB"
      },
      "source": [
        "pd.set_option('max_rows', 99999)"
      ],
      "execution_count": 29,
      "outputs": []
    },
    {
      "cell_type": "markdown",
      "metadata": {
        "id": "sOHA96bdFFo3"
      },
      "source": [
        "**Statistics**"
      ]
    },
    {
      "cell_type": "code",
      "metadata": {
        "id": "B84iVqT-FMOM"
      },
      "source": [
        "# framework for statistics\n",
        "averagedayofcase = df['Avg day of case'].iloc[-1]\n",
        "averagedayofdeath = df['Avg day of death'].iloc[-1]\n",
        "differDeaths = df['Avg Death Day - Avg Case Day'].max()\n",
        "dateofdifferDeath = df.loc[df['Avg Death Day - Avg Case Day'].idxmax(), 'date']\n",
        "dateofdifferCase = df.loc[df['Avg Case Day - Avg Death Day'].idxmax(), 'date']\n",
        "differCases= df['Avg Case Day - Avg Death Day'].max()\n",
        "datesDeathDayGreaterThanCase = df['date'].where(df['Avg day of death']>df['Avg day of case'])"
      ],
      "execution_count": 30,
      "outputs": []
    },
    {
      "cell_type": "code",
      "metadata": {
        "id": "n3MUHKhtMQLX",
        "colab": {
          "base_uri": "https://localhost:8080/"
        },
        "outputId": "ddf6fae5-0693-4f38-990d-802acd5f8fa9"
      },
      "source": [
        "print('COVID-19 STATISTICS')\n",
        "print('')\n",
        "print('State = ', df.state.iloc[-1])\n",
        "print('Average Day of Death and Average Day of Case as of',df['date'].iloc[-1])\n",
        "print('Case =', averagedayofcase)\n",
        "print('Death = ', averagedayofdeath)\n",
        "print('Days When Average Dates of Death Differ By Largest Amounts')\n",
        "print('Amount:', differDeaths,'Days',',','Day = ',dateofdifferDeath)\n",
        "print('Days When Average Dates of Cases Differ By Largest Amounts')\n",
        "print('Amount:',differCases,'Days',',','Day = ',dateofdifferCase)\n",
        "print(\"The number of days per month where Average Death Day is greater than Average Case Day:\")\n",
        "datesDeathDayGreaterThanCase.groupby(datesDeathDayGreaterThanCase.dt.month).count()"
      ],
      "execution_count": 33,
      "outputs": [
        {
          "output_type": "stream",
          "name": "stdout",
          "text": [
            "COVID-19 STATISTICS\n",
            "\n",
            "State =  FL\n",
            "Average Day of Death and Average Day of Case as of 2021-02-21 00:00:00\n",
            "Case = 216.4244\n",
            "Death =  226.5394\n",
            "Days When Average Dates of Death Differ By Largest Amounts\n",
            "Amount: 21.449299999999994 Days , Day =  2020-10-17 00:00:00\n",
            "Days When Average Dates of Cases Differ By Largest Amounts\n",
            "Amount: 20.33330000000001 Days , Day =  2020-07-08 00:00:00\n",
            "The number of days per month where Average Death Day is greater than Average Case Day:\n"
          ]
        },
        {
          "output_type": "execute_result",
          "data": {
            "text/plain": [
              "date\n",
              "1.0      4\n",
              "2.0     21\n",
              "3.0     21\n",
              "4.0     30\n",
              "5.0     31\n",
              "6.0     14\n",
              "8.0     21\n",
              "9.0     30\n",
              "10.0    31\n",
              "11.0    30\n",
              "12.0    21\n",
              "Name: date, dtype: int64"
            ]
          },
          "metadata": {},
          "execution_count": 33
        }
      ]
    },
    {
      "cell_type": "markdown",
      "metadata": {
        "id": "QjKUIo_rRc43"
      },
      "source": [
        "**Data Visualization**"
      ]
    },
    {
      "cell_type": "code",
      "metadata": {
        "id": "1tU4ZIveysMy",
        "colab": {
          "base_uri": "https://localhost:8080/",
          "height": 1000
        },
        "outputId": "671e752e-9bff-4b4b-989d-fc81ce357163"
      },
      "source": [
        "plt.rcParams['font.family'] = 'serif'\n",
        "plt.rcParams['font.serif'] = ['Times New Roman'] + plt.rcParams['font.serif']\n",
        "params = {'axes.labelsize': 18,'axes.titlesize':18, 'legend.fontsize': 18, 'xtick.labelsize': 18, 'ytick.labelsize': 18}\n",
        "plt.rcParams[\"font.weight\"] = \"bold\"\n",
        "plt.rcParams[\"axes.labelweight\"] = \"bold\"\n",
        "plt.rcParams.update(params)\n",
        "plt.figure(figsize = (10,15))\n",
        "\n",
        "plt.subplot(4,1,1)\n",
        "plt.plot(df['Day'], df['Avg day of case'],df['Avg day of death'])\n",
        "plt.title('Average Day of Case/Death',weight = 'bold')\n",
        "plt.xlabel('Day')\n",
        "plt.ylabel('Average Day of Case or Death')\n",
        "plt.legend(['Cases','Deaths'])\n",
        "\n",
        "plt.subplot(4,1,2)\n",
        "plt.plot(df['Day'], df['Avg Death Day - Avg Case Day'])\n",
        "plt.title('Average Death Day - Average Case Day',weight = 'bold')\n",
        "plt.xlabel('Day')\n",
        "plt.ylabel('Difference in Days')\n",
        "\n",
        "plt.subplot(4,1,3)\n",
        "plt.plot(df['Day'],df['cdf_cases'],df['cdf_deaths'])\n",
        "plt.title('Cumulative Probability Distribution, Days of Cases and Deaths',weight = 'bold')\n",
        "plt.xlabel('Day')\n",
        "plt.ylabel('Cumulative Probability')\n",
        "plt.legend(['Cases','Deaths'])\n",
        "\n",
        "plt.subplot(4,1,4)\n",
        "plt.plot(df['Day'], df['Avg Day of Case/ Current Day'], df['Avg Day of Death/ Current Day'])\n",
        "plt.title('Ratio of Average Day of Event to Current Date',weight = 'bold')\n",
        "plt.xlabel('Day')\n",
        "plt.ylabel('Ratio')\n",
        "plt.legend(['Cases','Deaths'])\n",
        "\n",
        "plt.tight_layout()\n",
        "plt.style.use('seaborn')\n",
        "\n",
        "plt.savefig(\"image8.png\")"
      ],
      "execution_count": 32,
      "outputs": [
        {
          "output_type": "display_data",
          "data": {
            "image/png": "[encoded data removed]",
            "text/plain": [
              "<Figure size 720x1080 with 4 Axes>"
            ]
          },
          "metadata": {
            "needs_background": "light"
          }
        }
      ]
    }
  ]
}