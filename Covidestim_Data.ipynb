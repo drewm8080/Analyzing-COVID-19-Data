{
  "nbformat": 4,
  "nbformat_minor": 0,
  "metadata": {
    "colab": {
      "name": "Covidestim Data",
      "provenance": [],
      "authorship_tag": "ABX9TyMqxdmaMUDfK9tpcimqDEcK",
      "include_colab_link": true
    },
    "kernelspec": {
      "display_name": "Python 3",
      "name": "python3"
    }
  },
  "cells": [
    {
      "cell_type": "markdown",
      "metadata": {
        "id": "view-in-github",
        "colab_type": "text"
      },
      "source": [
        "<a href=\"https://colab.research.google.com/github/drewm8080/Analyzing-COVID-19-Data-Sources/blob/main/Covidestim_Data.ipynb\" target=\"_parent\"><img src=\"https://colab.research.google.com/assets/colab-badge.svg\" alt=\"Open In Colab\"/></a>"
      ]
    },
    {
      "cell_type": "markdown",
      "metadata": {
        "id": "c1p5DZ1z5eNw"
      },
      "source": [
        "**User Input Here**"
      ]
    },
    {
      "cell_type": "code",
      "metadata": {
        "colab": {
          "base_uri": "https://localhost:8080/"
        },
        "id": "JE7ZSh2h3Dnt",
        "outputId": "acbe9f3d-f300-4956-e0d1-2e630c7388d4"
      },
      "source": [
        "print('Welcome to the COVID-19 Covidestim Statistics')\n",
        "print('')\n",
        "print('Please tell me which state you would like to see. Type full name of state with the first letter capitalized. EX: Florida, Georgia etc.')\n",
        "userinput = input('Please put state name here:')"
      ],
      "execution_count": null,
      "outputs": [
        {
          "output_type": "stream",
          "text": [
            "Welcome to the COVID-19 Covidestim Statistics\n",
            "\n",
            "Please tell me which state you would like to see. Type full name of state with the first letter capitalized. EX: Florida, Georgia etc.\n",
            "Please put state name here:Florida\n"
          ],
          "name": "stdout"
        }
      ]
    },
    {
      "cell_type": "markdown",
      "metadata": {
        "id": "4GAko2ty5jrf"
      },
      "source": [
        "**Framework for Cases and Deaths from Covidestim**"
      ]
    },
    {
      "cell_type": "code",
      "metadata": {
        "id": "NGjzSN0LAl6S"
      },
      "source": [
        "import numpy as np\n",
        "import pandas as pd\n",
        "import matplotlib.pyplot as plt\n",
        "import datetime as dt"
      ],
      "execution_count": null,
      "outputs": []
    },
    {
      "cell_type": "code",
      "metadata": {
        "id": "VoALYL5c_vBX"
      },
      "source": [
        "# loading in the data\n",
        "url = '/content/Covidestim_04:12:201.csv'\n",
        "df= pd.read_csv(url)"
      ],
      "execution_count": null,
      "outputs": []
    },
    {
      "cell_type": "code",
      "metadata": {
        "id": "2Ejc9sAcBvuK"
      },
      "source": [
        "# setting datetime index \n",
        "df.date = pd.to_datetime(df.date)"
      ],
      "execution_count": null,
      "outputs": []
    },
    {
      "cell_type": "code",
      "metadata": {
        "id": "BSpIXTBMBzx9"
      },
      "source": [
        "# making sure the data starts after 03-01-2020\n",
        "df = df[df.date >= '2020-03-01']\n",
        "df = df[df.date <= '2021-02-21']"
      ],
      "execution_count": null,
      "outputs": []
    },
    {
      "cell_type": "code",
      "metadata": {
        "id": "1U8y90P9Ejsv"
      },
      "source": [
        "# slicing the data \n",
        "df = df.loc[:,['state','date','cases.fitted','deaths.fitted']]"
      ],
      "execution_count": null,
      "outputs": []
    },
    {
      "cell_type": "code",
      "metadata": {
        "id": "rbId_fg9m8WE"
      },
      "source": [
        "# cleaning the data\n",
        "df['Cases'] = df['cases.fitted']\n",
        "df['Deaths'] = df['deaths.fitted']\n",
        "df = df.drop(columns =['cases.fitted','deaths.fitted'])"
      ],
      "execution_count": null,
      "outputs": []
    },
    {
      "cell_type": "code",
      "metadata": {
        "id": "H6ZZiipd33Kk"
      },
      "source": [
        "# selecting the state\n",
        "df = df[df.state == userinput]"
      ],
      "execution_count": null,
      "outputs": []
    },
    {
      "cell_type": "code",
      "metadata": {
        "id": "OQEDJSRwq9X3"
      },
      "source": [
        "# cleaning the data\n",
        "df= df.reset_index(drop = True)"
      ],
      "execution_count": null,
      "outputs": []
    },
    {
      "cell_type": "code",
      "metadata": {
        "id": "_elaopMpn4Jf"
      },
      "source": [
        "# calulating the cummulative cases\n",
        "for i in range(1,len(df)):\n",
        "  x = df.loc[i,'Cases'] + df.loc[i-1,'Cases']\n",
        "  df.loc[i,'Cases'] = x"
      ],
      "execution_count": null,
      "outputs": []
    },
    {
      "cell_type": "code",
      "metadata": {
        "id": "kDfWmpa3sxYw"
      },
      "source": [
        "# calulating the cummulative deaths\n",
        "for i in range(1,len(df)):\n",
        "  x = df.loc[i,'Deaths'] + df.loc[i-1,'Deaths']\n",
        "  df.loc[i,'Deaths'] = x"
      ],
      "execution_count": null,
      "outputs": []
    },
    {
      "cell_type": "code",
      "metadata": {
        "id": "7caJ2JxfFta5"
      },
      "source": [
        "# creating day column for each date \n",
        "df['Day'] = df.groupby('state')['date'].rank(ascending=True)"
      ],
      "execution_count": null,
      "outputs": []
    },
    {
      "cell_type": "code",
      "metadata": {
        "id": "e4mCNI1HGIa3"
      },
      "source": [
        "df['Avg day of case'] = 0 # declaring new column\n",
        "df['Avg day of death'] = 0"
      ],
      "execution_count": null,
      "outputs": []
    },
    {
      "cell_type": "code",
      "metadata": {
        "id": "XAWIhzFrGvbh"
      },
      "source": [
        "# setting the first day of each state to be the first date of cases \n",
        "df.loc[df.groupby('state')['date'].head(1).index, 'Avg day of case'] = df.loc[:,'Day']"
      ],
      "execution_count": null,
      "outputs": []
    },
    {
      "cell_type": "code",
      "metadata": {
        "id": "pPp30WrdHsRK"
      },
      "source": [
        "# setting the first day as the first row in Avg day of death\n",
        "\n",
        "df.loc[df.groupby('state')['date'].head(1).index, 'Avg day of death'] = df.loc[:,'Day']"
      ],
      "execution_count": null,
      "outputs": []
    },
    {
      "cell_type": "code",
      "metadata": {
        "id": "-fUbpNqi34lf"
      },
      "source": [
        "# creating the CDF Column\n",
        "df['cdf_cases'] = df['Cases']"
      ],
      "execution_count": null,
      "outputs": []
    },
    {
      "cell_type": "code",
      "metadata": {
        "id": "ELCqT_NB4Ay8"
      },
      "source": [
        "# creating the cdf column\n",
        "df['cdf_deaths'] = df['Deaths']"
      ],
      "execution_count": null,
      "outputs": []
    },
    {
      "cell_type": "code",
      "metadata": {
        "id": "hqYmjR4Q4EHy"
      },
      "source": [
        "# creating the formula for the CDF column\n",
        "df.loc[:,'cdf_cases':] = df.loc[:,'cdf_cases':].div(df.iloc[-1]['cdf_cases':])\n",
        "df = df.reset_index()"
      ],
      "execution_count": null,
      "outputs": []
    },
    {
      "cell_type": "code",
      "metadata": {
        "id": "Undb1AYW4GJs"
      },
      "source": [
        "# creating the formula for the CDF column\n",
        "df['cdf_deaths'] = df.loc[:,'cdf_deaths':].div(df.iloc[-1]['cdf_deaths':])"
      ],
      "execution_count": null,
      "outputs": []
    },
    {
      "cell_type": "code",
      "metadata": {
        "id": "3wgjGo-Z4Itg"
      },
      "source": [
        "# Calculating the Average Day of Case\n",
        "for i in range(1, len(df)):\n",
        "  x = (((df.loc[i, 'Cases'] - df.loc[i-1, 'Cases']) * (df.loc[i, 'Day']- df.loc[i-1, 'Avg day of case'])) / (df.loc[i, 'Cases'])) + (df.loc[i-1, 'Avg day of case'])\n",
        "  df.loc[i, 'Avg day of case'] = round(x, 2)"
      ],
      "execution_count": null,
      "outputs": []
    },
    {
      "cell_type": "code",
      "metadata": {
        "id": "l5o2XzvI4MHX"
      },
      "source": [
        "# Calulating Average day of Death\n",
        "for i in range(1, len(df)):\n",
        "  x = (((df.loc[i, 'Deaths'] - df.loc[i-1, 'Deaths']) * (df.loc[i, 'Day']- df.loc[i-1, 'Avg day of death'])) / (df.loc[i, 'Deaths'])) + (df.loc[i-1, 'Avg day of death'])\n",
        "  df.loc[i, 'Avg day of death'] = round(x, 2)"
      ],
      "execution_count": null,
      "outputs": []
    },
    {
      "cell_type": "code",
      "metadata": {
        "id": "03WAwLav4Pl2"
      },
      "source": [
        "# subtracting the avg death day and avg case day\n",
        "df['Avg Death Day - Avg Case Day'] = df['Avg day of death'] - df['Avg day of case'] "
      ],
      "execution_count": null,
      "outputs": []
    },
    {
      "cell_type": "code",
      "metadata": {
        "id": "KyDtkYxztsyq"
      },
      "source": [
        "df['Avg Case Day - Avg Death Day']= df['Avg day of case']- df['Avg day of death']"
      ],
      "execution_count": null,
      "outputs": []
    },
    {
      "cell_type": "code",
      "metadata": {
        "id": "9HpkmF2m4QM8"
      },
      "source": [
        "# avg case day/ current day\n",
        "df['Avg Day of Case/ Current Day'] = df['Avg day of case'] / df['Day']"
      ],
      "execution_count": null,
      "outputs": []
    },
    {
      "cell_type": "code",
      "metadata": {
        "id": "FA8QsWOU4Qk2"
      },
      "source": [
        "# avg death day/ current day\n",
        "df['Avg Day of Death/ Current Day'] = df['Avg day of death'] / df['Day']"
      ],
      "execution_count": null,
      "outputs": []
    },
    {
      "cell_type": "code",
      "metadata": {
        "id": "QK4k5f5j45Zb"
      },
      "source": [
        "# cleaning data\n",
        "df = df.drop(columns = 'index')"
      ],
      "execution_count": null,
      "outputs": []
    },
    {
      "cell_type": "code",
      "metadata": {
        "id": "pKHUnUwaxMzT"
      },
      "source": [
        "df= df.round(decimals = 4)"
      ],
      "execution_count": null,
      "outputs": []
    },
    {
      "cell_type": "code",
      "metadata": {
        "colab": {
          "base_uri": "https://localhost:8080/",
          "height": 606
        },
        "id": "-4xQxWDnaFjw",
        "outputId": "0185d45c-c281-4fe0-fe57-ddd30f8fe23c"
      },
      "source": [
        "df"
      ],
      "execution_count": null,
      "outputs": [
        {
          "output_type": "execute_result",
          "data": {
            "text/html": [
              "<div>\n",
              "<style scoped>\n",
              "    .dataframe tbody tr th:only-of-type {\n",
              "        vertical-align: middle;\n",
              "    }\n",
              "\n",
              "    .dataframe tbody tr th {\n",
              "        vertical-align: top;\n",
              "    }\n",
              "\n",
              "    .dataframe thead th {\n",
              "        text-align: right;\n",
              "    }\n",
              "</style>\n",
              "<table border=\"1\" class=\"dataframe\">\n",
              "  <thead>\n",
              "    <tr style=\"text-align: right;\">\n",
              "      <th></th>\n",
              "      <th>state</th>\n",
              "      <th>date</th>\n",
              "      <th>Cases</th>\n",
              "      <th>Deaths</th>\n",
              "      <th>Day</th>\n",
              "      <th>Avg day of case</th>\n",
              "      <th>Avg day of death</th>\n",
              "      <th>cdf_cases</th>\n",
              "      <th>cdf_deaths</th>\n",
              "      <th>Avg Death Day - Avg Case Day</th>\n",
              "      <th>Avg Case Day - Avg Death Day</th>\n",
              "      <th>Avg Day of Case/ Current Day</th>\n",
              "      <th>Avg Day of Death/ Current Day</th>\n",
              "    </tr>\n",
              "  </thead>\n",
              "  <tbody>\n",
              "    <tr>\n",
              "      <th>0</th>\n",
              "      <td>Florida</td>\n",
              "      <td>2020-03-01</td>\n",
              "      <td>2.427000e-01</td>\n",
              "      <td>0.0020</td>\n",
              "      <td>1.0</td>\n",
              "      <td>1.00</td>\n",
              "      <td>1.00</td>\n",
              "      <td>1.29814e-07</td>\n",
              "      <td>6.78264e-08</td>\n",
              "      <td>0.00</td>\n",
              "      <td>0.00</td>\n",
              "      <td>1.0000</td>\n",
              "      <td>1.0000</td>\n",
              "    </tr>\n",
              "    <tr>\n",
              "      <th>1</th>\n",
              "      <td>Florida</td>\n",
              "      <td>2020-03-02</td>\n",
              "      <td>5.785000e-01</td>\n",
              "      <td>0.0049</td>\n",
              "      <td>2.0</td>\n",
              "      <td>1.58</td>\n",
              "      <td>1.59</td>\n",
              "      <td>3.09428e-07</td>\n",
              "      <td>1.63703e-07</td>\n",
              "      <td>0.01</td>\n",
              "      <td>-0.01</td>\n",
              "      <td>0.7900</td>\n",
              "      <td>0.7950</td>\n",
              "    </tr>\n",
              "    <tr>\n",
              "      <th>2</th>\n",
              "      <td>Florida</td>\n",
              "      <td>2020-03-03</td>\n",
              "      <td>1.044900e+00</td>\n",
              "      <td>0.0090</td>\n",
              "      <td>3.0</td>\n",
              "      <td>2.21</td>\n",
              "      <td>2.23</td>\n",
              "      <td>5.58869e-07</td>\n",
              "      <td>2.99499e-07</td>\n",
              "      <td>0.02</td>\n",
              "      <td>-0.02</td>\n",
              "      <td>0.7367</td>\n",
              "      <td>0.7433</td>\n",
              "    </tr>\n",
              "    <tr>\n",
              "      <th>3</th>\n",
              "      <td>Florida</td>\n",
              "      <td>2020-03-04</td>\n",
              "      <td>1.694700e+00</td>\n",
              "      <td>0.0147</td>\n",
              "      <td>4.0</td>\n",
              "      <td>2.90</td>\n",
              "      <td>2.92</td>\n",
              "      <td>9.06406e-07</td>\n",
              "      <td>4.92112e-07</td>\n",
              "      <td>0.02</td>\n",
              "      <td>-0.02</td>\n",
              "      <td>0.7250</td>\n",
              "      <td>0.7300</td>\n",
              "    </tr>\n",
              "    <tr>\n",
              "      <th>4</th>\n",
              "      <td>Florida</td>\n",
              "      <td>2020-03-05</td>\n",
              "      <td>2.602600e+00</td>\n",
              "      <td>0.0229</td>\n",
              "      <td>5.0</td>\n",
              "      <td>3.63</td>\n",
              "      <td>3.66</td>\n",
              "      <td>1.39195e-06</td>\n",
              "      <td>7.65559e-07</td>\n",
              "      <td>0.03</td>\n",
              "      <td>-0.03</td>\n",
              "      <td>0.7260</td>\n",
              "      <td>0.7320</td>\n",
              "    </tr>\n",
              "    <tr>\n",
              "      <th>...</th>\n",
              "      <td>...</td>\n",
              "      <td>...</td>\n",
              "      <td>...</td>\n",
              "      <td>...</td>\n",
              "      <td>...</td>\n",
              "      <td>...</td>\n",
              "      <td>...</td>\n",
              "      <td>...</td>\n",
              "      <td>...</td>\n",
              "      <td>...</td>\n",
              "      <td>...</td>\n",
              "      <td>...</td>\n",
              "      <td>...</td>\n",
              "    </tr>\n",
              "    <tr>\n",
              "      <th>353</th>\n",
              "      <td>Florida</td>\n",
              "      <td>2021-02-17</td>\n",
              "      <td>1.845396e+06</td>\n",
              "      <td>29321.6524</td>\n",
              "      <td>354.0</td>\n",
              "      <td>237.64</td>\n",
              "      <td>224.22</td>\n",
              "      <td>0.98698</td>\n",
              "      <td>0.980497</td>\n",
              "      <td>-13.42</td>\n",
              "      <td>13.42</td>\n",
              "      <td>0.6713</td>\n",
              "      <td>0.6334</td>\n",
              "    </tr>\n",
              "    <tr>\n",
              "      <th>354</th>\n",
              "      <td>Florida</td>\n",
              "      <td>2021-02-18</td>\n",
              "      <td>1.851641e+06</td>\n",
              "      <td>29471.8753</td>\n",
              "      <td>355.0</td>\n",
              "      <td>238.04</td>\n",
              "      <td>224.89</td>\n",
              "      <td>0.99032</td>\n",
              "      <td>0.985521</td>\n",
              "      <td>-13.15</td>\n",
              "      <td>13.15</td>\n",
              "      <td>0.6705</td>\n",
              "      <td>0.6335</td>\n",
              "    </tr>\n",
              "    <tr>\n",
              "      <th>355</th>\n",
              "      <td>Florida</td>\n",
              "      <td>2021-02-19</td>\n",
              "      <td>1.857777e+06</td>\n",
              "      <td>29619.1930</td>\n",
              "      <td>356.0</td>\n",
              "      <td>238.43</td>\n",
              "      <td>225.54</td>\n",
              "      <td>0.993602</td>\n",
              "      <td>0.990447</td>\n",
              "      <td>-12.89</td>\n",
              "      <td>12.89</td>\n",
              "      <td>0.6697</td>\n",
              "      <td>0.6335</td>\n",
              "    </tr>\n",
              "    <tr>\n",
              "      <th>356</th>\n",
              "      <td>Florida</td>\n",
              "      <td>2021-02-20</td>\n",
              "      <td>1.863809e+06</td>\n",
              "      <td>29763.5428</td>\n",
              "      <td>357.0</td>\n",
              "      <td>238.81</td>\n",
              "      <td>226.18</td>\n",
              "      <td>0.996828</td>\n",
              "      <td>0.995274</td>\n",
              "      <td>-12.63</td>\n",
              "      <td>12.63</td>\n",
              "      <td>0.6689</td>\n",
              "      <td>0.6336</td>\n",
              "    </tr>\n",
              "    <tr>\n",
              "      <th>357</th>\n",
              "      <td>Florida</td>\n",
              "      <td>2021-02-21</td>\n",
              "      <td>1.869740e+06</td>\n",
              "      <td>29904.8725</td>\n",
              "      <td>358.0</td>\n",
              "      <td>239.19</td>\n",
              "      <td>226.80</td>\n",
              "      <td>1</td>\n",
              "      <td>1</td>\n",
              "      <td>-12.39</td>\n",
              "      <td>12.39</td>\n",
              "      <td>0.6681</td>\n",
              "      <td>0.6335</td>\n",
              "    </tr>\n",
              "  </tbody>\n",
              "</table>\n",
              "<p>358 rows × 13 columns</p>\n",
              "</div>"
            ],
            "text/plain": [
              "       state  ... Avg Day of Death/ Current Day\n",
              "0    Florida  ...                        1.0000\n",
              "1    Florida  ...                        0.7950\n",
              "2    Florida  ...                        0.7433\n",
              "3    Florida  ...                        0.7300\n",
              "4    Florida  ...                        0.7320\n",
              "..       ...  ...                           ...\n",
              "353  Florida  ...                        0.6334\n",
              "354  Florida  ...                        0.6335\n",
              "355  Florida  ...                        0.6335\n",
              "356  Florida  ...                        0.6336\n",
              "357  Florida  ...                        0.6335\n",
              "\n",
              "[358 rows x 13 columns]"
            ]
          },
          "metadata": {
            "tags": []
          },
          "execution_count": 51
        }
      ]
    },
    {
      "cell_type": "markdown",
      "metadata": {
        "id": "-8-hZKDb9sFy"
      },
      "source": [
        "**Statistics**"
      ]
    },
    {
      "cell_type": "code",
      "metadata": {
        "id": "J_FlPWnY9v3U"
      },
      "source": [
        "# framework for statistics\n",
        "averagedayofcase = df['Avg day of case'].iloc[-1]\n",
        "averagedayofdeath = df['Avg day of death'].iloc[-1]\n",
        "differDeaths = df['Avg Death Day - Avg Case Day'].max()\n",
        "dateofdifferDeath = df.loc[df['Avg Death Day - Avg Case Day'].idxmax(), 'date']\n",
        "dateofdifferCase = df.loc[df['Avg Case Day - Avg Death Day'].idxmax(), 'date']\n",
        "differCases= df['Avg Case Day - Avg Death Day'].max()\n",
        "datesDeathDayGreaterThanCase = df['date'].where(df['Avg day of death']>df['Avg day of case'])"
      ],
      "execution_count": null,
      "outputs": []
    },
    {
      "cell_type": "code",
      "metadata": {
        "id": "meVOtAmCjM-s"
      },
      "source": [
        "pd.set_option('max_rows', 99999)"
      ],
      "execution_count": null,
      "outputs": []
    },
    {
      "cell_type": "markdown",
      "metadata": {
        "id": "vfy9qNqijM3I"
      },
      "source": [
        ""
      ]
    },
    {
      "cell_type": "code",
      "metadata": {
        "id": "-YZzXLkJ9w-0",
        "colab": {
          "base_uri": "https://localhost:8080/"
        },
        "outputId": "492854c9-72e9-4d55-fbb7-228ca327d7c9"
      },
      "source": [
        "print('COVID-19 STATISTICS')\n",
        "print('')\n",
        "print('State = ', df.state.iloc[-1])\n",
        "print('Average Day of Death and Average Day of Case as of',df['date'].iloc[-1])\n",
        "print('Case =', averagedayofcase)\n",
        "print('Death = ', averagedayofdeath)\n",
        "print('Days When Average Dates of Death Differ By Largest Amounts')\n",
        "print('Amount:', differDeaths,'Days',',','Day = ',dateofdifferDeath)\n",
        "print('Amount:',differCases,'Days',',','Day = ',dateofdifferCase)\n",
        "datesDeathDayGreaterThanCase.groupby(datesDeathDayGreaterThanCase.dt.month).apply(\n",
        "    lambda month: ': '.join(month.iloc[[0,-1]].astype(str)))\n",
        "#datesDeathDayGreaterThanCase.groupby(datesDeathDayGreaterThanCase.dt.month).count()"
      ],
      "execution_count": null,
      "outputs": [
        {
          "output_type": "stream",
          "text": [
            "COVID-19 STATISTICS\n",
            "\n",
            "State =  Florida\n",
            "Average Day of Death and Average Day of Case as of 2021-02-21 00:00:00\n",
            "Case = 239.19\n",
            "Death =  226.8\n",
            "Days When Average Dates of Death Differ By Largest Amounts\n",
            "Amount: 7.14 Days , Day =  2020-10-18 00:00:00\n",
            "Amount: 22.63 Days , Day =  2020-07-14 00:00:00\n"
          ],
          "name": "stdout"
        },
        {
          "output_type": "execute_result",
          "data": {
            "text/plain": [
              "date\n",
              "3.0     30\n",
              "4.0     30\n",
              "5.0     31\n",
              "6.0     13\n",
              "9.0     19\n",
              "10.0    31\n",
              "11.0    16\n",
              "Name: date, dtype: int64"
            ]
          },
          "metadata": {
            "tags": []
          },
          "execution_count": 59
        }
      ]
    },
    {
      "cell_type": "code",
      "metadata": {
        "id": "JHYmiVCM9z1i",
        "colab": {
          "base_uri": "https://localhost:8080/",
          "height": 625
        },
        "outputId": "450c9436-1f5a-4f21-b8ee-8d1c9dd8fd9b"
      },
      "source": [
        "plt.figure(figsize = (18,8))\n",
        "\n",
        "plt.subplot(2,2,1)\n",
        "plt.plot(df['Day'], df['Avg day of case'],df['Avg day of death'])\n",
        "plt.title('Average Day of Case/Death')\n",
        "plt.xlabel('Day')\n",
        "plt.ylabel('Average Day of Case or Death')\n",
        "plt.legend(['Average Day of Case','Average Day of Death'])\n",
        "plt.subplot(2,2,2)\n",
        "plt.plot(df['Day'], df['Avg Death Day - Avg Case Day'])\n",
        "plt.title('Avg Death Day - Avg Case Day')\n",
        "plt.xlabel('Day')\n",
        "plt.ylabel('Difference in Days')\n",
        "\n",
        "plt.subplot(2,2,3)\n",
        "plt.plot(df['Day'],df['cdf_cases'],df['cdf_deaths'])\n",
        "plt.title('Cumulative Probability Distribution, Days of Cases and Deaths')\n",
        "plt.xlabel('Day')\n",
        "plt.ylabel('Cumulative Probability')\n",
        "plt.legend(['Case','Death'])\n",
        "\n",
        "plt.subplot(2,2,4)\n",
        "plt.plot(df['Day'], df['Avg Day of Case/ Current Day'], df['Avg Day of Death/ Current Day'])\n",
        "plt.title('Ratio of Average Day of event to Current Date')\n",
        "plt.xlabel('Day')\n",
        "plt.ylabel('Ratio')\n",
        "plt.legend(['Ratio Case','Ratio Death'])\n",
        "\n",
        "\n",
        "plt.suptitle('State:California, Covidestim Data, as of Date Day 1 = 03/01/2020, Date Ran: 04/12/2021', size= 16,y=1.05)\n",
        "plt.tight_layout()\n",
        "\n",
        "plt.style.use('seaborn')"
      ],
      "execution_count": null,
      "outputs": [
        {
          "output_type": "display_data",
          "data": {
            "image/png": "[encoded data removed]",
            "text/plain": [
              "<Figure size 1296x576 with 4 Axes>"
            ]
          },
          "metadata": {
            "tags": [],
            "needs_background": "light"
          }
        }
      ]
    }
  ]
}