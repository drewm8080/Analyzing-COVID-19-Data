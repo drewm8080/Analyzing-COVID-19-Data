{
  "nbformat": 4,
  "nbformat_minor": 0,
  "metadata": {
    "colab": {
      "name": "Covidestim Data",
      "provenance": [],
      "authorship_tag": "ABX9TyNbT0b8tJc56r5H+C5R/UAn",
      "include_colab_link": true
    },
    "kernelspec": {
      "name": "python3",
      "display_name": "Python 3"
    }
  },
  "cells": [
    {
      "cell_type": "markdown",
      "metadata": {
        "id": "view-in-github",
        "colab_type": "text"
      },
      "source": [
        "<a href=\"https://colab.research.google.com/github/drewm8080/Analyzing-COVID-19-Data/blob/main/Covidestim_Data.ipynb\" target=\"_parent\"><img src=\"https://colab.research.google.com/assets/colab-badge.svg\" alt=\"Open In Colab\"/></a>"
      ]
    },
    {
      "cell_type": "markdown",
      "metadata": {
        "id": "c1p5DZ1z5eNw"
      },
      "source": [
        "**User Input Here**"
      ]
    },
    {
      "cell_type": "code",
      "metadata": {
        "colab": {
          "base_uri": "https://localhost:8080/"
        },
        "id": "JE7ZSh2h3Dnt",
        "outputId": "9a98c647-b391-4a54-e3af-034c3889ef9a"
      },
      "source": [
        "print('Welcome to the COVID-19 Covidestim Statistics')\n",
        "print('')\n",
        "print('Please tell me which state you would like to see. Type full name of state with the first letter capitalized. EX: Florida, Georgia etc.')\n",
        "print('states/territories not available: California,DC,Delaware,Indiana,Illinois,Lousiana,Michigan,Missouri,North Carolina,Nevada,Pennslyvania,Texas,Vermont,West Virgina')\n",
        "userinput = input('Please put state name here:')"
      ],
      "execution_count": 1,
      "outputs": [
        {
          "output_type": "stream",
          "text": [
            "Welcome to the COVID-19 Covidestim Statistics\n",
            "\n",
            "Please tell me which state you would like to see. Type full name of state with the first letter capitalized. EX: Florida, Georgia etc.\n",
            "states/territories not available: California,DC,Delaware,Indiana,Illinois,Lousiana,Michigan,Missouri,North Carolina,Nevada,Pennslyvania,Texas,Vermont,West Virgina\n",
            "Please put state name here:California\n"
          ],
          "name": "stdout"
        }
      ]
    },
    {
      "cell_type": "markdown",
      "metadata": {
        "id": "4GAko2ty5jrf"
      },
      "source": [
        "**Framework for Cases and Deaths from Covidestim**"
      ]
    },
    {
      "cell_type": "code",
      "metadata": {
        "id": "CAqxcmiQ6fEF"
      },
      "source": [
        "# might need this cell if your data does not download directly from the URL\n",
        "# !pip install fsspec\n",
        "# !pip install pandas"
      ],
      "execution_count": 2,
      "outputs": []
    },
    {
      "cell_type": "code",
      "metadata": {
        "id": "NGjzSN0LAl6S"
      },
      "source": [
        "import numpy as np\n",
        "import pandas as pd\n",
        "import matplotlib.pyplot as plt"
      ],
      "execution_count": 3,
      "outputs": []
    },
    {
      "cell_type": "code",
      "metadata": {
        "id": "bGsAPrnk8Vmm"
      },
      "source": [
        "# ignore this \n",
        "data = { 'Alabama': 'AL', 'Alaska': 'AK', 'American Samoa': 'AS', 'Arizona': 'AZ', 'Arkansas': 'AR', 'California': 'CA', 'Colorado': 'CO', 'Connecticut': 'CT', 'Delaware': 'DE', 'District of Columbia': 'DC', 'Florida': 'FL', 'Georgia': 'GA', 'Guam': 'GU', 'Hawaii': 'HI', 'Idaho': 'ID', 'Illinois': 'IL', 'Indiana': 'IN', 'Iowa': 'IA', 'Kansas': 'KS', 'Kentucky': 'KY', 'Louisiana': 'LA', 'Maine': 'ME', 'Maryland': 'MD', 'Massachusetts': 'MA', 'Michigan': 'MI', 'Minnesota': 'MN', 'Mississippi': 'MS', 'Missouri': 'MO', 'Montana': 'MT', 'Nebraska': 'NE', 'Nevada': 'NV', 'New Hampshire': 'NH', 'New Jersey': 'NJ', 'New Mexico': 'NM', 'New York': 'NY', 'North Carolina': 'NC', 'North Dakota': 'ND', 'Northern Mariana Islands':'MP', 'Ohio': 'OH', 'Oklahoma': 'OK', 'Oregon': 'OR', 'Pennsylvania': 'PA', 'Puerto Rico': 'PR', 'Rhode Island': 'RI', 'South Carolina': 'SC', 'South Dakota': 'SD', 'Tennessee': 'TN', 'Texas': 'TX', 'Utah': 'UT', 'Vermont': 'VT', 'Virgin Islands': 'VI', 'Virginia': 'VA', 'Washington': 'WA', 'West Virginia': 'WV', 'Wisconsin': 'WI', 'Wyoming': 'WY' }"
      ],
      "execution_count": 4,
      "outputs": []
    },
    {
      "cell_type": "code",
      "metadata": {
        "id": "VoALYL5c_vBX"
      },
      "source": [
        "# loading in the data\n",
        "url = 'https://covidestim.s3.us-east-2.amazonaws.com/latest/state/estimates.csv'\n",
        "df= pd.read_csv(url)"
      ],
      "execution_count": 5,
      "outputs": []
    },
    {
      "cell_type": "code",
      "metadata": {
        "id": "2Ejc9sAcBvuK"
      },
      "source": [
        "# setting datetime index \n",
        "df.date = pd.to_datetime(df.date)\n",
        "df = df[df.date >= '2020-03-01']"
      ],
      "execution_count": 6,
      "outputs": []
    },
    {
      "cell_type": "code",
      "metadata": {
        "id": "BSpIXTBMBzx9"
      },
      "source": [
        "# making sure the data starts after 03-01-2020\n",
        "df = df[df.date >= '2020-03-01']"
      ],
      "execution_count": 7,
      "outputs": []
    },
    {
      "cell_type": "code",
      "metadata": {
        "id": "1U8y90P9Ejsv"
      },
      "source": [
        "# slicing the data \n",
        "df = df.loc[:,['state','date','cases.fitted','deaths.fitted']]"
      ],
      "execution_count": 8,
      "outputs": []
    },
    {
      "cell_type": "code",
      "metadata": {
        "id": "rbId_fg9m8WE"
      },
      "source": [
        "# cleaning the data\n",
        "df['Cases'] = df['cases.fitted']\n",
        "df['Deaths'] = df['deaths.fitted']\n",
        "df = df.drop(columns =['cases.fitted','deaths.fitted'])"
      ],
      "execution_count": 9,
      "outputs": []
    },
    {
      "cell_type": "code",
      "metadata": {
        "id": "H6ZZiipd33Kk"
      },
      "source": [
        "# selecting the state\n",
        "df = df[df.state == userinput]"
      ],
      "execution_count": 10,
      "outputs": []
    },
    {
      "cell_type": "code",
      "metadata": {
        "id": "OQEDJSRwq9X3"
      },
      "source": [
        "# cleaning the data\n",
        "df= df.reset_index(drop = True)"
      ],
      "execution_count": 11,
      "outputs": []
    },
    {
      "cell_type": "code",
      "metadata": {
        "id": "_elaopMpn4Jf"
      },
      "source": [
        "# calulating the cummulative cases\n",
        "for i in range(1,len(df)):\n",
        "  x = df.loc[i,'Cases'] + df.loc[i-1,'Cases']\n",
        "  df.loc[i,'Cases'] = x"
      ],
      "execution_count": 12,
      "outputs": []
    },
    {
      "cell_type": "code",
      "metadata": {
        "id": "kDfWmpa3sxYw"
      },
      "source": [
        "# calulating the cummulative deaths\n",
        "for i in range(1,len(df)):\n",
        "  x = df.loc[i,'Deaths'] + df.loc[i-1,'Deaths']\n",
        "  df.loc[i,'Deaths'] = x"
      ],
      "execution_count": 13,
      "outputs": []
    },
    {
      "cell_type": "code",
      "metadata": {
        "id": "7caJ2JxfFta5"
      },
      "source": [
        "# creating day column for each date \n",
        "df['Day'] = df.groupby('state')['date'].rank(ascending=True)"
      ],
      "execution_count": 14,
      "outputs": []
    },
    {
      "cell_type": "code",
      "metadata": {
        "id": "e4mCNI1HGIa3"
      },
      "source": [
        "df['Avg day of case'] = 0 # declaring new column\n",
        "df['Avg day of death'] = 0"
      ],
      "execution_count": 15,
      "outputs": []
    },
    {
      "cell_type": "code",
      "metadata": {
        "id": "XAWIhzFrGvbh"
      },
      "source": [
        "# setting the first day of each state to be the first date of cases \n",
        "df.loc[df.groupby('state')['date'].head(1).index, 'Avg day of case'] = df.loc[:,'Day']"
      ],
      "execution_count": 16,
      "outputs": []
    },
    {
      "cell_type": "code",
      "metadata": {
        "id": "6jDC5F2HHDv7"
      },
      "source": [
        "# setting it so the avg day of death is the first day \n",
        "df = df[df.Deaths > 0]"
      ],
      "execution_count": 17,
      "outputs": []
    },
    {
      "cell_type": "code",
      "metadata": {
        "id": "pPp30WrdHsRK"
      },
      "source": [
        "# setting the first day as the first row in Avg day of death\n",
        "\n",
        "df.loc[df.groupby('state')['date'].head(1).index, 'Avg day of death'] = df.loc[:,'Day']"
      ],
      "execution_count": 18,
      "outputs": []
    },
    {
      "cell_type": "code",
      "metadata": {
        "id": "-fUbpNqi34lf"
      },
      "source": [
        "# creating the CDF Column\n",
        "df['cdf_cases'] = df['Cases']"
      ],
      "execution_count": 19,
      "outputs": []
    },
    {
      "cell_type": "code",
      "metadata": {
        "id": "ELCqT_NB4Ay8"
      },
      "source": [
        "# creating the cdf column\n",
        "df['cdf_deaths'] = df['Deaths']"
      ],
      "execution_count": 20,
      "outputs": []
    },
    {
      "cell_type": "code",
      "metadata": {
        "id": "hqYmjR4Q4EHy"
      },
      "source": [
        "# creating the formula for the CDF column\n",
        "df.loc[:,'cdf_cases':] = df.loc[:,'cdf_cases':].div(df.iloc[-1]['cdf_cases':])\n",
        "df = df.reset_index()"
      ],
      "execution_count": 21,
      "outputs": []
    },
    {
      "cell_type": "code",
      "metadata": {
        "id": "Undb1AYW4GJs"
      },
      "source": [
        "# creating the formula for the CDF column\n",
        "df['cdf_deaths'] = df.loc[:,'cdf_deaths':].div(df.iloc[-1]['cdf_deaths':])"
      ],
      "execution_count": 22,
      "outputs": []
    },
    {
      "cell_type": "code",
      "metadata": {
        "id": "3wgjGo-Z4Itg"
      },
      "source": [
        "# calulating Avgerage day of case\n",
        "for i in range(1, len(df)):\n",
        "  x = (((df.loc[i, 'Cases'] - df.loc[i-1, 'Cases']) * (df.loc[i, 'Day']- df.loc[i-1, 'Avg day of case'])) / (df.loc[i, 'Cases'])) + (df.loc[i-1, 'Avg day of case'])\n",
        "  df.loc[i, 'Avg day of case'] = round(x, 2)"
      ],
      "execution_count": 23,
      "outputs": []
    },
    {
      "cell_type": "code",
      "metadata": {
        "id": "l5o2XzvI4MHX"
      },
      "source": [
        "# calulating Avgerage day of death\n",
        "for i in range(1, len(df)):\n",
        "  x = (((df.loc[i, 'Deaths'] - df.loc[i-1, 'Deaths']) * (df.loc[i, 'Day']- df.loc[i-1, 'Avg day of death'])) / (df.loc[i, 'Deaths'])) + (df.loc[i-1, 'Avg day of death'])\n",
        "  df.loc[i, 'Avg day of death'] = round(x, 2)"
      ],
      "execution_count": 24,
      "outputs": []
    },
    {
      "cell_type": "code",
      "metadata": {
        "id": "03WAwLav4Pl2"
      },
      "source": [
        "# subtracting the avg death day and avg case day\n",
        "df['Avg Death Day - Avg Case Day'] = df['Avg day of death'] - df['Avg day of case'] "
      ],
      "execution_count": 25,
      "outputs": []
    },
    {
      "cell_type": "code",
      "metadata": {
        "id": "9HpkmF2m4QM8"
      },
      "source": [
        "# avg case day/ current day\n",
        "df['Avg Day of Case/ Current Day'] = df['Avg day of case'] / df['Day']"
      ],
      "execution_count": 26,
      "outputs": []
    },
    {
      "cell_type": "code",
      "metadata": {
        "id": "FA8QsWOU4Qk2"
      },
      "source": [
        "# avg death day/ current day\n",
        "df['Avg Day of Death/ Current Day'] = df['Avg day of death'] / df['Day']"
      ],
      "execution_count": 27,
      "outputs": []
    },
    {
      "cell_type": "code",
      "metadata": {
        "id": "QK4k5f5j45Zb"
      },
      "source": [
        "# cleaning data\n",
        "df = df.drop(columns = 'index')"
      ],
      "execution_count": 28,
      "outputs": []
    },
    {
      "cell_type": "markdown",
      "metadata": {
        "id": "_zDRsEB959DL"
      },
      "source": [
        "**Framework for hospital Data**"
      ]
    },
    {
      "cell_type": "code",
      "metadata": {
        "id": "GQzH1eCToPh2"
      },
      "source": [
        "# loading in the data\n",
        "\n",
        "hospitalizationdf = pd.read_csv('https://healthdata.gov/api/views/g62h-syeh/rows.csv?accessType=DOWNLOAD')"
      ],
      "execution_count": 29,
      "outputs": []
    },
    {
      "cell_type": "code",
      "metadata": {
        "id": "CZlDbvRBoSa7"
      },
      "source": [
        "# slicing the df\n",
        "hospitalizationdf = hospitalizationdf.loc[:,['state','date','previous_day_admission_adult_covid_confirmed','previous_day_admission_adult_covid_suspected','previous_day_admission_pediatric_covid_confirmed','previous_day_admission_pediatric_covid_suspected']]"
      ],
      "execution_count": 30,
      "outputs": []
    },
    {
      "cell_type": "code",
      "metadata": {
        "id": "hGRubLe4oums"
      },
      "source": [
        "# setting the state through user input\n",
        "hospitalizationdf = hospitalizationdf[hospitalizationdf.state == data[userinput]]"
      ],
      "execution_count": 31,
      "outputs": []
    },
    {
      "cell_type": "code",
      "metadata": {
        "id": "kJ_q9yl0pmZQ"
      },
      "source": [
        "# setting to datetime \n",
        "hospitalizationdf.date = pd.to_datetime(hospitalizationdf.date)"
      ],
      "execution_count": 32,
      "outputs": []
    },
    {
      "cell_type": "code",
      "metadata": {
        "id": "iqc7rOlyqRm4"
      },
      "source": [
        "# sorting the data\n",
        "hospitalizationdf = hospitalizationdf.sort_values(by = 'date')"
      ],
      "execution_count": 33,
      "outputs": []
    },
    {
      "cell_type": "code",
      "metadata": {
        "id": "QmqDon9PqqC-"
      },
      "source": [
        "# resetting the index\n",
        "hospitalizationdf = hospitalizationdf.reset_index(drop = True)"
      ],
      "execution_count": 34,
      "outputs": []
    },
    {
      "cell_type": "code",
      "metadata": {
        "id": "WmoJ4rlj6VAs"
      },
      "source": [
        "# starting the date at 03-01-2020\n",
        "hospitalizationdf = hospitalizationdf[hospitalizationdf['date'] >= '03-01-2020']"
      ],
      "execution_count": 35,
      "outputs": []
    },
    {
      "cell_type": "code",
      "metadata": {
        "id": "qkbPINfV6YLi"
      },
      "source": [
        "# making sure the date is greater than 0\n",
        "hospitalizationdf = hospitalizationdf [(hospitalizationdf.previous_day_admission_adult_covid_confirmed >0)& (hospitalizationdf.previous_day_admission_adult_covid_suspected >0) & (hospitalizationdf.previous_day_admission_pediatric_covid_confirmed >0) & (hospitalizationdf.previous_day_admission_pediatric_covid_suspected>0)]"
      ],
      "execution_count": 36,
      "outputs": []
    },
    {
      "cell_type": "code",
      "metadata": {
        "id": "3ZrCYpiL6aEp"
      },
      "source": [
        "# resetting the index\n",
        "hospitalizationdf = hospitalizationdf.reset_index(drop = True)"
      ],
      "execution_count": 37,
      "outputs": []
    },
    {
      "cell_type": "code",
      "metadata": {
        "id": "lW3KmspQ070G"
      },
      "source": [
        "# making the data cumulative \n",
        "for i in range(1,len(hospitalizationdf)):\n",
        "  x = hospitalizationdf.loc[i,'previous_day_admission_adult_covid_confirmed'] + hospitalizationdf.loc[i-1,'previous_day_admission_adult_covid_confirmed']\n",
        "  hospitalizationdf.loc[i,'previous_day_admission_adult_covid_confirmed'] = x"
      ],
      "execution_count": 38,
      "outputs": []
    },
    {
      "cell_type": "code",
      "metadata": {
        "id": "W1xY6T3j2Gf8"
      },
      "source": [
        "# making the data cumulative \n",
        "for i in range(1,len(hospitalizationdf)):\n",
        "  x = hospitalizationdf.loc[i,'previous_day_admission_adult_covid_suspected'] + hospitalizationdf.loc[i-1,'previous_day_admission_adult_covid_suspected']\n",
        "  hospitalizationdf.loc[i,'previous_day_admission_adult_covid_suspected'] = x"
      ],
      "execution_count": 39,
      "outputs": []
    },
    {
      "cell_type": "code",
      "metadata": {
        "id": "lkM9OKpoBANs"
      },
      "source": [
        "# making the data cumulative \n",
        "for i in range(1,len(hospitalizationdf)):\n",
        "  x = hospitalizationdf.loc[i,'previous_day_admission_pediatric_covid_confirmed'] + hospitalizationdf.loc[i-1,'previous_day_admission_pediatric_covid_confirmed']\n",
        "  hospitalizationdf.loc[i,'previous_day_admission_pediatric_covid_confirmed'] = x"
      ],
      "execution_count": 40,
      "outputs": []
    },
    {
      "cell_type": "code",
      "metadata": {
        "id": "egM5dj21BseL"
      },
      "source": [
        "# making the data cumulative \n",
        "for i in range(1,len(hospitalizationdf)):\n",
        "  x = hospitalizationdf.loc[i,'previous_day_admission_pediatric_covid_suspected'] + hospitalizationdf.loc[i-1,'previous_day_admission_pediatric_covid_suspected']\n",
        "  hospitalizationdf.loc[i,'previous_day_admission_pediatric_covid_suspected'] = x"
      ],
      "execution_count": 41,
      "outputs": []
    },
    {
      "cell_type": "code",
      "metadata": {
        "id": "QvR7jWsWB20p"
      },
      "source": [
        "# adding up all the data \n",
        "hospitalizationdf['hospitalized_cumulative'] = hospitalizationdf.previous_day_admission_adult_covid_confirmed + hospitalizationdf.previous_day_admission_adult_covid_suspected + hospitalizationdf.previous_day_admission_pediatric_covid_confirmed + hospitalizationdf.previous_day_admission_pediatric_covid_suspected"
      ],
      "execution_count": 42,
      "outputs": []
    },
    {
      "cell_type": "code",
      "metadata": {
        "id": "XdvrLIHyJOCY"
      },
      "source": [
        "# cleaning the data \n",
        "hospitalizationdf = hospitalizationdf.drop(columns = ['previous_day_admission_adult_covid_confirmed','previous_day_admission_adult_covid_suspected','previous_day_admission_pediatric_covid_confirmed','previous_day_admission_pediatric_covid_suspected'])"
      ],
      "execution_count": 43,
      "outputs": []
    },
    {
      "cell_type": "code",
      "metadata": {
        "id": "Kc0n--on6ccQ"
      },
      "source": [
        "# merging the two dataframes together\n",
        "df = df.merge(hospitalizationdf, on ='date')"
      ],
      "execution_count": 44,
      "outputs": []
    },
    {
      "cell_type": "code",
      "metadata": {
        "id": "2rtbCncTLvNY"
      },
      "source": [
        "# cleaning data\n",
        "df = df.drop(columns='state_y')"
      ],
      "execution_count": 45,
      "outputs": []
    },
    {
      "cell_type": "code",
      "metadata": {
        "id": "Q-JQB86K6fVn"
      },
      "source": [
        "# cleaning data \n",
        "df['state'] = df['state_x']"
      ],
      "execution_count": 46,
      "outputs": []
    },
    {
      "cell_type": "code",
      "metadata": {
        "id": "FbYP0dPw6g3J"
      },
      "source": [
        "# cleaning data\n",
        "df = df.drop(columns = 'state_x')"
      ],
      "execution_count": 47,
      "outputs": []
    },
    {
      "cell_type": "code",
      "metadata": {
        "id": "AHiEQ7E86iOM"
      },
      "source": [
        "# creating the cdf column\n",
        "df['cdf_hospitalized'] = df['hospitalized_cumulative']"
      ],
      "execution_count": 48,
      "outputs": []
    },
    {
      "cell_type": "code",
      "metadata": {
        "id": "dZMzNd3R--Y1"
      },
      "source": [
        "# creating the formula for the CDF column\n",
        "df.loc[:,'cdf_hospitalized':] = df.loc[:,'cdf_hospitalized':].div(df.iloc[-1]['cdf_hospitalized':])\n",
        "df = df.reset_index(drop= True)"
      ],
      "execution_count": 49,
      "outputs": []
    },
    {
      "cell_type": "code",
      "metadata": {
        "id": "ggK3rkuB9SaQ"
      },
      "source": [
        "# creating avg day of hospitalization\n",
        "df['Avg day of hospitalization'] = 0"
      ],
      "execution_count": 50,
      "outputs": []
    },
    {
      "cell_type": "code",
      "metadata": {
        "id": "uI0rO8qCQa0y"
      },
      "source": [
        "# setting the first day of avg hospitalizations to the first day\n",
        "df.loc[0,'Avg day of hospitalization'] = df.loc[0,'Day']"
      ],
      "execution_count": 51,
      "outputs": []
    },
    {
      "cell_type": "code",
      "metadata": {
        "id": "H-dALOuz6jfT"
      },
      "source": [
        "# calulating Avgerage day of Hospitalization\n",
        "for i in range(1, len(df)):\n",
        "  x = (((df.loc[i, 'hospitalized_cumulative'] - df.loc[i-1, 'hospitalized_cumulative']) * (df.loc[i, 'Day']- df.loc[i-1, 'Avg day of hospitalization'])) / (df.loc[i, 'hospitalized_cumulative'])) + (df.loc[i-1, 'Avg day of hospitalization'])\n",
        "  df.loc[i, 'Avg day of hospitalization'] = round(x, 2)"
      ],
      "execution_count": 52,
      "outputs": []
    },
    {
      "cell_type": "code",
      "metadata": {
        "id": "vx9v7pFS6k5T"
      },
      "source": [
        "# avg hospitalization day vs case day\n",
        "df['Avg Hospitalization Day - Avg Case Day'] = df['Avg day of hospitalization'] - df['Avg day of case']  "
      ],
      "execution_count": 53,
      "outputs": []
    },
    {
      "cell_type": "code",
      "metadata": {
        "id": "y8F6Bc__6mn6"
      },
      "source": [
        "# avg hospitalization/ current day\n",
        "df['Avg Day of Hospitalization/ Current Day'] = df['Avg day of hospitalization'] /df['Day']"
      ],
      "execution_count": 54,
      "outputs": []
    },
    {
      "cell_type": "code",
      "metadata": {
        "id": "MH0XTr9H6noq"
      },
      "source": [
        "# cleaning dataframe\n",
        "df = df.loc[:,['date','state','Deaths','Cases','hospitalized_cumulative','Day','Avg day of case','Avg day of death','Avg day of hospitalization','Avg Death Day - Avg Case Day','Avg Hospitalization Day - Avg Case Day','Avg Day of Case/ Current Day','Avg Day of Death/ Current Day','Avg Day of Hospitalization/ Current Day','cdf_cases','cdf_deaths','cdf_hospitalized']]"
      ],
      "execution_count": 55,
      "outputs": []
    },
    {
      "cell_type": "code",
      "metadata": {
        "colab": {
          "base_uri": "https://localhost:8080/",
          "height": 674
        },
        "id": "M51RnOQZhxaC",
        "outputId": "d4ee2286-9491-4d3f-bf4d-3e5a3b3cb7fa"
      },
      "source": [
        "df"
      ],
      "execution_count": 56,
      "outputs": [
        {
          "output_type": "execute_result",
          "data": {
            "text/html": [
              "<div>\n",
              "<style scoped>\n",
              "    .dataframe tbody tr th:only-of-type {\n",
              "        vertical-align: middle;\n",
              "    }\n",
              "\n",
              "    .dataframe tbody tr th {\n",
              "        vertical-align: top;\n",
              "    }\n",
              "\n",
              "    .dataframe thead th {\n",
              "        text-align: right;\n",
              "    }\n",
              "</style>\n",
              "<table border=\"1\" class=\"dataframe\">\n",
              "  <thead>\n",
              "    <tr style=\"text-align: right;\">\n",
              "      <th></th>\n",
              "      <th>date</th>\n",
              "      <th>state</th>\n",
              "      <th>Deaths</th>\n",
              "      <th>Cases</th>\n",
              "      <th>hospitalized_cumulative</th>\n",
              "      <th>Day</th>\n",
              "      <th>Avg day of case</th>\n",
              "      <th>Avg day of death</th>\n",
              "      <th>Avg day of hospitalization</th>\n",
              "      <th>Avg Death Day - Avg Case Day</th>\n",
              "      <th>Avg Hospitalization Day - Avg Case Day</th>\n",
              "      <th>Avg Day of Case/ Current Day</th>\n",
              "      <th>Avg Day of Death/ Current Day</th>\n",
              "      <th>Avg Day of Hospitalization/ Current Day</th>\n",
              "      <th>cdf_cases</th>\n",
              "      <th>cdf_deaths</th>\n",
              "      <th>cdf_hospitalized</th>\n",
              "    </tr>\n",
              "  </thead>\n",
              "  <tbody>\n",
              "    <tr>\n",
              "      <th>0</th>\n",
              "      <td>2020-07-15</td>\n",
              "      <td>California</td>\n",
              "      <td>7283.083124</td>\n",
              "      <td>3.617768e+05</td>\n",
              "      <td>983.0</td>\n",
              "      <td>137.0</td>\n",
              "      <td>102.15</td>\n",
              "      <td>85.90</td>\n",
              "      <td>137.00</td>\n",
              "      <td>-16.25</td>\n",
              "      <td>34.85</td>\n",
              "      <td>0.745620</td>\n",
              "      <td>0.627007</td>\n",
              "      <td>1.000000</td>\n",
              "      <td>0.0997455</td>\n",
              "      <td>0.12639</td>\n",
              "      <td>0.00268609</td>\n",
              "    </tr>\n",
              "    <tr>\n",
              "      <th>1</th>\n",
              "      <td>2020-07-16</td>\n",
              "      <td>California</td>\n",
              "      <td>7382.479706</td>\n",
              "      <td>3.708637e+05</td>\n",
              "      <td>2030.0</td>\n",
              "      <td>138.0</td>\n",
              "      <td>103.03</td>\n",
              "      <td>86.60</td>\n",
              "      <td>137.52</td>\n",
              "      <td>-16.43</td>\n",
              "      <td>34.49</td>\n",
              "      <td>0.746594</td>\n",
              "      <td>0.627536</td>\n",
              "      <td>0.996522</td>\n",
              "      <td>0.102251</td>\n",
              "      <td>0.128115</td>\n",
              "      <td>0.00554707</td>\n",
              "    </tr>\n",
              "    <tr>\n",
              "      <th>2</th>\n",
              "      <td>2020-07-17</td>\n",
              "      <td>California</td>\n",
              "      <td>7484.152887</td>\n",
              "      <td>3.799897e+05</td>\n",
              "      <td>3145.0</td>\n",
              "      <td>139.0</td>\n",
              "      <td>103.89</td>\n",
              "      <td>87.31</td>\n",
              "      <td>138.04</td>\n",
              "      <td>-16.58</td>\n",
              "      <td>34.15</td>\n",
              "      <td>0.747410</td>\n",
              "      <td>0.628129</td>\n",
              "      <td>0.993094</td>\n",
              "      <td>0.104767</td>\n",
              "      <td>0.129879</td>\n",
              "      <td>0.00859386</td>\n",
              "    </tr>\n",
              "    <tr>\n",
              "      <th>3</th>\n",
              "      <td>2020-07-18</td>\n",
              "      <td>California</td>\n",
              "      <td>7588.095024</td>\n",
              "      <td>3.891232e+05</td>\n",
              "      <td>4192.0</td>\n",
              "      <td>140.0</td>\n",
              "      <td>104.74</td>\n",
              "      <td>88.03</td>\n",
              "      <td>138.53</td>\n",
              "      <td>-16.71</td>\n",
              "      <td>33.79</td>\n",
              "      <td>0.748143</td>\n",
              "      <td>0.628786</td>\n",
              "      <td>0.989500</td>\n",
              "      <td>0.107285</td>\n",
              "      <td>0.131683</td>\n",
              "      <td>0.0114548</td>\n",
              "    </tr>\n",
              "    <tr>\n",
              "      <th>4</th>\n",
              "      <td>2020-07-19</td>\n",
              "      <td>California</td>\n",
              "      <td>7694.157940</td>\n",
              "      <td>3.982472e+05</td>\n",
              "      <td>4972.0</td>\n",
              "      <td>141.0</td>\n",
              "      <td>105.57</td>\n",
              "      <td>88.76</td>\n",
              "      <td>138.92</td>\n",
              "      <td>-16.81</td>\n",
              "      <td>33.35</td>\n",
              "      <td>0.748723</td>\n",
              "      <td>0.629504</td>\n",
              "      <td>0.985248</td>\n",
              "      <td>0.109801</td>\n",
              "      <td>0.133523</td>\n",
              "      <td>0.0135862</td>\n",
              "    </tr>\n",
              "    <tr>\n",
              "      <th>...</th>\n",
              "      <td>...</td>\n",
              "      <td>...</td>\n",
              "      <td>...</td>\n",
              "      <td>...</td>\n",
              "      <td>...</td>\n",
              "      <td>...</td>\n",
              "      <td>...</td>\n",
              "      <td>...</td>\n",
              "      <td>...</td>\n",
              "      <td>...</td>\n",
              "      <td>...</td>\n",
              "      <td>...</td>\n",
              "      <td>...</td>\n",
              "      <td>...</td>\n",
              "      <td>...</td>\n",
              "      <td>...</td>\n",
              "      <td>...</td>\n",
              "    </tr>\n",
              "    <tr>\n",
              "      <th>243</th>\n",
              "      <td>2021-03-16</td>\n",
              "      <td>California</td>\n",
              "      <td>56752.412021</td>\n",
              "      <td>3.614907e+06</td>\n",
              "      <td>362557.0</td>\n",
              "      <td>381.0</td>\n",
              "      <td>265.82</td>\n",
              "      <td>271.13</td>\n",
              "      <td>270.17</td>\n",
              "      <td>5.31</td>\n",
              "      <td>4.35</td>\n",
              "      <td>0.697690</td>\n",
              "      <td>0.711627</td>\n",
              "      <td>0.709108</td>\n",
              "      <td>0.996666</td>\n",
              "      <td>0.984874</td>\n",
              "      <td>0.990704</td>\n",
              "    </tr>\n",
              "    <tr>\n",
              "      <th>244</th>\n",
              "      <td>2021-03-17</td>\n",
              "      <td>California</td>\n",
              "      <td>56947.479060</td>\n",
              "      <td>3.617604e+06</td>\n",
              "      <td>363459.0</td>\n",
              "      <td>382.0</td>\n",
              "      <td>265.91</td>\n",
              "      <td>271.51</td>\n",
              "      <td>270.45</td>\n",
              "      <td>5.60</td>\n",
              "      <td>4.54</td>\n",
              "      <td>0.696099</td>\n",
              "      <td>0.710759</td>\n",
              "      <td>0.707984</td>\n",
              "      <td>0.99741</td>\n",
              "      <td>0.988259</td>\n",
              "      <td>0.993169</td>\n",
              "    </tr>\n",
              "    <tr>\n",
              "      <th>245</th>\n",
              "      <td>2021-03-18</td>\n",
              "      <td>California</td>\n",
              "      <td>57132.137797</td>\n",
              "      <td>3.620172e+06</td>\n",
              "      <td>364269.0</td>\n",
              "      <td>383.0</td>\n",
              "      <td>265.99</td>\n",
              "      <td>271.87</td>\n",
              "      <td>270.70</td>\n",
              "      <td>5.88</td>\n",
              "      <td>4.71</td>\n",
              "      <td>0.694491</td>\n",
              "      <td>0.709843</td>\n",
              "      <td>0.706789</td>\n",
              "      <td>0.998118</td>\n",
              "      <td>0.991464</td>\n",
              "      <td>0.995382</td>\n",
              "    </tr>\n",
              "    <tr>\n",
              "      <th>246</th>\n",
              "      <td>2021-03-19</td>\n",
              "      <td>California</td>\n",
              "      <td>57306.330505</td>\n",
              "      <td>3.622590e+06</td>\n",
              "      <td>365114.0</td>\n",
              "      <td>384.0</td>\n",
              "      <td>266.07</td>\n",
              "      <td>272.21</td>\n",
              "      <td>270.96</td>\n",
              "      <td>6.14</td>\n",
              "      <td>4.89</td>\n",
              "      <td>0.692891</td>\n",
              "      <td>0.708880</td>\n",
              "      <td>0.705625</td>\n",
              "      <td>0.998784</td>\n",
              "      <td>0.994487</td>\n",
              "      <td>0.997691</td>\n",
              "    </tr>\n",
              "    <tr>\n",
              "      <th>247</th>\n",
              "      <td>2021-03-20</td>\n",
              "      <td>California</td>\n",
              "      <td>57470.080735</td>\n",
              "      <td>3.624861e+06</td>\n",
              "      <td>365959.0</td>\n",
              "      <td>385.0</td>\n",
              "      <td>266.14</td>\n",
              "      <td>272.53</td>\n",
              "      <td>271.22</td>\n",
              "      <td>6.39</td>\n",
              "      <td>5.08</td>\n",
              "      <td>0.691273</td>\n",
              "      <td>0.707870</td>\n",
              "      <td>0.704468</td>\n",
              "      <td>0.99941</td>\n",
              "      <td>0.997329</td>\n",
              "      <td>1</td>\n",
              "    </tr>\n",
              "  </tbody>\n",
              "</table>\n",
              "<p>248 rows × 17 columns</p>\n",
              "</div>"
            ],
            "text/plain": [
              "          date       state        Deaths  ...  cdf_cases  cdf_deaths  cdf_hospitalized\n",
              "0   2020-07-15  California   7283.083124  ...  0.0997455     0.12639        0.00268609\n",
              "1   2020-07-16  California   7382.479706  ...   0.102251    0.128115        0.00554707\n",
              "2   2020-07-17  California   7484.152887  ...   0.104767    0.129879        0.00859386\n",
              "3   2020-07-18  California   7588.095024  ...   0.107285    0.131683         0.0114548\n",
              "4   2020-07-19  California   7694.157940  ...   0.109801    0.133523         0.0135862\n",
              "..         ...         ...           ...  ...        ...         ...               ...\n",
              "243 2021-03-16  California  56752.412021  ...   0.996666    0.984874          0.990704\n",
              "244 2021-03-17  California  56947.479060  ...    0.99741    0.988259          0.993169\n",
              "245 2021-03-18  California  57132.137797  ...   0.998118    0.991464          0.995382\n",
              "246 2021-03-19  California  57306.330505  ...   0.998784    0.994487          0.997691\n",
              "247 2021-03-20  California  57470.080735  ...    0.99941    0.997329                 1\n",
              "\n",
              "[248 rows x 17 columns]"
            ]
          },
          "metadata": {
            "tags": []
          },
          "execution_count": 56
        }
      ]
    },
    {
      "cell_type": "markdown",
      "metadata": {
        "id": "-8-hZKDb9sFy"
      },
      "source": [
        "**Statistics**"
      ]
    },
    {
      "cell_type": "code",
      "metadata": {
        "id": "J_FlPWnY9v3U"
      },
      "source": [
        "# framework for statistics\n",
        "averagedayofcase = df['Avg day of case'].iloc[-1]\n",
        "averagedayofdeath = df['Avg day of death'].iloc[-1]\n",
        "differDeaths = df['Avg Death Day - Avg Case Day'].max()\n",
        "differCases= -df['Avg Death Day - Avg Case Day'].min()\n",
        "differhospitalizations = df['Avg Hospitalization Day - Avg Case Day'].max()\n",
        "differhospitalizations1 = -df['Avg Hospitalization Day - Avg Case Day'].min()"
      ],
      "execution_count": 57,
      "outputs": []
    },
    {
      "cell_type": "code",
      "metadata": {
        "colab": {
          "base_uri": "https://localhost:8080/"
        },
        "id": "-YZzXLkJ9w-0",
        "outputId": "1934a16e-351b-45ee-b41d-ca9e306205d8"
      },
      "source": [
        "print('COVID-19 STATISTICS')\n",
        "print('')\n",
        "print('State = ', df.state.iloc[-1])\n",
        "print('Average Day of Death and Average Day of Case as of',df['date'].iloc[-1])\n",
        "print('Case =', averagedayofcase)\n",
        "print('Death = ', averagedayofdeath)\n",
        "print('Days When Average Dates of Death Differ By Largest Amounts')\n",
        "print('Death Day – Case Day =', differDeaths)\n",
        "print('Case Day - Death Day =',differCases)\n",
        "print('Case Day - Hospitalization day = ',differhospitalizations)\n",
        "print('Hospialization Day - Case Day =', differhospitalizations1) "
      ],
      "execution_count": 58,
      "outputs": [
        {
          "output_type": "stream",
          "text": [
            "COVID-19 STATISTICS\n",
            "\n",
            "State =  California\n",
            "Average Day of Death and Average Day of Case as of 2021-03-20 00:00:00\n",
            "Case = 266.14\n",
            "Death =  272.53\n",
            "Days When Average Dates of Death Differ By Largest Amounts\n",
            "Death Day – Case Day = 6.389999999999986\n",
            "Case Day - Death Day = 41.120000000000005\n",
            "Case Day - Hospitalization day =  34.849999999999994\n",
            "Hospialization Day - Case Day = 2.1599999999999966\n"
          ],
          "name": "stdout"
        }
      ]
    },
    {
      "cell_type": "code",
      "metadata": {
        "colab": {
          "base_uri": "https://localhost:8080/",
          "height": 1000
        },
        "id": "JHYmiVCM9z1i",
        "outputId": "b2de2df0-7f54-4113-cd2b-4cd30cde7b3f"
      },
      "source": [
        "# ratio avg Day of Event/current Date Graph\n",
        "df.plot(x= 'Day',y = ['Avg Day of Case/ Current Day','Avg Day of Death/ Current Day','Avg Day of Hospitalization/ Current Day'],title = 'Ratio of Average Day of Event to Current Date', ylabel = 'Ratio')\n",
        "# avg hospitalization day - avg case day\n",
        "df.plot(x = 'Day', y=['Avg Death Day - Avg Case Day','Avg Hospitalization Day - Avg Case Day'],title = 'Avg Death Day - Avg Case Day, Avg Hospitalization Day - Avg Case Day',ylabel = 'Difference in Days')\n",
        "# avg Day of Case/Death/Hospitalization\n",
        "df.plot(x = 'Day', y= ['Avg day of case','Avg day of death','Avg day of hospitalization'],title = 'Average Day, Case,Death,Hospitalization, as of Date Day 1 = March 1, 2020', ylabel = 'Average Day of Case or Death')\n",
        "# CDF\n",
        "df.plot( x= 'Day', y= ['cdf_cases','cdf_deaths','cdf_hospitalized'],title = 'Cumulative Probability Distribution, Days of Cases,Deaths,Hospitalization', ylabel = 'Cumulative Probability')\n",
        "\n",
        "plt.style.use('seaborn')"
      ],
      "execution_count": 61,
      "outputs": [
        {
          "output_type": "display_data",
          "data": {
            "image/png": "[encoded data removed]",
            "text/plain": [
              "<Figure size 576x396 with 1 Axes>"
            ]
          },
          "metadata": {
            "tags": []
          }
        },
        {
          "output_type": "display_data",
          "data": {
            "image/png": "[encoded data removed]",
            "text/plain": [
              "<Figure size 576x396 with 1 Axes>"
            ]
          },
          "metadata": {
            "tags": []
          }
        },
        {
          "output_type": "display_data",
          "data": {
            "image/png": "[encoded data removed]",
            "text/plain": [
              "<Figure size 576x396 with 1 Axes>"
            ]
          },
          "metadata": {
            "tags": []
          }
        },
        {
          "output_type": "display_data",
          "data": {
            "image/png": "[encoded data removed]",
            "text/plain": [
              "<Figure size 576x396 with 1 Axes>"
            ]
          },
          "metadata": {
            "tags": []
          }
        }
      ]
    }
  ]
}