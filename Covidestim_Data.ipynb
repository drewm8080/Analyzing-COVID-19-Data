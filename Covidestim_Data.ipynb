{
  "nbformat": 4,
  "nbformat_minor": 0,
  "metadata": {
    "colab": {
      "name": "Covidestim Data",
      "provenance": [],
      "authorship_tag": "ABX9TyNCKKSWuYqpsD5ZvMNgk8M6",
      "include_colab_link": true
    },
    "kernelspec": {
      "name": "python3",
      "display_name": "Python 3"
    }
  },
  "cells": [
    {
      "cell_type": "markdown",
      "metadata": {
        "id": "view-in-github",
        "colab_type": "text"
      },
      "source": [
        "<a href=\"https://colab.research.google.com/github/drewm8080/Analyzing-COVID-19-Data-Sources/blob/main/Covidestim_Data.ipynb\" target=\"_parent\"><img src=\"https://colab.research.google.com/assets/colab-badge.svg\" alt=\"Open In Colab\"/></a>"
      ]
    },
    {
      "cell_type": "markdown",
      "metadata": {
        "id": "c1p5DZ1z5eNw"
      },
      "source": [
        "**User Input Here**"
      ]
    },
    {
      "cell_type": "code",
      "metadata": {
        "colab": {
          "base_uri": "https://localhost:8080/"
        },
        "id": "JE7ZSh2h3Dnt",
        "outputId": "1cc60108-6f40-43bf-d4bf-73c563775dec"
      },
      "source": [
        "print('Welcome to the COVID-19 Covidestim Statistics')\n",
        "print('')\n",
        "print('Please tell me which state you would like to see. Type full name of state with the first letter capitalized. EX: Florida, Georgia etc.')\n",
        "userinput = input('Please put state name here:')"
      ],
      "execution_count": 2,
      "outputs": [
        {
          "output_type": "stream",
          "text": [
            "Welcome to the COVID-19 Covidestim Statistics\n",
            "\n",
            "Please tell me which state you would like to see. Type full name of state with the first letter capitalized. EX: Florida, Georgia etc.\n",
            "Please put state name here:California\n"
          ],
          "name": "stdout"
        }
      ]
    },
    {
      "cell_type": "markdown",
      "metadata": {
        "id": "4GAko2ty5jrf"
      },
      "source": [
        "**Framework for Cases and Deaths from Covidestim**"
      ]
    },
    {
      "cell_type": "code",
      "metadata": {
        "id": "CAqxcmiQ6fEF"
      },
      "source": [
        "# might need this cell if your data does not download directly from the URL\n",
        "# !pip install fsspec\n",
        "# !pip install pandas"
      ],
      "execution_count": 3,
      "outputs": []
    },
    {
      "cell_type": "code",
      "metadata": {
        "id": "NGjzSN0LAl6S"
      },
      "source": [
        "import numpy as np\n",
        "import pandas as pd\n",
        "import matplotlib.pyplot as plt"
      ],
      "execution_count": 4,
      "outputs": []
    },
    {
      "cell_type": "code",
      "metadata": {
        "id": "VoALYL5c_vBX"
      },
      "source": [
        "# loading in the data\n",
        "url = 'https://covidestim.s3.us-east-2.amazonaws.com/latest/state/estimates.csv'\n",
        "df= pd.read_csv(url)"
      ],
      "execution_count": 5,
      "outputs": []
    },
    {
      "cell_type": "code",
      "metadata": {
        "id": "2Ejc9sAcBvuK"
      },
      "source": [
        "# setting datetime index \n",
        "df.date = pd.to_datetime(df.date)"
      ],
      "execution_count": 6,
      "outputs": []
    },
    {
      "cell_type": "code",
      "metadata": {
        "id": "BSpIXTBMBzx9"
      },
      "source": [
        "# making sure the data starts after 03-01-2020\n",
        "df = df[df.date >= '2020-03-01']"
      ],
      "execution_count": 7,
      "outputs": []
    },
    {
      "cell_type": "code",
      "metadata": {
        "id": "1U8y90P9Ejsv"
      },
      "source": [
        "# slicing the data \n",
        "df = df.loc[:,['state','date','cases.fitted','deaths.fitted']]"
      ],
      "execution_count": 8,
      "outputs": []
    },
    {
      "cell_type": "code",
      "metadata": {
        "id": "rbId_fg9m8WE"
      },
      "source": [
        "# cleaning the data\n",
        "df['Cases'] = df['cases.fitted']\n",
        "df['Deaths'] = df['deaths.fitted']\n",
        "df = df.drop(columns =['cases.fitted','deaths.fitted'])"
      ],
      "execution_count": 9,
      "outputs": []
    },
    {
      "cell_type": "code",
      "metadata": {
        "id": "H6ZZiipd33Kk"
      },
      "source": [
        "# selecting the state\n",
        "df = df[df.state == userinput]"
      ],
      "execution_count": 10,
      "outputs": []
    },
    {
      "cell_type": "code",
      "metadata": {
        "id": "OQEDJSRwq9X3"
      },
      "source": [
        "# cleaning the data\n",
        "df= df.reset_index(drop = True)"
      ],
      "execution_count": 11,
      "outputs": []
    },
    {
      "cell_type": "code",
      "metadata": {
        "id": "_elaopMpn4Jf"
      },
      "source": [
        "# calulating the cummulative cases\n",
        "for i in range(1,len(df)):\n",
        "  x = df.loc[i,'Cases'] + df.loc[i-1,'Cases']\n",
        "  df.loc[i,'Cases'] = x"
      ],
      "execution_count": 12,
      "outputs": []
    },
    {
      "cell_type": "code",
      "metadata": {
        "id": "kDfWmpa3sxYw"
      },
      "source": [
        "# calulating the cummulative deaths\n",
        "for i in range(1,len(df)):\n",
        "  x = df.loc[i,'Deaths'] + df.loc[i-1,'Deaths']\n",
        "  df.loc[i,'Deaths'] = x"
      ],
      "execution_count": 13,
      "outputs": []
    },
    {
      "cell_type": "code",
      "metadata": {
        "id": "7caJ2JxfFta5"
      },
      "source": [
        "# creating day column for each date \n",
        "df['Day'] = df.groupby('state')['date'].rank(ascending=True)"
      ],
      "execution_count": 14,
      "outputs": []
    },
    {
      "cell_type": "code",
      "metadata": {
        "id": "e4mCNI1HGIa3"
      },
      "source": [
        "df['Avg day of case'] = 0 # declaring new column\n",
        "df['Avg day of death'] = 0"
      ],
      "execution_count": 15,
      "outputs": []
    },
    {
      "cell_type": "code",
      "metadata": {
        "id": "XAWIhzFrGvbh"
      },
      "source": [
        "# setting the first day of each state to be the first date of cases \n",
        "df.loc[df.groupby('state')['date'].head(1).index, 'Avg day of case'] = df.loc[:,'Day']"
      ],
      "execution_count": 16,
      "outputs": []
    },
    {
      "cell_type": "code",
      "metadata": {
        "id": "6jDC5F2HHDv7"
      },
      "source": [
        "# setting it so the avg day of death is the first day \n",
        "df = df[df.Deaths > 0]"
      ],
      "execution_count": 17,
      "outputs": []
    },
    {
      "cell_type": "code",
      "metadata": {
        "id": "pPp30WrdHsRK"
      },
      "source": [
        "# setting the first day as the first row in Avg day of death\n",
        "\n",
        "df.loc[df.groupby('state')['date'].head(1).index, 'Avg day of death'] = df.loc[:,'Day']"
      ],
      "execution_count": 18,
      "outputs": []
    },
    {
      "cell_type": "code",
      "metadata": {
        "id": "-fUbpNqi34lf"
      },
      "source": [
        "# creating the CDF Column\n",
        "df['cdf_cases'] = df['Cases']"
      ],
      "execution_count": 19,
      "outputs": []
    },
    {
      "cell_type": "code",
      "metadata": {
        "id": "ELCqT_NB4Ay8"
      },
      "source": [
        "# creating the cdf column\n",
        "df['cdf_deaths'] = df['Deaths']"
      ],
      "execution_count": 20,
      "outputs": []
    },
    {
      "cell_type": "code",
      "metadata": {
        "id": "hqYmjR4Q4EHy"
      },
      "source": [
        "# creating the formula for the CDF column\n",
        "df.loc[:,'cdf_cases':] = df.loc[:,'cdf_cases':].div(df.iloc[-1]['cdf_cases':])\n",
        "df = df.reset_index()"
      ],
      "execution_count": 21,
      "outputs": []
    },
    {
      "cell_type": "code",
      "metadata": {
        "id": "Undb1AYW4GJs"
      },
      "source": [
        "# creating the formula for the CDF column\n",
        "df['cdf_deaths'] = df.loc[:,'cdf_deaths':].div(df.iloc[-1]['cdf_deaths':])"
      ],
      "execution_count": 22,
      "outputs": []
    },
    {
      "cell_type": "code",
      "metadata": {
        "id": "3wgjGo-Z4Itg"
      },
      "source": [
        "# calulating Avgerage day of case\n",
        "for i in range(1, len(df)):\n",
        "  x = (((df.loc[i, 'Cases'] - df.loc[i-1, 'Cases']) * (df.loc[i, 'Day']- df.loc[i-1, 'Avg day of case'])) / (df.loc[i, 'Cases'])) + (df.loc[i-1, 'Avg day of case'])\n",
        "  df.loc[i, 'Avg day of case'] = round(x, 2)"
      ],
      "execution_count": 23,
      "outputs": []
    },
    {
      "cell_type": "code",
      "metadata": {
        "id": "l5o2XzvI4MHX"
      },
      "source": [
        "# calulating Avgerage day of death\n",
        "for i in range(1, len(df)):\n",
        "  x = (((df.loc[i, 'Deaths'] - df.loc[i-1, 'Deaths']) * (df.loc[i, 'Day']- df.loc[i-1, 'Avg day of death'])) / (df.loc[i, 'Deaths'])) + (df.loc[i-1, 'Avg day of death'])\n",
        "  df.loc[i, 'Avg day of death'] = round(x, 2)"
      ],
      "execution_count": 24,
      "outputs": []
    },
    {
      "cell_type": "code",
      "metadata": {
        "id": "03WAwLav4Pl2"
      },
      "source": [
        "# subtracting the avg death day and avg case day\n",
        "df['Avg Death Day - Avg Case Day'] = df['Avg day of death'] - df['Avg day of case'] "
      ],
      "execution_count": 25,
      "outputs": []
    },
    {
      "cell_type": "code",
      "metadata": {
        "id": "9HpkmF2m4QM8"
      },
      "source": [
        "# avg case day/ current day\n",
        "df['Avg Day of Case/ Current Day'] = df['Avg day of case'] / df['Day']"
      ],
      "execution_count": 26,
      "outputs": []
    },
    {
      "cell_type": "code",
      "metadata": {
        "id": "FA8QsWOU4Qk2"
      },
      "source": [
        "# avg death day/ current day\n",
        "df['Avg Day of Death/ Current Day'] = df['Avg day of death'] / df['Day']"
      ],
      "execution_count": 27,
      "outputs": []
    },
    {
      "cell_type": "code",
      "metadata": {
        "id": "QK4k5f5j45Zb"
      },
      "source": [
        "# cleaning data\n",
        "df = df.drop(columns = 'index')"
      ],
      "execution_count": 28,
      "outputs": []
    },
    {
      "cell_type": "code",
      "metadata": {
        "id": "-4xQxWDnaFjw",
        "colab": {
          "base_uri": "https://localhost:8080/",
          "height": 606
        },
        "outputId": "c1347894-6ddc-4286-eea5-6c9cd6a7c526"
      },
      "source": [
        "df"
      ],
      "execution_count": 29,
      "outputs": [
        {
          "output_type": "execute_result",
          "data": {
            "text/html": [
              "<div>\n",
              "<style scoped>\n",
              "    .dataframe tbody tr th:only-of-type {\n",
              "        vertical-align: middle;\n",
              "    }\n",
              "\n",
              "    .dataframe tbody tr th {\n",
              "        vertical-align: top;\n",
              "    }\n",
              "\n",
              "    .dataframe thead th {\n",
              "        text-align: right;\n",
              "    }\n",
              "</style>\n",
              "<table border=\"1\" class=\"dataframe\">\n",
              "  <thead>\n",
              "    <tr style=\"text-align: right;\">\n",
              "      <th></th>\n",
              "      <th>state</th>\n",
              "      <th>date</th>\n",
              "      <th>Cases</th>\n",
              "      <th>Deaths</th>\n",
              "      <th>Day</th>\n",
              "      <th>Avg day of case</th>\n",
              "      <th>Avg day of death</th>\n",
              "      <th>cdf_cases</th>\n",
              "      <th>cdf_deaths</th>\n",
              "      <th>Avg Death Day - Avg Case Day</th>\n",
              "      <th>Avg Day of Case/ Current Day</th>\n",
              "      <th>Avg Day of Death/ Current Day</th>\n",
              "    </tr>\n",
              "  </thead>\n",
              "  <tbody>\n",
              "    <tr>\n",
              "      <th>0</th>\n",
              "      <td>California</td>\n",
              "      <td>2020-03-01</td>\n",
              "      <td>1.010438e+00</td>\n",
              "      <td>0.005661</td>\n",
              "      <td>1.0</td>\n",
              "      <td>1.00</td>\n",
              "      <td>1.00</td>\n",
              "      <td>2.76238e-07</td>\n",
              "      <td>9.47663e-08</td>\n",
              "      <td>0.00</td>\n",
              "      <td>1.000000</td>\n",
              "      <td>1.000000</td>\n",
              "    </tr>\n",
              "    <tr>\n",
              "      <th>1</th>\n",
              "      <td>California</td>\n",
              "      <td>2020-03-02</td>\n",
              "      <td>2.435749e+00</td>\n",
              "      <td>0.014061</td>\n",
              "      <td>2.0</td>\n",
              "      <td>1.59</td>\n",
              "      <td>1.60</td>\n",
              "      <td>6.65895e-07</td>\n",
              "      <td>2.35382e-07</td>\n",
              "      <td>0.01</td>\n",
              "      <td>0.795000</td>\n",
              "      <td>0.800000</td>\n",
              "    </tr>\n",
              "    <tr>\n",
              "      <th>2</th>\n",
              "      <td>California</td>\n",
              "      <td>2020-03-03</td>\n",
              "      <td>4.428309e+00</td>\n",
              "      <td>0.026484</td>\n",
              "      <td>3.0</td>\n",
              "      <td>2.22</td>\n",
              "      <td>2.26</td>\n",
              "      <td>1.21063e-06</td>\n",
              "      <td>4.43334e-07</td>\n",
              "      <td>0.04</td>\n",
              "      <td>0.740000</td>\n",
              "      <td>0.753333</td>\n",
              "    </tr>\n",
              "    <tr>\n",
              "      <th>3</th>\n",
              "      <td>California</td>\n",
              "      <td>2020-03-04</td>\n",
              "      <td>7.226081e+00</td>\n",
              "      <td>0.044691</td>\n",
              "      <td>4.0</td>\n",
              "      <td>2.91</td>\n",
              "      <td>2.97</td>\n",
              "      <td>1.9755e-06</td>\n",
              "      <td>7.48117e-07</td>\n",
              "      <td>0.06</td>\n",
              "      <td>0.727500</td>\n",
              "      <td>0.742500</td>\n",
              "    </tr>\n",
              "    <tr>\n",
              "      <th>4</th>\n",
              "      <td>California</td>\n",
              "      <td>2020-03-05</td>\n",
              "      <td>1.111931e+01</td>\n",
              "      <td>0.071178</td>\n",
              "      <td>5.0</td>\n",
              "      <td>3.64</td>\n",
              "      <td>3.73</td>\n",
              "      <td>3.03984e-06</td>\n",
              "      <td>1.1915e-06</td>\n",
              "      <td>0.09</td>\n",
              "      <td>0.728000</td>\n",
              "      <td>0.746000</td>\n",
              "    </tr>\n",
              "    <tr>\n",
              "      <th>...</th>\n",
              "      <td>...</td>\n",
              "      <td>...</td>\n",
              "      <td>...</td>\n",
              "      <td>...</td>\n",
              "      <td>...</td>\n",
              "      <td>...</td>\n",
              "      <td>...</td>\n",
              "      <td>...</td>\n",
              "      <td>...</td>\n",
              "      <td>...</td>\n",
              "      <td>...</td>\n",
              "      <td>...</td>\n",
              "    </tr>\n",
              "    <tr>\n",
              "      <th>395</th>\n",
              "      <td>California</td>\n",
              "      <td>2021-03-31</td>\n",
              "      <td>3.648908e+06</td>\n",
              "      <td>59318.373361</td>\n",
              "      <td>396.0</td>\n",
              "      <td>267.16</td>\n",
              "      <td>276.22</td>\n",
              "      <td>0.997554</td>\n",
              "      <td>0.99298</td>\n",
              "      <td>9.06</td>\n",
              "      <td>0.674646</td>\n",
              "      <td>0.697525</td>\n",
              "    </tr>\n",
              "    <tr>\n",
              "      <th>396</th>\n",
              "      <td>California</td>\n",
              "      <td>2021-04-01</td>\n",
              "      <td>3.651232e+06</td>\n",
              "      <td>59432.112946</td>\n",
              "      <td>397.0</td>\n",
              "      <td>267.24</td>\n",
              "      <td>276.45</td>\n",
              "      <td>0.998189</td>\n",
              "      <td>0.994884</td>\n",
              "      <td>9.21</td>\n",
              "      <td>0.673149</td>\n",
              "      <td>0.696348</td>\n",
              "    </tr>\n",
              "    <tr>\n",
              "      <th>397</th>\n",
              "      <td>California</td>\n",
              "      <td>2021-04-02</td>\n",
              "      <td>3.653505e+06</td>\n",
              "      <td>59539.899098</td>\n",
              "      <td>398.0</td>\n",
              "      <td>267.32</td>\n",
              "      <td>276.67</td>\n",
              "      <td>0.99881</td>\n",
              "      <td>0.996689</td>\n",
              "      <td>9.35</td>\n",
              "      <td>0.671658</td>\n",
              "      <td>0.695151</td>\n",
              "    </tr>\n",
              "    <tr>\n",
              "      <th>398</th>\n",
              "      <td>California</td>\n",
              "      <td>2021-04-03</td>\n",
              "      <td>3.655711e+06</td>\n",
              "      <td>59641.855044</td>\n",
              "      <td>399.0</td>\n",
              "      <td>267.40</td>\n",
              "      <td>276.88</td>\n",
              "      <td>0.999413</td>\n",
              "      <td>0.998395</td>\n",
              "      <td>9.48</td>\n",
              "      <td>0.670175</td>\n",
              "      <td>0.693935</td>\n",
              "    </tr>\n",
              "    <tr>\n",
              "      <th>399</th>\n",
              "      <td>California</td>\n",
              "      <td>2021-04-04</td>\n",
              "      <td>3.657856e+06</td>\n",
              "      <td>59737.704601</td>\n",
              "      <td>400.0</td>\n",
              "      <td>267.48</td>\n",
              "      <td>277.08</td>\n",
              "      <td>1</td>\n",
              "      <td>1</td>\n",
              "      <td>9.60</td>\n",
              "      <td>0.668700</td>\n",
              "      <td>0.692700</td>\n",
              "    </tr>\n",
              "  </tbody>\n",
              "</table>\n",
              "<p>400 rows × 12 columns</p>\n",
              "</div>"
            ],
            "text/plain": [
              "          state  ... Avg Day of Death/ Current Day\n",
              "0    California  ...                      1.000000\n",
              "1    California  ...                      0.800000\n",
              "2    California  ...                      0.753333\n",
              "3    California  ...                      0.742500\n",
              "4    California  ...                      0.746000\n",
              "..          ...  ...                           ...\n",
              "395  California  ...                      0.697525\n",
              "396  California  ...                      0.696348\n",
              "397  California  ...                      0.695151\n",
              "398  California  ...                      0.693935\n",
              "399  California  ...                      0.692700\n",
              "\n",
              "[400 rows x 12 columns]"
            ]
          },
          "metadata": {
            "tags": []
          },
          "execution_count": 29
        }
      ]
    },
    {
      "cell_type": "markdown",
      "metadata": {
        "id": "-8-hZKDb9sFy"
      },
      "source": [
        "**Statistics**"
      ]
    },
    {
      "cell_type": "code",
      "metadata": {
        "id": "J_FlPWnY9v3U"
      },
      "source": [
        "# framework for statistics\n",
        "averagedayofcase = df['Avg day of case'].iloc[-1]\n",
        "averagedayofdeath = df['Avg day of death'].iloc[-1]\n",
        "differDeaths = df['Avg Death Day - Avg Case Day'].max()\n",
        "differCases= -df['Avg Death Day - Avg Case Day'].min()"
      ],
      "execution_count": 30,
      "outputs": []
    },
    {
      "cell_type": "code",
      "metadata": {
        "colab": {
          "base_uri": "https://localhost:8080/"
        },
        "id": "-YZzXLkJ9w-0",
        "outputId": "2686ec27-88e0-43dc-be68-540bec18c4b5"
      },
      "source": [
        "print('COVID-19 STATISTICS')\n",
        "print('')\n",
        "print('State = ', df.state.iloc[-1])\n",
        "print('Average Day of Death and Average Day of Case as of',df['date'].iloc[-1])\n",
        "print('Case =', averagedayofcase)\n",
        "print('Death = ', averagedayofdeath)\n",
        "print('Days When Average Dates of Death Differ By Largest Amounts')\n",
        "print('Death Day – Case Day =', differDeaths)\n",
        "print('Case Day - Death Day =',differCases)"
      ],
      "execution_count": 31,
      "outputs": [
        {
          "output_type": "stream",
          "text": [
            "COVID-19 STATISTICS\n",
            "\n",
            "State =  California\n",
            "Average Day of Death and Average Day of Case as of 2021-04-04 00:00:00\n",
            "Case = 267.48\n",
            "Death =  277.08\n",
            "Days When Average Dates of Death Differ By Largest Amounts\n",
            "Death Day – Case Day = 9.599999999999966\n",
            "Case Day - Death Day = 40.97999999999999\n"
          ],
          "name": "stdout"
        }
      ]
    },
    {
      "cell_type": "code",
      "metadata": {
        "colab": {
          "base_uri": "https://localhost:8080/",
          "height": 625
        },
        "id": "JHYmiVCM9z1i",
        "outputId": "b5fb3577-7588-4b56-bec4-6111c2dd9dce"
      },
      "source": [
        "plt.figure(figsize = (18,8))\n",
        "\n",
        "plt.subplot(2,2,1)\n",
        "plt.plot(df['Day'], df['Avg day of case'],df['Avg day of death'])\n",
        "plt.title('Average Day Case/Death')\n",
        "plt.xlabel('Day')\n",
        "plt.ylabel('Average Day of Case or Death')\n",
        "\n",
        "plt.subplot(2,2,2)\n",
        "plt.plot(df['Day'], df['Avg Death Day - Avg Case Day'])\n",
        "plt.title('Avg Death Day - Avg Case Day for')\n",
        "plt.xlabel('Day')\n",
        "plt.ylabel('Difference in Days')\n",
        "\n",
        "plt.subplot(2,2,3)\n",
        "plt.plot(df['Day'],df['cdf_cases'],df['cdf_deaths'])\n",
        "plt.title('Cumulative Probability Distribution, Days of Cases and Deaths')\n",
        "plt.xlabel('Day')\n",
        "plt.ylabel('Cumulative Probability')\n",
        "\n",
        "plt.subplot(2,2,4)\n",
        "plt.plot(df['Day'], df['Avg Day of Case/ Current Day'])\n",
        "plt.title('Ratio of Average Day of Event to Current Date')\n",
        "plt.xlabel('Day')\n",
        "plt.ylabel('Ratio')\n",
        "\n",
        "\n",
        "\n",
        "plt.suptitle('Covidestim Data, as of Date Day 1 = March 1, 2020', size= 16,y=1.05)\n",
        "plt.tight_layout()\n",
        "\n",
        "plt.style.use('seaborn')"
      ],
      "execution_count": 33,
      "outputs": [
        {
          "output_type": "display_data",
          "data": {
            "image/png": "[encoded data removed]",
            "text/plain": [
              "<Figure size 1296x576 with 4 Axes>"
            ]
          },
          "metadata": {
            "tags": []
          }
        }
      ]
    }
  ]
}