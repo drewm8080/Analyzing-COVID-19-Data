{
  "nbformat": 4,
  "nbformat_minor": 0,
  "metadata": {
    "colab": {
      "name": "Covidestim Data",
      "provenance": []
    },
    "kernelspec": {
      "name": "python3",
      "display_name": "Python 3"
    }
  },
  "cells": [
    {
      "cell_type": "markdown",
      "metadata": {
        "id": "c1p5DZ1z5eNw"
      },
      "source": [
        "**User Input Here**"
      ]
    },
    {
      "cell_type": "code",
      "metadata": {
        "colab": {
          "base_uri": "https://localhost:8080/"
        },
        "id": "JE7ZSh2h3Dnt",
        "outputId": "b048fa14-c7c2-4327-d15f-524344b37355"
      },
      "source": [
        "print('Welcome to the COVID-19 Covidestim Statistics')\n",
        "print('')\n",
        "print('Please tell me which state you would like to see. Type full name of state with the first letter capitalized. EX: Florida, Georgia etc.')\n",
        "print('states/territories not available: California,DC,Delaware,Indiana,Illinois,Lousiana,Michigan,Missouri,North Carolina,Nevada,Pennslyvania,Texas,Vermont,West Virgina')\n",
        "userinput = input('Please put state name here:')"
      ],
      "execution_count": null,
      "outputs": [
        {
          "output_type": "stream",
          "text": [
            "Welcome to the COVID-19 Covidestim Statistics\n",
            "\n",
            "Please tell me which state you would like to see. Type full name of state with the first letter capitalized. EX: Florida, Georgia etc.\n",
            "states/territories not available: California,DC,Delaware,Indiana,Illinois,Lousiana,Michigan,Missouri,North Carolina,Nevada,Pennslyvania,Texas,Vermont,West Virgina\n",
            "Please put state name here:Florida\n"
          ],
          "name": "stdout"
        }
      ]
    },
    {
      "cell_type": "markdown",
      "metadata": {
        "id": "4GAko2ty5jrf"
      },
      "source": [
        "**Framework for Cases and Deaths from Covidestim**"
      ]
    },
    {
      "cell_type": "code",
      "metadata": {
        "id": "CAqxcmiQ6fEF"
      },
      "source": [
        "# Might need this cell if your data does not download directly from the URL\n",
        "#!pip install fsspec\n",
        "#!pip install pandas"
      ],
      "execution_count": null,
      "outputs": []
    },
    {
      "cell_type": "code",
      "metadata": {
        "id": "NGjzSN0LAl6S"
      },
      "source": [
        "import pandas as pd\n",
        "import matplotlib as plt"
      ],
      "execution_count": null,
      "outputs": []
    },
    {
      "cell_type": "code",
      "metadata": {
        "id": "bGsAPrnk8Vmm"
      },
      "source": [
        "# Ignore this \n",
        "data = { 'Alabama': 'AL', 'Alaska': 'AK', 'American Samoa': 'AS', 'Arizona': 'AZ', 'Arkansas': 'AR', 'California': 'CA', 'Colorado': 'CO', 'Connecticut': 'CT', 'Delaware': 'DE', 'District of Columbia': 'DC', 'Florida': 'FL', 'Georgia': 'GA', 'Guam': 'GU', 'Hawaii': 'HI', 'Idaho': 'ID', 'Illinois': 'IL', 'Indiana': 'IN', 'Iowa': 'IA', 'Kansas': 'KS', 'Kentucky': 'KY', 'Louisiana': 'LA', 'Maine': 'ME', 'Maryland': 'MD', 'Massachusetts': 'MA', 'Michigan': 'MI', 'Minnesota': 'MN', 'Mississippi': 'MS', 'Missouri': 'MO', 'Montana': 'MT', 'Nebraska': 'NE', 'Nevada': 'NV', 'New Hampshire': 'NH', 'New Jersey': 'NJ', 'New Mexico': 'NM', 'New York': 'NY', 'North Carolina': 'NC', 'North Dakota': 'ND', 'Northern Mariana Islands':'MP', 'Ohio': 'OH', 'Oklahoma': 'OK', 'Oregon': 'OR', 'Pennsylvania': 'PA', 'Puerto Rico': 'PR', 'Rhode Island': 'RI', 'South Carolina': 'SC', 'South Dakota': 'SD', 'Tennessee': 'TN', 'Texas': 'TX', 'Utah': 'UT', 'Vermont': 'VT', 'Virgin Islands': 'VI', 'Virginia': 'VA', 'Washington': 'WA', 'West Virginia': 'WV', 'Wisconsin': 'WI', 'Wyoming': 'WY' }"
      ],
      "execution_count": null,
      "outputs": []
    },
    {
      "cell_type": "code",
      "metadata": {
        "id": "VoALYL5c_vBX"
      },
      "source": [
        "# Loading in the data\n",
        "url = 'https://covidestim.s3.us-east-2.amazonaws.com/latest/state/estimates.csv'\n",
        "df= pd.read_csv(url)"
      ],
      "execution_count": null,
      "outputs": []
    },
    {
      "cell_type": "code",
      "metadata": {
        "id": "2Ejc9sAcBvuK"
      },
      "source": [
        "# Setting datetime index \n",
        "df.date = pd.to_datetime(df.date)\n",
        "df = df[df.date >= '2020-03-01']"
      ],
      "execution_count": null,
      "outputs": []
    },
    {
      "cell_type": "code",
      "metadata": {
        "id": "BSpIXTBMBzx9"
      },
      "source": [
        "# Making sure the data starts after 03-01-2020\n",
        "df = df[df.date >= '2020-03-01']"
      ],
      "execution_count": null,
      "outputs": []
    },
    {
      "cell_type": "code",
      "metadata": {
        "id": "1U8y90P9Ejsv"
      },
      "source": [
        "# Slicing the data \n",
        "df = df.loc[:,['state','date','cases.fitted','deaths.fitted']]"
      ],
      "execution_count": null,
      "outputs": []
    },
    {
      "cell_type": "code",
      "metadata": {
        "id": "rbId_fg9m8WE"
      },
      "source": [
        "# Cleaning the data\n",
        "df['Cases'] = df['cases.fitted']\n",
        "df['Deaths'] = df['deaths.fitted']\n",
        "df = df.drop(columns =['cases.fitted','deaths.fitted'])"
      ],
      "execution_count": null,
      "outputs": []
    },
    {
      "cell_type": "code",
      "metadata": {
        "id": "1az0lFkA4lcy"
      },
      "source": [
        "# Selecting the state\n",
        "df = df[df.state == userinput]"
      ],
      "execution_count": null,
      "outputs": []
    },
    {
      "cell_type": "code",
      "metadata": {
        "id": "OQEDJSRwq9X3"
      },
      "source": [
        "# Cleaning the data\n",
        "df= df.reset_index(drop = True)"
      ],
      "execution_count": null,
      "outputs": []
    },
    {
      "cell_type": "code",
      "metadata": {
        "id": "H6ZZiipd33Kk"
      },
      "source": [
        "# Selecting the state\n",
        "df = df[df.state == userinput]"
      ],
      "execution_count": null,
      "outputs": []
    },
    {
      "cell_type": "code",
      "metadata": {
        "id": "_elaopMpn4Jf"
      },
      "source": [
        "# Calulating the cummulative cases\n",
        "for i in range(1,len(df)):\n",
        "  x = df.loc[i,'Cases'] + df.loc[i-1,'Cases']\n",
        "  df.loc[i,'Cases'] = x"
      ],
      "execution_count": null,
      "outputs": []
    },
    {
      "cell_type": "code",
      "metadata": {
        "id": "kDfWmpa3sxYw"
      },
      "source": [
        "# Calulating the cummulative deaths\n",
        "for i in range(1,len(df)):\n",
        "  x = df.loc[i,'Deaths'] + df.loc[i-1,'Deaths']\n",
        "  df.loc[i,'Deaths'] = x"
      ],
      "execution_count": null,
      "outputs": []
    },
    {
      "cell_type": "code",
      "metadata": {
        "id": "7caJ2JxfFta5"
      },
      "source": [
        "# Creating day column for each date \n",
        "df['Day'] = df.groupby('state')['date'].rank(ascending=True)"
      ],
      "execution_count": null,
      "outputs": []
    },
    {
      "cell_type": "code",
      "metadata": {
        "id": "e4mCNI1HGIa3"
      },
      "source": [
        "df['Avg day of case'] = 0 # declaring new column\n",
        "df['Avg day of death'] = 0"
      ],
      "execution_count": null,
      "outputs": []
    },
    {
      "cell_type": "code",
      "metadata": {
        "id": "XAWIhzFrGvbh"
      },
      "source": [
        "# Setting the first day of each state to be the first date of cases \n",
        "df.loc[df.groupby('state')['date'].head(1).index, 'Avg day of case'] = df.loc[:,'Day']"
      ],
      "execution_count": null,
      "outputs": []
    },
    {
      "cell_type": "code",
      "metadata": {
        "id": "6jDC5F2HHDv7"
      },
      "source": [
        "# Setting it so the avg day of death is the first day \n",
        "df = df[df.Deaths > 0]"
      ],
      "execution_count": null,
      "outputs": []
    },
    {
      "cell_type": "code",
      "metadata": {
        "id": "pPp30WrdHsRK"
      },
      "source": [
        "#Setting the first day as the first row in Avg day of death\n",
        "\n",
        "df.loc[df.groupby('state')['date'].head(1).index, 'Avg day of death'] = df.loc[:,'Day']"
      ],
      "execution_count": null,
      "outputs": []
    },
    {
      "cell_type": "code",
      "metadata": {
        "id": "-fUbpNqi34lf"
      },
      "source": [
        "# creating the CDF Column\n",
        "df['cdf_cases'] = df['Cases']"
      ],
      "execution_count": null,
      "outputs": []
    },
    {
      "cell_type": "code",
      "metadata": {
        "id": "ELCqT_NB4Ay8"
      },
      "source": [
        "#creating the cdf column\n",
        "df['cdf_deaths'] = df['Deaths']"
      ],
      "execution_count": null,
      "outputs": []
    },
    {
      "cell_type": "code",
      "metadata": {
        "id": "hqYmjR4Q4EHy"
      },
      "source": [
        "#creating the formula for the CDF column\n",
        "df.loc[:,'cdf_cases':] = df.loc[:,'cdf_cases':].div(df.iloc[-1]['cdf_cases':])\n",
        "df = df.reset_index()"
      ],
      "execution_count": null,
      "outputs": []
    },
    {
      "cell_type": "code",
      "metadata": {
        "id": "Undb1AYW4GJs"
      },
      "source": [
        "#creating the formula for the CDF column\n",
        "df['cdf_deaths'] = df.loc[:,'cdf_deaths':].div(df.iloc[-1]['cdf_deaths':])"
      ],
      "execution_count": null,
      "outputs": []
    },
    {
      "cell_type": "code",
      "metadata": {
        "id": "3wgjGo-Z4Itg"
      },
      "source": [
        "#Calulating Avgerage day of case\n",
        "for i in range(1, len(df)):\n",
        "  x = (((df.loc[i, 'Cases'] - df.loc[i-1, 'Cases']) * (df.loc[i, 'Day']- df.loc[i-1, 'Avg day of case'])) / (df.loc[i, 'Cases'])) + (df.loc[i-1, 'Avg day of case'])\n",
        "  df.loc[i, 'Avg day of case'] = round(x, 2)"
      ],
      "execution_count": null,
      "outputs": []
    },
    {
      "cell_type": "code",
      "metadata": {
        "id": "l5o2XzvI4MHX"
      },
      "source": [
        "#Calulating Avgerage day of death\n",
        "for i in range(1, len(df)):\n",
        "  x = (((df.loc[i, 'Deaths'] - df.loc[i-1, 'Deaths']) * (df.loc[i, 'Day']- df.loc[i-1, 'Avg day of death'])) / (df.loc[i, 'Deaths'])) + (df.loc[i-1, 'Avg day of death'])\n",
        "  df.loc[i, 'Avg day of death'] = round(x, 2)"
      ],
      "execution_count": null,
      "outputs": []
    },
    {
      "cell_type": "code",
      "metadata": {
        "id": "03WAwLav4Pl2"
      },
      "source": [
        "df['Avg Death Day - Avg Case Day'] = df['Avg day of death'] - df['Avg day of case'] "
      ],
      "execution_count": null,
      "outputs": []
    },
    {
      "cell_type": "code",
      "metadata": {
        "id": "9HpkmF2m4QM8"
      },
      "source": [
        "df['Avg Day of Case/ Current Day'] = df['Avg day of case'] / df['Day']"
      ],
      "execution_count": null,
      "outputs": []
    },
    {
      "cell_type": "code",
      "metadata": {
        "id": "FA8QsWOU4Qk2"
      },
      "source": [
        "df['Avg Day of Death/ Current Day'] = df['Avg day of death'] / df['Day']"
      ],
      "execution_count": null,
      "outputs": []
    },
    {
      "cell_type": "code",
      "metadata": {
        "id": "QK4k5f5j45Zb"
      },
      "source": [
        "df = df.drop(columns = 'index')"
      ],
      "execution_count": null,
      "outputs": []
    },
    {
      "cell_type": "markdown",
      "metadata": {
        "id": "_zDRsEB959DL"
      },
      "source": [
        "**Framework for hospital Data**"
      ]
    },
    {
      "cell_type": "code",
      "metadata": {
        "id": "mzFgZtBR6B_c"
      },
      "source": [
        "# downloading the data\n",
        "url = 'https://covidtracking.com/data/download/all-states-history.csv'"
      ],
      "execution_count": null,
      "outputs": []
    },
    {
      "cell_type": "code",
      "metadata": {
        "id": "QI_wh77G6Dyv"
      },
      "source": [
        "# saving to a df\n",
        "hospitalizationdf = pd.read_csv(url)"
      ],
      "execution_count": null,
      "outputs": []
    },
    {
      "cell_type": "code",
      "metadata": {
        "id": "ciZsKWjL6FUN"
      },
      "source": [
        "#indexing column\n",
        "hospitalizationdf = hospitalizationdf.loc[:,['state','date','hospitalizedCumulative']]"
      ],
      "execution_count": null,
      "outputs": []
    },
    {
      "cell_type": "code",
      "metadata": {
        "id": "zyssaFgp6Jhd"
      },
      "source": [
        "#changing to datetime \n",
        "hospitalizationdf.date = pd.to_datetime(hospitalizationdf.date)"
      ],
      "execution_count": null,
      "outputs": []
    },
    {
      "cell_type": "code",
      "metadata": {
        "id": "kGcjs-fj6NDy"
      },
      "source": [
        "# making sure the state is the same\n",
        "hospitalizationdf = hospitalizationdf[hospitalizationdf.state == data[userinput]]"
      ],
      "execution_count": null,
      "outputs": []
    },
    {
      "cell_type": "code",
      "metadata": {
        "id": "a9wZdhHj6OyM"
      },
      "source": [
        "# Flipping the df\n",
        "hospitalizationdf = hospitalizationdf.iloc[::-1]"
      ],
      "execution_count": null,
      "outputs": []
    },
    {
      "cell_type": "code",
      "metadata": {
        "id": "WmoJ4rlj6VAs"
      },
      "source": [
        "# starting the date at 03-01-2020\n",
        "hospitalizationdf = hospitalizationdf[hospitalizationdf['date'] >= '03-01-2020']"
      ],
      "execution_count": null,
      "outputs": []
    },
    {
      "cell_type": "code",
      "metadata": {
        "id": "qkbPINfV6YLi"
      },
      "source": [
        "# making sure the date is greater than 0\n",
        "hospitalizationdf = hospitalizationdf [hospitalizationdf.hospitalizedCumulative >0]"
      ],
      "execution_count": null,
      "outputs": []
    },
    {
      "cell_type": "code",
      "metadata": {
        "id": "3ZrCYpiL6aEp"
      },
      "source": [
        "# resetting the index\n",
        "hospitalizationdf = hospitalizationdf.reset_index()"
      ],
      "execution_count": null,
      "outputs": []
    },
    {
      "cell_type": "code",
      "metadata": {
        "id": "D3GtzJUR6bOA"
      },
      "source": [
        "# cleaning data \n",
        "hospitalizationdf = hospitalizationdf.drop(columns= 'index')"
      ],
      "execution_count": null,
      "outputs": []
    },
    {
      "cell_type": "code",
      "metadata": {
        "id": "Kc0n--on6ccQ"
      },
      "source": [
        "#merging the two dataframes together\n",
        "df = df.merge(hospitalizationdf, on ='date')"
      ],
      "execution_count": null,
      "outputs": []
    },
    {
      "cell_type": "code",
      "metadata": {
        "id": "7fEHpKY16dwm"
      },
      "source": [
        "# cleaning data\n",
        "df = df.drop(columns = ['state_y'])"
      ],
      "execution_count": null,
      "outputs": []
    },
    {
      "cell_type": "code",
      "metadata": {
        "id": "Q-JQB86K6fVn"
      },
      "source": [
        "# cleaning data \n",
        "df['state'] = df['state_x']"
      ],
      "execution_count": null,
      "outputs": []
    },
    {
      "cell_type": "code",
      "metadata": {
        "id": "FbYP0dPw6g3J"
      },
      "source": [
        "#cleanign data\n",
        "df = df.drop(columns = 'state_x')"
      ],
      "execution_count": null,
      "outputs": []
    },
    {
      "cell_type": "code",
      "metadata": {
        "id": "AHiEQ7E86iOM"
      },
      "source": [
        "#creating the cdf column\n",
        "df['cdf_hospitalized'] = df['hospitalizedCumulative']"
      ],
      "execution_count": null,
      "outputs": []
    },
    {
      "cell_type": "code",
      "metadata": {
        "id": "dZMzNd3R--Y1"
      },
      "source": [
        "#creating the formula for the CDF column\n",
        "df.loc[:,'cdf_hospitalized':] = df.loc[:,'cdf_hospitalized':].div(df.iloc[-1]['cdf_hospitalized':])\n",
        "df = df.reset_index(drop= True)"
      ],
      "execution_count": null,
      "outputs": []
    },
    {
      "cell_type": "code",
      "metadata": {
        "id": "ggK3rkuB9SaQ"
      },
      "source": [
        "# Creating avg day of hospitalization\n",
        "df['Avg day of hospitalization'] = 0"
      ],
      "execution_count": null,
      "outputs": []
    },
    {
      "cell_type": "code",
      "metadata": {
        "id": "H-dALOuz6jfT"
      },
      "source": [
        "#Calulating Avgerage day of Hospitalization\n",
        "for i in range(1, len(df)):\n",
        "  x = (((df.loc[i, 'hospitalizedCumulative'] - df.loc[i-1, 'hospitalizedCumulative']) * (df.loc[i, 'Day']- df.loc[i-1, 'Avg day of hospitalization'])) / (df.loc[i, 'hospitalizedCumulative'])) + (df.loc[i-1, 'Avg day of hospitalization'])\n",
        "  df.loc[i, 'Avg day of hospitalization'] = round(x, 2)"
      ],
      "execution_count": null,
      "outputs": []
    },
    {
      "cell_type": "code",
      "metadata": {
        "id": "vx9v7pFS6k5T"
      },
      "source": [
        "df['Avg Hospitalization Day - Avg Case Day'] = df['Avg day of hospitalization'] - df['Avg day of case']  "
      ],
      "execution_count": null,
      "outputs": []
    },
    {
      "cell_type": "code",
      "metadata": {
        "id": "y8F6Bc__6mn6"
      },
      "source": [
        "df['Avg Day of Hospitalization/ Current Day'] = df['Avg day of hospitalization'] /df['Day']"
      ],
      "execution_count": null,
      "outputs": []
    },
    {
      "cell_type": "code",
      "metadata": {
        "id": "MH0XTr9H6noq"
      },
      "source": [
        "# Cleaning dataframe\n",
        "df = df.loc[:,['date','state','Deaths','Cases','hospitalizedCumulative','Day','Avg day of case','Avg day of death','Avg day of hospitalization','Avg Death Day - Avg Case Day','Avg Hospitalization Day - Avg Case Day','Avg Day of Case/ Current Day','Avg Day of Death/ Current Day','Avg Day of Hospitalization/ Current Day','cdf_cases','cdf_deaths','cdf_hospitalized']]"
      ],
      "execution_count": null,
      "outputs": []
    },
    {
      "cell_type": "code",
      "metadata": {
        "colab": {
          "base_uri": "https://localhost:8080/",
          "height": 694
        },
        "id": "M51RnOQZhxaC",
        "outputId": "c1de3962-3d64-4486-8aaf-ffbdb90c9ea4"
      },
      "source": [
        "df"
      ],
      "execution_count": null,
      "outputs": [
        {
          "output_type": "execute_result",
          "data": {
            "text/html": [
              "<div>\n",
              "<style scoped>\n",
              "    .dataframe tbody tr th:only-of-type {\n",
              "        vertical-align: middle;\n",
              "    }\n",
              "\n",
              "    .dataframe tbody tr th {\n",
              "        vertical-align: top;\n",
              "    }\n",
              "\n",
              "    .dataframe thead th {\n",
              "        text-align: right;\n",
              "    }\n",
              "</style>\n",
              "<table border=\"1\" class=\"dataframe\">\n",
              "  <thead>\n",
              "    <tr style=\"text-align: right;\">\n",
              "      <th></th>\n",
              "      <th>date</th>\n",
              "      <th>state</th>\n",
              "      <th>Deaths</th>\n",
              "      <th>Cases</th>\n",
              "      <th>hospitalizedCumulative</th>\n",
              "      <th>Day</th>\n",
              "      <th>Avg day of case</th>\n",
              "      <th>Avg day of death</th>\n",
              "      <th>Avg day of hospitalization</th>\n",
              "      <th>Avg Death Day - Avg Case Day</th>\n",
              "      <th>Avg Hospitalization Day - Avg Case Day</th>\n",
              "      <th>Avg Day of Case/ Current Day</th>\n",
              "      <th>Avg Day of Death/ Current Day</th>\n",
              "      <th>Avg Day of Hospitalization/ Current Day</th>\n",
              "      <th>cdf_cases</th>\n",
              "      <th>cdf_deaths</th>\n",
              "      <th>cdf_hospitalized</th>\n",
              "    </tr>\n",
              "  </thead>\n",
              "  <tbody>\n",
              "    <tr>\n",
              "      <th>0</th>\n",
              "      <td>2020-03-21</td>\n",
              "      <td>Florida</td>\n",
              "      <td>6.321673</td>\n",
              "      <td>6.186583e+02</td>\n",
              "      <td>158.0</td>\n",
              "      <td>21.0</td>\n",
              "      <td>18.38</td>\n",
              "      <td>17.99</td>\n",
              "      <td>0.00</td>\n",
              "      <td>-0.39</td>\n",
              "      <td>-18.38</td>\n",
              "      <td>0.875238</td>\n",
              "      <td>0.856667</td>\n",
              "      <td>0.000000</td>\n",
              "      <td>0.000314235</td>\n",
              "      <td>0.000196365</td>\n",
              "      <td>0.00192128</td>\n",
              "    </tr>\n",
              "    <tr>\n",
              "      <th>1</th>\n",
              "      <td>2020-03-22</td>\n",
              "      <td>Florida</td>\n",
              "      <td>8.287127</td>\n",
              "      <td>8.223042e+02</td>\n",
              "      <td>185.0</td>\n",
              "      <td>22.0</td>\n",
              "      <td>19.28</td>\n",
              "      <td>18.94</td>\n",
              "      <td>3.21</td>\n",
              "      <td>-0.34</td>\n",
              "      <td>-16.07</td>\n",
              "      <td>0.876364</td>\n",
              "      <td>0.860909</td>\n",
              "      <td>0.145909</td>\n",
              "      <td>0.000417672</td>\n",
              "      <td>0.000257416</td>\n",
              "      <td>0.0022496</td>\n",
              "    </tr>\n",
              "    <tr>\n",
              "      <th>2</th>\n",
              "      <td>2020-03-23</td>\n",
              "      <td>Florida</td>\n",
              "      <td>10.799842</td>\n",
              "      <td>1.078587e+03</td>\n",
              "      <td>217.0</td>\n",
              "      <td>23.0</td>\n",
              "      <td>20.16</td>\n",
              "      <td>19.88</td>\n",
              "      <td>6.13</td>\n",
              "      <td>-0.28</td>\n",
              "      <td>-14.03</td>\n",
              "      <td>0.876522</td>\n",
              "      <td>0.864348</td>\n",
              "      <td>0.266522</td>\n",
              "      <td>0.000547846</td>\n",
              "      <td>0.000335466</td>\n",
              "      <td>0.00263871</td>\n",
              "    </tr>\n",
              "    <tr>\n",
              "      <th>3</th>\n",
              "      <td>2020-03-24</td>\n",
              "      <td>Florida</td>\n",
              "      <td>13.984271</td>\n",
              "      <td>1.395712e+03</td>\n",
              "      <td>259.0</td>\n",
              "      <td>24.0</td>\n",
              "      <td>21.03</td>\n",
              "      <td>20.82</td>\n",
              "      <td>9.03</td>\n",
              "      <td>-0.21</td>\n",
              "      <td>-12.00</td>\n",
              "      <td>0.876250</td>\n",
              "      <td>0.867500</td>\n",
              "      <td>0.376250</td>\n",
              "      <td>0.000708923</td>\n",
              "      <td>0.000434381</td>\n",
              "      <td>0.00314943</td>\n",
              "    </tr>\n",
              "    <tr>\n",
              "      <th>4</th>\n",
              "      <td>2020-03-25</td>\n",
              "      <td>Florida</td>\n",
              "      <td>17.982821</td>\n",
              "      <td>1.781497e+03</td>\n",
              "      <td>316.0</td>\n",
              "      <td>25.0</td>\n",
              "      <td>21.89</td>\n",
              "      <td>21.75</td>\n",
              "      <td>11.91</td>\n",
              "      <td>-0.14</td>\n",
              "      <td>-9.98</td>\n",
              "      <td>0.875600</td>\n",
              "      <td>0.870000</td>\n",
              "      <td>0.476400</td>\n",
              "      <td>0.000904875</td>\n",
              "      <td>0.000558585</td>\n",
              "      <td>0.00384255</td>\n",
              "    </tr>\n",
              "    <tr>\n",
              "      <th>...</th>\n",
              "      <td>...</td>\n",
              "      <td>...</td>\n",
              "      <td>...</td>\n",
              "      <td>...</td>\n",
              "      <td>...</td>\n",
              "      <td>...</td>\n",
              "      <td>...</td>\n",
              "      <td>...</td>\n",
              "      <td>...</td>\n",
              "      <td>...</td>\n",
              "      <td>...</td>\n",
              "      <td>...</td>\n",
              "      <td>...</td>\n",
              "      <td>...</td>\n",
              "      <td>...</td>\n",
              "      <td>...</td>\n",
              "      <td>...</td>\n",
              "    </tr>\n",
              "    <tr>\n",
              "      <th>347</th>\n",
              "      <td>2021-03-03</td>\n",
              "      <td>Florida</td>\n",
              "      <td>31197.263343</td>\n",
              "      <td>1.922309e+06</td>\n",
              "      <td>81278.0</td>\n",
              "      <td>368.0</td>\n",
              "      <td>242.93</td>\n",
              "      <td>232.18</td>\n",
              "      <td>207.58</td>\n",
              "      <td>-10.75</td>\n",
              "      <td>-35.35</td>\n",
              "      <td>0.660136</td>\n",
              "      <td>0.630924</td>\n",
              "      <td>0.564076</td>\n",
              "      <td>0.976397</td>\n",
              "      <td>0.969054</td>\n",
              "      <td>0.988339</td>\n",
              "    </tr>\n",
              "    <tr>\n",
              "      <th>348</th>\n",
              "      <td>2021-03-04</td>\n",
              "      <td>Florida</td>\n",
              "      <td>31310.776406</td>\n",
              "      <td>1.927502e+06</td>\n",
              "      <td>81600.0</td>\n",
              "      <td>369.0</td>\n",
              "      <td>243.27</td>\n",
              "      <td>232.68</td>\n",
              "      <td>208.22</td>\n",
              "      <td>-10.59</td>\n",
              "      <td>-35.05</td>\n",
              "      <td>0.659268</td>\n",
              "      <td>0.630569</td>\n",
              "      <td>0.564282</td>\n",
              "      <td>0.979035</td>\n",
              "      <td>0.97258</td>\n",
              "      <td>0.992254</td>\n",
              "    </tr>\n",
              "    <tr>\n",
              "      <th>349</th>\n",
              "      <td>2021-03-05</td>\n",
              "      <td>Florida</td>\n",
              "      <td>31421.225354</td>\n",
              "      <td>1.932601e+06</td>\n",
              "      <td>81902.0</td>\n",
              "      <td>370.0</td>\n",
              "      <td>243.60</td>\n",
              "      <td>233.16</td>\n",
              "      <td>208.82</td>\n",
              "      <td>-10.44</td>\n",
              "      <td>-34.78</td>\n",
              "      <td>0.658378</td>\n",
              "      <td>0.630162</td>\n",
              "      <td>0.564378</td>\n",
              "      <td>0.981625</td>\n",
              "      <td>0.976011</td>\n",
              "      <td>0.995926</td>\n",
              "    </tr>\n",
              "    <tr>\n",
              "      <th>350</th>\n",
              "      <td>2021-03-06</td>\n",
              "      <td>Florida</td>\n",
              "      <td>31528.591294</td>\n",
              "      <td>1.937594e+06</td>\n",
              "      <td>82145.0</td>\n",
              "      <td>371.0</td>\n",
              "      <td>243.93</td>\n",
              "      <td>233.63</td>\n",
              "      <td>209.30</td>\n",
              "      <td>-10.30</td>\n",
              "      <td>-34.63</td>\n",
              "      <td>0.657493</td>\n",
              "      <td>0.629730</td>\n",
              "      <td>0.564151</td>\n",
              "      <td>0.984161</td>\n",
              "      <td>0.979346</td>\n",
              "      <td>0.998881</td>\n",
              "    </tr>\n",
              "    <tr>\n",
              "      <th>351</th>\n",
              "      <td>2021-03-07</td>\n",
              "      <td>Florida</td>\n",
              "      <td>31632.861615</td>\n",
              "      <td>1.942472e+06</td>\n",
              "      <td>82237.0</td>\n",
              "      <td>372.0</td>\n",
              "      <td>244.25</td>\n",
              "      <td>234.09</td>\n",
              "      <td>209.48</td>\n",
              "      <td>-10.16</td>\n",
              "      <td>-34.77</td>\n",
              "      <td>0.656586</td>\n",
              "      <td>0.629274</td>\n",
              "      <td>0.563118</td>\n",
              "      <td>0.986639</td>\n",
              "      <td>0.982585</td>\n",
              "      <td>1</td>\n",
              "    </tr>\n",
              "  </tbody>\n",
              "</table>\n",
              "<p>352 rows × 17 columns</p>\n",
              "</div>"
            ],
            "text/plain": [
              "          date    state  ...   cdf_deaths  cdf_hospitalized\n",
              "0   2020-03-21  Florida  ...  0.000196365        0.00192128\n",
              "1   2020-03-22  Florida  ...  0.000257416         0.0022496\n",
              "2   2020-03-23  Florida  ...  0.000335466        0.00263871\n",
              "3   2020-03-24  Florida  ...  0.000434381        0.00314943\n",
              "4   2020-03-25  Florida  ...  0.000558585        0.00384255\n",
              "..         ...      ...  ...          ...               ...\n",
              "347 2021-03-03  Florida  ...     0.969054          0.988339\n",
              "348 2021-03-04  Florida  ...      0.97258          0.992254\n",
              "349 2021-03-05  Florida  ...     0.976011          0.995926\n",
              "350 2021-03-06  Florida  ...     0.979346          0.998881\n",
              "351 2021-03-07  Florida  ...     0.982585                 1\n",
              "\n",
              "[352 rows x 17 columns]"
            ]
          },
          "metadata": {
            "tags": []
          },
          "execution_count": 116
        }
      ]
    },
    {
      "cell_type": "markdown",
      "metadata": {
        "id": "-8-hZKDb9sFy"
      },
      "source": [
        "**Statistics**"
      ]
    },
    {
      "cell_type": "code",
      "metadata": {
        "id": "J_FlPWnY9v3U"
      },
      "source": [
        "averagedayofcase = df['Avg day of case'].iloc[-1]\n",
        "averagedayofdeath = df['Avg day of death'].iloc[-1]\n",
        "differDeaths = df['Avg Death Day - Avg Case Day'].max()\n",
        "differCases= -df['Avg Death Day - Avg Case Day'].min()\n",
        "differhospitalizations = df['Avg Hospitalization Day - Avg Case Day'].max()\n",
        "differhospitalizations1 = -df['Avg Hospitalization Day - Avg Case Day'].min()"
      ],
      "execution_count": null,
      "outputs": []
    },
    {
      "cell_type": "code",
      "metadata": {
        "colab": {
          "base_uri": "https://localhost:8080/"
        },
        "id": "-YZzXLkJ9w-0",
        "outputId": "43ec896c-9cb9-4eec-e515-fe01f1094a2a"
      },
      "source": [
        "print('COVID-19 STATISTICS')\n",
        "print('')\n",
        "print('State = ', df.state.iloc[-1])\n",
        "print('Average Day of Death and Average Day of Case as of',df['date'].iloc[-1])\n",
        "print('Case =', averagedayofcase)\n",
        "print('Death = ', averagedayofdeath)\n",
        "print('Days When Average Dates of Death Differ By Largest Amounts')\n",
        "print('Death Day – Case Day =', differDeaths)\n",
        "print('Case Day - Death Day =',differCases)\n",
        "print('Case Day - Hospitalization day = ',differhospitalizations)\n",
        "print('Hospialization Day - Case Day =', differhospitalizations1) "
      ],
      "execution_count": null,
      "outputs": [
        {
          "output_type": "stream",
          "text": [
            "COVID-19 STATISTICS\n",
            "\n",
            "State =  Florida\n",
            "Average Day of Death and Average Day of Case as of 2021-03-07 00:00:00\n",
            "Case = 244.25\n",
            "Death =  234.09\n",
            "Days When Average Dates of Death Differ By Largest Amounts\n",
            "Death Day – Case Day = 7.02000000000001\n",
            "Case Day - Death Day = 22.950000000000003\n",
            "Case Day - Hospitalization day =  3.4399999999999977\n",
            "Hospialization Day - Case Day = 38.170000000000016\n"
          ],
          "name": "stdout"
        }
      ]
    },
    {
      "cell_type": "code",
      "metadata": {
        "colab": {
          "base_uri": "https://localhost:8080/",
          "height": 376
        },
        "id": "JHYmiVCM9z1i",
        "outputId": "0b71aa4b-6297-4178-dd37-af27687f7b2b"
      },
      "source": [
        "#Ratio Avg Day of Event/Current Date Graph\n",
        "df.plot(x= 'Day',y = ['Avg Day of Case/ Current Day','Avg Day of Death/ Current Day','Avg Day of Hospitalization/ Current Day'],title = 'Ratio of Average Day of Event to Current Date', ylabel = 'Ratio')\n",
        "plt.style.use('seaborn')"
      ],
      "execution_count": null,
      "outputs": [
        {
          "output_type": "display_data",
          "data": {
            "image/png": "[encoded data removed]",
            "text/plain": [
              "<Figure size 576x396 with 1 Axes>"
            ]
          },
          "metadata": {
            "tags": []
          }
        }
      ]
    },
    {
      "cell_type": "code",
      "metadata": {
        "colab": {
          "base_uri": "https://localhost:8080/",
          "height": 376
        },
        "id": "0v9SzUPC91ZM",
        "outputId": "0be1a894-7edc-4d16-e398-a400f6f1ac03"
      },
      "source": [
        "#Avg Death Day-Avg Case Day\n",
        "df.plot(x = 'Day', y=['Avg Death Day - Avg Case Day','Avg Hospitalization Day - Avg Case Day'],title = 'Avg Death Day - Avg Case Day, Avg Hospitalization Day - Avg Case Day',ylabel = 'Difference in Days')\n",
        "plt.style.use('seaborn')"
      ],
      "execution_count": null,
      "outputs": [
        {
          "output_type": "display_data",
          "data": {
            "image/png": "[encoded data removed]",
            "text/plain": [
              "<Figure size 576x396 with 1 Axes>"
            ]
          },
          "metadata": {
            "tags": []
          }
        }
      ]
    },
    {
      "cell_type": "code",
      "metadata": {
        "colab": {
          "base_uri": "https://localhost:8080/",
          "height": 376
        },
        "id": "1vH23Gur9281",
        "outputId": "5f39d457-3087-4808-9109-21d1899d2e27"
      },
      "source": [
        "#Average Case or Death or hospitalization\n",
        "df.plot(x = 'Day', y= ['Avg day of case','Avg day of death','Avg day of hospitalization'],title = 'Average Day, Case,Death,Hospitalization, as of Date Day 1 = March 1, 2020', ylabel = 'Average Day of Case or Death')\n",
        "plt.style.use('seaborn')"
      ],
      "execution_count": null,
      "outputs": [
        {
          "output_type": "display_data",
          "data": {
            "image/png": "[encoded data removed]",
            "text/plain": [
              "<Figure size 576x396 with 1 Axes>"
            ]
          },
          "metadata": {
            "tags": []
          }
        }
      ]
    },
    {
      "cell_type": "code",
      "metadata": {
        "colab": {
          "base_uri": "https://localhost:8080/",
          "height": 376
        },
        "id": "APbXDzTv94aC",
        "outputId": "27e23ff4-a2f0-4710-b02f-1c9d83206177"
      },
      "source": [
        "#CDF\n",
        "df.plot( x= 'Day', y= ['cdf_cases','cdf_deaths','cdf_hospitalized'],title = 'Cumulative Probability Distribution, Days of Cases,Deaths,Hospitalization', ylabel = 'Cumulative Probability')\n",
        "plt.style.use('seaborn')"
      ],
      "execution_count": null,
      "outputs": [
        {
          "output_type": "display_data",
          "data": {
            "image/png": "[encoded data removed]",
            "text/plain": [
              "<Figure size 576x396 with 1 Axes>"
            ]
          },
          "metadata": {
            "tags": []
          }
        }
      ]
    }
  ]
}