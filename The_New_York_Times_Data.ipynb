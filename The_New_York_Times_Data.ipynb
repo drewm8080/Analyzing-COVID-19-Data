{
  "nbformat": 4,
  "nbformat_minor": 0,
  "metadata": {
    "colab": {
      "name": "The New York Times Data",
      "provenance": [],
      "collapsed_sections": [],
      "authorship_tag": "ABX9TyP67ymP2gMRiYiUAMeM4nWn",
      "include_colab_link": true
    },
    "kernelspec": {
      "name": "python3",
      "display_name": "Python 3"
    }
  },
  "cells": [
    {
      "cell_type": "markdown",
      "metadata": {
        "id": "view-in-github",
        "colab_type": "text"
      },
      "source": [
        "<a href=\"https://colab.research.google.com/github/drewm8080/Analyzing-COVID-19-Data/blob/main/The_New_York_Times_Data.ipynb\" target=\"_parent\"><img src=\"https://colab.research.google.com/assets/colab-badge.svg\" alt=\"Open In Colab\"/></a>"
      ]
    },
    {
      "cell_type": "markdown",
      "metadata": {
        "id": "BOw4r1M_dYjb"
      },
      "source": [
        "**User Input Here**"
      ]
    },
    {
      "cell_type": "code",
      "metadata": {
        "colab": {
          "base_uri": "https://localhost:8080/"
        },
        "id": "wknyXFzGUICh",
        "outputId": "6584fd5c-645b-4cae-d75d-1b3b675ff795"
      },
      "source": [
        "print('Welcome to New York Times Statistics')\n",
        "print('')\n",
        "print('Please tell me which state you would like to see. Type full name of state with the first letter capitalized. EX: Florida, Georgia etc.')\n",
        "print('After the github is cloned, please delete the cell below or # it out if you are going to run the notebook again')\n",
        "userinput = input('Please put state here:')"
      ],
      "execution_count": 607,
      "outputs": [
        {
          "output_type": "stream",
          "text": [
            "Welcome to New York Times Statistics\n",
            "\n",
            "Please tell me which state you would like to see. Type full name of state with the first letter capitalized. EX: Florida, Georgia etc.\n",
            "After the github is cloned, please delete the cell below or # it out if you are going to run the notebook again\n",
            "Please put state here:California\n"
          ],
          "name": "stdout"
        }
      ]
    },
    {
      "cell_type": "markdown",
      "metadata": {
        "id": "TF52JTYxjH4I"
      },
      "source": [
        "**Framework for Cases and Deaths from The COVID-19 Tracking Project**"
      ]
    },
    {
      "cell_type": "code",
      "metadata": {
        "id": "L0f62nMNagyq"
      },
      "source": [
        "# run this once and then # it out or delete\n",
        "\n",
        "#! git clone https://github.com/nytimes/covid-19-data.git"
      ],
      "execution_count": 608,
      "outputs": []
    },
    {
      "cell_type": "code",
      "metadata": {
        "id": "COm9QgzHdXnX"
      },
      "source": [
        "# might need this cell if your data does not download directly from the URL\n",
        "# !pip install fsspec\n",
        "# !pip install pandas"
      ],
      "execution_count": 609,
      "outputs": []
    },
    {
      "cell_type": "code",
      "metadata": {
        "id": "bGsAPrnk8Vmm"
      },
      "source": [
        "# ignore this \n",
        "data = { 'Alabama': 'AL', 'Alaska': 'AK', 'American Samoa': 'AS', 'Arizona': 'AZ', 'Arkansas': 'AR', 'California': 'CA', 'Colorado': 'CO', 'Connecticut': 'CT', 'Delaware': 'DE', 'District of Columbia': 'DC', 'Florida': 'FL', 'Georgia': 'GA', 'Guam': 'GU', 'Hawaii': 'HI', 'Idaho': 'ID', 'Illinois': 'IL', 'Indiana': 'IN', 'Iowa': 'IA', 'Kansas': 'KS', 'Kentucky': 'KY', 'Louisiana': 'LA', 'Maine': 'ME', 'Maryland': 'MD', 'Massachusetts': 'MA', 'Michigan': 'MI', 'Minnesota': 'MN', 'Mississippi': 'MS', 'Missouri': 'MO', 'Montana': 'MT', 'Nebraska': 'NE', 'Nevada': 'NV', 'New Hampshire': 'NH', 'New Jersey': 'NJ', 'New Mexico': 'NM', 'New York': 'NY', 'North Carolina': 'NC', 'North Dakota': 'ND', 'Northern Mariana Islands':'MP', 'Ohio': 'OH', 'Oklahoma': 'OK', 'Oregon': 'OR', 'Pennsylvania': 'PA', 'Puerto Rico': 'PR', 'Rhode Island': 'RI', 'South Carolina': 'SC', 'South Dakota': 'SD', 'Tennessee': 'TN', 'Texas': 'TX', 'Utah': 'UT', 'Vermont': 'VT', 'Virgin Islands': 'VI', 'Virginia': 'VA', 'Washington': 'WA', 'West Virginia': 'WV', 'Wisconsin': 'WI', 'Wyoming': 'WY' }"
      ],
      "execution_count": 610,
      "outputs": []
    },
    {
      "cell_type": "code",
      "metadata": {
        "id": "MOKhb2GqV2my"
      },
      "source": [
        "import pandas as pd\n",
        "import matplotlib.pyplot as plt"
      ],
      "execution_count": 611,
      "outputs": []
    },
    {
      "cell_type": "code",
      "metadata": {
        "id": "l7d6MJLOanMv"
      },
      "source": [
        "# reading in the data\n",
        "df = pd.read_csv('/content/covid-19-data/us-states.csv')"
      ],
      "execution_count": 612,
      "outputs": []
    },
    {
      "cell_type": "code",
      "metadata": {
        "id": "Eg1NnXXtoeQD"
      },
      "source": [
        "# cleaning data\n",
        "df = df.drop(columns = 'fips')"
      ],
      "execution_count": 613,
      "outputs": []
    },
    {
      "cell_type": "code",
      "metadata": {
        "id": "p6XG1CHBewua"
      },
      "source": [
        "# converting to datetime \n",
        "df['date'] = pd.to_datetime(df['date'])"
      ],
      "execution_count": 614,
      "outputs": []
    },
    {
      "cell_type": "code",
      "metadata": {
        "id": "doqsq5Bve0o7"
      },
      "source": [
        "# making sure the date starts after 03-01\n",
        "df = df[df['date'] >= '03-01-2020']"
      ],
      "execution_count": 615,
      "outputs": []
    },
    {
      "cell_type": "code",
      "metadata": {
        "id": "JZj69LPKe3Ik"
      },
      "source": [
        "# making creating the day column\n",
        "df['Day'] = df.groupby('state')['date'].rank(ascending=True)"
      ],
      "execution_count": 616,
      "outputs": []
    },
    {
      "cell_type": "code",
      "metadata": {
        "id": "VDVI1vTse6wK"
      },
      "source": [
        "df['Avg day of case'] = 0 # declaring new column\n",
        "df['Avg day of death'] = 0"
      ],
      "execution_count": 617,
      "outputs": []
    },
    {
      "cell_type": "code",
      "metadata": {
        "id": "9EyK6cqre_ms"
      },
      "source": [
        "# setting the state to the users input\n",
        "df = df[df['state'] == userinput]"
      ],
      "execution_count": 618,
      "outputs": []
    },
    {
      "cell_type": "code",
      "metadata": {
        "id": "z0jH6wYqo6ot"
      },
      "source": [
        "# cleaning data\n",
        "df = df.reset_index(drop = True)"
      ],
      "execution_count": 619,
      "outputs": []
    },
    {
      "cell_type": "code",
      "metadata": {
        "id": "u1SF94CUfFCs"
      },
      "source": [
        "# making sure it only calculate where the deaths >0\n",
        "df = df[(df['deaths'] > 0) & (df['cases']>0)]"
      ],
      "execution_count": 620,
      "outputs": []
    },
    {
      "cell_type": "code",
      "metadata": {
        "id": "EfMiOF3QfLFv"
      },
      "source": [
        "# setting the first day as the first row in Avg day of death\n",
        "df.loc[df.groupby('state')['date'].head(1).index, 'Avg day of death'] = df.loc[:,'Day']"
      ],
      "execution_count": 621,
      "outputs": []
    },
    {
      "cell_type": "code",
      "metadata": {
        "id": "ZR-ZkXYmgYxb"
      },
      "source": [
        "df.loc[df.groupby('state')['date'].head(1).index, 'Avg day of case'] = df.loc[:,'Day']"
      ],
      "execution_count": 622,
      "outputs": []
    },
    {
      "cell_type": "code",
      "metadata": {
        "id": "RqWejI_nfO_x"
      },
      "source": [
        "# creating the CDF Column\n",
        "df['cdf_cases'] = df['cases']"
      ],
      "execution_count": 623,
      "outputs": []
    },
    {
      "cell_type": "code",
      "metadata": {
        "id": "2F4eS3q0fSIh"
      },
      "source": [
        "# creating the cdf column\n",
        "df['cdf_deaths'] = df['deaths']"
      ],
      "execution_count": 624,
      "outputs": []
    },
    {
      "cell_type": "code",
      "metadata": {
        "id": "gG3seCaXfZRT"
      },
      "source": [
        "# creating the formula for the CDF column\n",
        "df.loc[:,'cdf_cases':] = df.loc[:,'cdf_cases':].div(df.iloc[-1]['cdf_cases':])\n",
        "df = df.reset_index()"
      ],
      "execution_count": 625,
      "outputs": []
    },
    {
      "cell_type": "code",
      "metadata": {
        "id": "K07x-12qfcZ0"
      },
      "source": [
        "# creating the formula for the CDF column\n",
        "df['cdf_deaths'] = df.loc[:,'cdf_deaths':].div(df.iloc[-1]['cdf_deaths':])"
      ],
      "execution_count": 626,
      "outputs": []
    },
    {
      "cell_type": "code",
      "metadata": {
        "id": "hdZkreYof46y"
      },
      "source": [
        "# cleaning data\n",
        "df= df.drop(columns = ['index'])"
      ],
      "execution_count": 627,
      "outputs": []
    },
    {
      "cell_type": "code",
      "metadata": {
        "id": "QvHnXCqkgeS8"
      },
      "source": [
        "# calulating Avgerage day of case\n",
        "for i in range(1, len(df)):\n",
        "  x = (((df.loc[i, 'cases'] - df.loc[i-1, 'cases']) * (df.loc[i, 'Day']- df.loc[i-1, 'Avg day of case'])) / (df.loc[i, 'cases'])) + (df.loc[i-1, 'Avg day of case'])\n",
        "  df.loc[i, 'Avg day of case'] = round(x, 2)"
      ],
      "execution_count": 628,
      "outputs": []
    },
    {
      "cell_type": "code",
      "metadata": {
        "id": "mxxHGneGgjGy"
      },
      "source": [
        "# calulating Avgerage day of death\n",
        "for i in range(1, len(df)):\n",
        "  x = (((df.loc[i, 'deaths'] - df.loc[i-1, 'deaths']) * (df.loc[i, 'Day']- df.loc[i-1, 'Avg day of death'])) / (df.loc[i, 'deaths'])) + (df.loc[i-1, 'Avg day of death'])\n",
        "  df.loc[i, 'Avg day of death'] = round(x, 2)"
      ],
      "execution_count": 629,
      "outputs": []
    },
    {
      "cell_type": "code",
      "metadata": {
        "id": "YzBGUTc_hCD9"
      },
      "source": [
        "# difference of avg death day and avg case day\n",
        "df['Avg Death Day - Avg Case Day'] = df['Avg day of death'] - df['Avg day of case'] "
      ],
      "execution_count": 630,
      "outputs": []
    },
    {
      "cell_type": "code",
      "metadata": {
        "id": "517CxqChh2RO"
      },
      "source": [
        "# avg day of case/ current day\n",
        "df['Avg Day of Case/ Current Day'] = df['Avg day of case'] / df['Day']"
      ],
      "execution_count": 631,
      "outputs": []
    },
    {
      "cell_type": "code",
      "metadata": {
        "id": "u9qnBMpMh-oY"
      },
      "source": [
        "# avg day of death/ current day\n",
        "df['Avg Day of Death/ Current Day'] = df['Avg day of death'] / df['Day']"
      ],
      "execution_count": 632,
      "outputs": []
    },
    {
      "cell_type": "markdown",
      "metadata": {
        "id": "tKMIrnHOI7YR"
      },
      "source": [
        "**Framework hospital data**"
      ]
    },
    {
      "cell_type": "code",
      "metadata": {
        "id": "GQzH1eCToPh2"
      },
      "source": [
        "# loading in the data\n",
        "\n",
        "hospitalizationdf = pd.read_csv('https://healthdata.gov/api/views/g62h-syeh/rows.csv?accessType=DOWNLOAD')"
      ],
      "execution_count": 633,
      "outputs": []
    },
    {
      "cell_type": "code",
      "metadata": {
        "id": "CZlDbvRBoSa7"
      },
      "source": [
        "# slicing the df\n",
        "hospitalizationdf = hospitalizationdf.loc[:,['state','date','previous_day_admission_adult_covid_confirmed','previous_day_admission_adult_covid_suspected','previous_day_admission_pediatric_covid_confirmed','previous_day_admission_pediatric_covid_suspected']]"
      ],
      "execution_count": 634,
      "outputs": []
    },
    {
      "cell_type": "code",
      "metadata": {
        "id": "hGRubLe4oums"
      },
      "source": [
        "# setting the state through user input\n",
        "hospitalizationdf = hospitalizationdf[hospitalizationdf.state == data[userinput]]"
      ],
      "execution_count": 635,
      "outputs": []
    },
    {
      "cell_type": "code",
      "metadata": {
        "id": "kJ_q9yl0pmZQ"
      },
      "source": [
        "# setting to datetime \n",
        "hospitalizationdf.date = pd.to_datetime(hospitalizationdf.date)"
      ],
      "execution_count": 636,
      "outputs": []
    },
    {
      "cell_type": "code",
      "metadata": {
        "id": "iqc7rOlyqRm4"
      },
      "source": [
        "# sorting the data\n",
        "hospitalizationdf = hospitalizationdf.sort_values(by = 'date')"
      ],
      "execution_count": 637,
      "outputs": []
    },
    {
      "cell_type": "code",
      "metadata": {
        "id": "QmqDon9PqqC-"
      },
      "source": [
        "# resetting the index\n",
        "hospitalizationdf = hospitalizationdf.reset_index(drop = True)"
      ],
      "execution_count": 638,
      "outputs": []
    },
    {
      "cell_type": "code",
      "metadata": {
        "id": "WmoJ4rlj6VAs"
      },
      "source": [
        "# starting the date at 03-01-2020\n",
        "hospitalizationdf = hospitalizationdf[hospitalizationdf['date'] >= '03-01-2020']"
      ],
      "execution_count": 639,
      "outputs": []
    },
    {
      "cell_type": "code",
      "metadata": {
        "id": "qkbPINfV6YLi"
      },
      "source": [
        "# making sure the date is greater than 0\n",
        "hospitalizationdf = hospitalizationdf [(hospitalizationdf.previous_day_admission_adult_covid_confirmed >0)& (hospitalizationdf.previous_day_admission_adult_covid_suspected >0) & (hospitalizationdf.previous_day_admission_pediatric_covid_confirmed >0) & (hospitalizationdf.previous_day_admission_pediatric_covid_suspected>0)]"
      ],
      "execution_count": 640,
      "outputs": []
    },
    {
      "cell_type": "code",
      "metadata": {
        "id": "3ZrCYpiL6aEp"
      },
      "source": [
        "# resetting the index\n",
        "hospitalizationdf = hospitalizationdf.reset_index(drop = True)"
      ],
      "execution_count": 641,
      "outputs": []
    },
    {
      "cell_type": "code",
      "metadata": {
        "id": "lW3KmspQ070G"
      },
      "source": [
        "# making the data cumulative \n",
        "for i in range(1,len(hospitalizationdf)):\n",
        "  x = hospitalizationdf.loc[i,'previous_day_admission_adult_covid_confirmed'] + hospitalizationdf.loc[i-1,'previous_day_admission_adult_covid_confirmed']\n",
        "  hospitalizationdf.loc[i,'previous_day_admission_adult_covid_confirmed'] = x"
      ],
      "execution_count": 642,
      "outputs": []
    },
    {
      "cell_type": "code",
      "metadata": {
        "id": "W1xY6T3j2Gf8"
      },
      "source": [
        "# making the data cumulative \n",
        "for i in range(1,len(hospitalizationdf)):\n",
        "  x = hospitalizationdf.loc[i,'previous_day_admission_adult_covid_suspected'] + hospitalizationdf.loc[i-1,'previous_day_admission_adult_covid_suspected']\n",
        "  hospitalizationdf.loc[i,'previous_day_admission_adult_covid_suspected'] = x"
      ],
      "execution_count": 643,
      "outputs": []
    },
    {
      "cell_type": "code",
      "metadata": {
        "id": "lkM9OKpoBANs"
      },
      "source": [
        "# making the data cumulative \n",
        "for i in range(1,len(hospitalizationdf)):\n",
        "  x = hospitalizationdf.loc[i,'previous_day_admission_pediatric_covid_confirmed'] + hospitalizationdf.loc[i-1,'previous_day_admission_pediatric_covid_confirmed']\n",
        "  hospitalizationdf.loc[i,'previous_day_admission_pediatric_covid_confirmed'] = x"
      ],
      "execution_count": 644,
      "outputs": []
    },
    {
      "cell_type": "code",
      "metadata": {
        "id": "egM5dj21BseL"
      },
      "source": [
        "# making the data cumulative \n",
        "for i in range(1,len(hospitalizationdf)):\n",
        "  x = hospitalizationdf.loc[i,'previous_day_admission_pediatric_covid_suspected'] + hospitalizationdf.loc[i-1,'previous_day_admission_pediatric_covid_suspected']\n",
        "  hospitalizationdf.loc[i,'previous_day_admission_pediatric_covid_suspected'] = x"
      ],
      "execution_count": 645,
      "outputs": []
    },
    {
      "cell_type": "code",
      "metadata": {
        "id": "QvR7jWsWB20p"
      },
      "source": [
        "# adding up all the data \n",
        "hospitalizationdf['hospitalized_cumulative'] = hospitalizationdf.previous_day_admission_adult_covid_confirmed + hospitalizationdf.previous_day_admission_adult_covid_suspected + hospitalizationdf.previous_day_admission_pediatric_covid_confirmed + hospitalizationdf.previous_day_admission_pediatric_covid_suspected"
      ],
      "execution_count": 646,
      "outputs": []
    },
    {
      "cell_type": "code",
      "metadata": {
        "id": "XdvrLIHyJOCY"
      },
      "source": [
        "# cleaning the data \n",
        "hospitalizationdf = hospitalizationdf.drop(columns = ['previous_day_admission_adult_covid_confirmed','previous_day_admission_adult_covid_suspected','previous_day_admission_pediatric_covid_confirmed','previous_day_admission_pediatric_covid_suspected'])"
      ],
      "execution_count": 647,
      "outputs": []
    },
    {
      "cell_type": "code",
      "metadata": {
        "id": "Kc0n--on6ccQ"
      },
      "source": [
        "# merging the two dataframes together\n",
        "df = df.merge(hospitalizationdf, on ='date')"
      ],
      "execution_count": 648,
      "outputs": []
    },
    {
      "cell_type": "code",
      "metadata": {
        "id": "2rtbCncTLvNY"
      },
      "source": [
        "# cleaning data\n",
        "df = df.drop(columns='state_y')"
      ],
      "execution_count": 649,
      "outputs": []
    },
    {
      "cell_type": "code",
      "metadata": {
        "id": "Q-JQB86K6fVn"
      },
      "source": [
        "# cleaning data \n",
        "df['state'] = df['state_x']"
      ],
      "execution_count": 650,
      "outputs": []
    },
    {
      "cell_type": "code",
      "metadata": {
        "id": "FbYP0dPw6g3J"
      },
      "source": [
        "# cleaning data\n",
        "df = df.drop(columns = 'state_x')"
      ],
      "execution_count": 651,
      "outputs": []
    },
    {
      "cell_type": "code",
      "metadata": {
        "id": "AHiEQ7E86iOM"
      },
      "source": [
        "# creating the cdf column\n",
        "df['cdf_hospitalized'] = df['hospitalized_cumulative']"
      ],
      "execution_count": 652,
      "outputs": []
    },
    {
      "cell_type": "code",
      "metadata": {
        "id": "dZMzNd3R--Y1"
      },
      "source": [
        "# creating the formula for the CDF column\n",
        "df.loc[:,'cdf_hospitalized':] = df.loc[:,'cdf_hospitalized':].div(df.iloc[-1]['cdf_hospitalized':])\n",
        "df = df.reset_index(drop= True)"
      ],
      "execution_count": 653,
      "outputs": []
    },
    {
      "cell_type": "code",
      "metadata": {
        "id": "ggK3rkuB9SaQ"
      },
      "source": [
        "# creating avg day of hospitalization\n",
        "df['Avg day of hospitalization'] = 0"
      ],
      "execution_count": 654,
      "outputs": []
    },
    {
      "cell_type": "code",
      "metadata": {
        "id": "uI0rO8qCQa0y"
      },
      "source": [
        "# setting the first day of avg hospitalizations to the first day\n",
        "df.loc[0,'Avg day of hospitalization'] = df.loc[0,'Day']"
      ],
      "execution_count": 655,
      "outputs": []
    },
    {
      "cell_type": "code",
      "metadata": {
        "id": "H-dALOuz6jfT"
      },
      "source": [
        "# calulating Avgerage day of Hospitalization\n",
        "for i in range(1, len(df)):\n",
        "  x = (((df.loc[i, 'hospitalized_cumulative'] - df.loc[i-1, 'hospitalized_cumulative']) * (df.loc[i, 'Day']- df.loc[i-1, 'Avg day of hospitalization'])) / (df.loc[i, 'hospitalized_cumulative'])) + (df.loc[i-1, 'Avg day of hospitalization'])\n",
        "  df.loc[i, 'Avg day of hospitalization'] = round(x, 2)"
      ],
      "execution_count": 656,
      "outputs": []
    },
    {
      "cell_type": "code",
      "metadata": {
        "id": "vx9v7pFS6k5T"
      },
      "source": [
        "# avg hospitalization day vs case day\n",
        "df['Avg Hospitalization Day - Avg Case Day'] = df['Avg day of hospitalization'] - df['Avg day of case']  "
      ],
      "execution_count": 657,
      "outputs": []
    },
    {
      "cell_type": "code",
      "metadata": {
        "id": "y8F6Bc__6mn6"
      },
      "source": [
        "# avg hospitalization/ current day\n",
        "df['Avg Day of Hospitalization/ Current Day'] = df['Avg day of hospitalization'] /df['Day']"
      ],
      "execution_count": 658,
      "outputs": []
    },
    {
      "cell_type": "code",
      "metadata": {
        "id": "MH0XTr9H6noq"
      },
      "source": [
        "# cleaning dataframe\n",
        "df = df.loc[:,['date','state','deaths','cases','hospitalized_cumulative','Day','Avg day of case','Avg day of death','Avg day of hospitalization','Avg Death Day - Avg Case Day','Avg Hospitalization Day - Avg Case Day','Avg Day of Case/ Current Day','Avg Day of Death/ Current Day','Avg Day of Hospitalization/ Current Day','cdf_cases','cdf_deaths','cdf_hospitalized']]"
      ],
      "execution_count": 659,
      "outputs": []
    },
    {
      "cell_type": "code",
      "metadata": {
        "colab": {
          "base_uri": "https://localhost:8080/",
          "height": 694
        },
        "id": "M51RnOQZhxaC",
        "outputId": "45ad97ef-e87c-4fd2-a236-35d0b070488b"
      },
      "source": [
        "df"
      ],
      "execution_count": 660,
      "outputs": [
        {
          "output_type": "execute_result",
          "data": {
            "text/html": [
              "<div>\n",
              "<style scoped>\n",
              "    .dataframe tbody tr th:only-of-type {\n",
              "        vertical-align: middle;\n",
              "    }\n",
              "\n",
              "    .dataframe tbody tr th {\n",
              "        vertical-align: top;\n",
              "    }\n",
              "\n",
              "    .dataframe thead th {\n",
              "        text-align: right;\n",
              "    }\n",
              "</style>\n",
              "<table border=\"1\" class=\"dataframe\">\n",
              "  <thead>\n",
              "    <tr style=\"text-align: right;\">\n",
              "      <th></th>\n",
              "      <th>date</th>\n",
              "      <th>state</th>\n",
              "      <th>deaths</th>\n",
              "      <th>cases</th>\n",
              "      <th>hospitalized_cumulative</th>\n",
              "      <th>Day</th>\n",
              "      <th>Avg day of case</th>\n",
              "      <th>Avg day of death</th>\n",
              "      <th>Avg day of hospitalization</th>\n",
              "      <th>Avg Death Day - Avg Case Day</th>\n",
              "      <th>Avg Hospitalization Day - Avg Case Day</th>\n",
              "      <th>Avg Day of Case/ Current Day</th>\n",
              "      <th>Avg Day of Death/ Current Day</th>\n",
              "      <th>Avg Day of Hospitalization/ Current Day</th>\n",
              "      <th>cdf_cases</th>\n",
              "      <th>cdf_deaths</th>\n",
              "      <th>cdf_hospitalized</th>\n",
              "    </tr>\n",
              "  </thead>\n",
              "  <tbody>\n",
              "    <tr>\n",
              "      <th>0</th>\n",
              "      <td>2020-07-15</td>\n",
              "      <td>California</td>\n",
              "      <td>7368</td>\n",
              "      <td>355497</td>\n",
              "      <td>983.0</td>\n",
              "      <td>137.0</td>\n",
              "      <td>102.16</td>\n",
              "      <td>85.49</td>\n",
              "      <td>137.00</td>\n",
              "      <td>-16.67</td>\n",
              "      <td>34.84</td>\n",
              "      <td>0.745693</td>\n",
              "      <td>0.624015</td>\n",
              "      <td>1.000000</td>\n",
              "      <td>0.0975151</td>\n",
              "      <td>0.127598</td>\n",
              "      <td>0.00268609</td>\n",
              "    </tr>\n",
              "    <tr>\n",
              "      <th>1</th>\n",
              "      <td>2020-07-16</td>\n",
              "      <td>California</td>\n",
              "      <td>7490</td>\n",
              "      <td>364761</td>\n",
              "      <td>2030.0</td>\n",
              "      <td>138.0</td>\n",
              "      <td>103.07</td>\n",
              "      <td>86.35</td>\n",
              "      <td>137.52</td>\n",
              "      <td>-16.72</td>\n",
              "      <td>34.45</td>\n",
              "      <td>0.746884</td>\n",
              "      <td>0.625725</td>\n",
              "      <td>0.996522</td>\n",
              "      <td>0.100056</td>\n",
              "      <td>0.12971</td>\n",
              "      <td>0.00554707</td>\n",
              "    </tr>\n",
              "    <tr>\n",
              "      <th>2</th>\n",
              "      <td>2020-07-17</td>\n",
              "      <td>California</td>\n",
              "      <td>7607</td>\n",
              "      <td>374922</td>\n",
              "      <td>3145.0</td>\n",
              "      <td>139.0</td>\n",
              "      <td>104.04</td>\n",
              "      <td>87.16</td>\n",
              "      <td>138.04</td>\n",
              "      <td>-16.88</td>\n",
              "      <td>34.00</td>\n",
              "      <td>0.748489</td>\n",
              "      <td>0.627050</td>\n",
              "      <td>0.993094</td>\n",
              "      <td>0.102844</td>\n",
              "      <td>0.131737</td>\n",
              "      <td>0.00859386</td>\n",
              "    </tr>\n",
              "    <tr>\n",
              "      <th>3</th>\n",
              "      <td>2020-07-18</td>\n",
              "      <td>California</td>\n",
              "      <td>7697</td>\n",
              "      <td>383194</td>\n",
              "      <td>4192.0</td>\n",
              "      <td>140.0</td>\n",
              "      <td>104.82</td>\n",
              "      <td>87.78</td>\n",
              "      <td>138.53</td>\n",
              "      <td>-17.04</td>\n",
              "      <td>33.71</td>\n",
              "      <td>0.748714</td>\n",
              "      <td>0.627000</td>\n",
              "      <td>0.989500</td>\n",
              "      <td>0.105113</td>\n",
              "      <td>0.133295</td>\n",
              "      <td>0.0114548</td>\n",
              "    </tr>\n",
              "    <tr>\n",
              "      <th>4</th>\n",
              "      <td>2020-07-19</td>\n",
              "      <td>California</td>\n",
              "      <td>7710</td>\n",
              "      <td>391460</td>\n",
              "      <td>4972.0</td>\n",
              "      <td>141.0</td>\n",
              "      <td>105.58</td>\n",
              "      <td>87.87</td>\n",
              "      <td>138.92</td>\n",
              "      <td>-17.71</td>\n",
              "      <td>33.34</td>\n",
              "      <td>0.748794</td>\n",
              "      <td>0.623191</td>\n",
              "      <td>0.985248</td>\n",
              "      <td>0.10738</td>\n",
              "      <td>0.13352</td>\n",
              "      <td>0.0135862</td>\n",
              "    </tr>\n",
              "    <tr>\n",
              "      <th>...</th>\n",
              "      <td>...</td>\n",
              "      <td>...</td>\n",
              "      <td>...</td>\n",
              "      <td>...</td>\n",
              "      <td>...</td>\n",
              "      <td>...</td>\n",
              "      <td>...</td>\n",
              "      <td>...</td>\n",
              "      <td>...</td>\n",
              "      <td>...</td>\n",
              "      <td>...</td>\n",
              "      <td>...</td>\n",
              "      <td>...</td>\n",
              "      <td>...</td>\n",
              "      <td>...</td>\n",
              "      <td>...</td>\n",
              "      <td>...</td>\n",
              "    </tr>\n",
              "    <tr>\n",
              "      <th>243</th>\n",
              "      <td>2021-03-16</td>\n",
              "      <td>California</td>\n",
              "      <td>56719</td>\n",
              "      <td>3628366</td>\n",
              "      <td>362557.0</td>\n",
              "      <td>381.0</td>\n",
              "      <td>266.17</td>\n",
              "      <td>271.20</td>\n",
              "      <td>270.17</td>\n",
              "      <td>5.03</td>\n",
              "      <td>4.00</td>\n",
              "      <td>0.698609</td>\n",
              "      <td>0.711811</td>\n",
              "      <td>0.709108</td>\n",
              "      <td>0.995284</td>\n",
              "      <td>0.982249</td>\n",
              "      <td>0.990704</td>\n",
              "    </tr>\n",
              "    <tr>\n",
              "      <th>244</th>\n",
              "      <td>2021-03-17</td>\n",
              "      <td>California</td>\n",
              "      <td>56952</td>\n",
              "      <td>3631735</td>\n",
              "      <td>363459.0</td>\n",
              "      <td>382.0</td>\n",
              "      <td>266.28</td>\n",
              "      <td>271.65</td>\n",
              "      <td>270.45</td>\n",
              "      <td>5.37</td>\n",
              "      <td>4.17</td>\n",
              "      <td>0.697068</td>\n",
              "      <td>0.711126</td>\n",
              "      <td>0.707984</td>\n",
              "      <td>0.996208</td>\n",
              "      <td>0.986284</td>\n",
              "      <td>0.993169</td>\n",
              "    </tr>\n",
              "    <tr>\n",
              "      <th>245</th>\n",
              "      <td>2021-03-18</td>\n",
              "      <td>California</td>\n",
              "      <td>57187</td>\n",
              "      <td>3635303</td>\n",
              "      <td>364269.0</td>\n",
              "      <td>383.0</td>\n",
              "      <td>266.39</td>\n",
              "      <td>272.11</td>\n",
              "      <td>270.70</td>\n",
              "      <td>5.72</td>\n",
              "      <td>4.31</td>\n",
              "      <td>0.695535</td>\n",
              "      <td>0.710470</td>\n",
              "      <td>0.706789</td>\n",
              "      <td>0.997187</td>\n",
              "      <td>0.990354</td>\n",
              "      <td>0.995382</td>\n",
              "    </tr>\n",
              "    <tr>\n",
              "      <th>246</th>\n",
              "      <td>2021-03-19</td>\n",
              "      <td>California</td>\n",
              "      <td>57391</td>\n",
              "      <td>3638515</td>\n",
              "      <td>365114.0</td>\n",
              "      <td>384.0</td>\n",
              "      <td>266.49</td>\n",
              "      <td>272.51</td>\n",
              "      <td>270.96</td>\n",
              "      <td>6.02</td>\n",
              "      <td>4.47</td>\n",
              "      <td>0.693984</td>\n",
              "      <td>0.709661</td>\n",
              "      <td>0.705625</td>\n",
              "      <td>0.998068</td>\n",
              "      <td>0.993887</td>\n",
              "      <td>0.997691</td>\n",
              "    </tr>\n",
              "    <tr>\n",
              "      <th>247</th>\n",
              "      <td>2021-03-20</td>\n",
              "      <td>California</td>\n",
              "      <td>57469</td>\n",
              "      <td>3640704</td>\n",
              "      <td>365959.0</td>\n",
              "      <td>385.0</td>\n",
              "      <td>266.56</td>\n",
              "      <td>272.66</td>\n",
              "      <td>271.22</td>\n",
              "      <td>6.10</td>\n",
              "      <td>4.66</td>\n",
              "      <td>0.692364</td>\n",
              "      <td>0.708208</td>\n",
              "      <td>0.704468</td>\n",
              "      <td>0.998669</td>\n",
              "      <td>0.995238</td>\n",
              "      <td>1</td>\n",
              "    </tr>\n",
              "  </tbody>\n",
              "</table>\n",
              "<p>248 rows × 17 columns</p>\n",
              "</div>"
            ],
            "text/plain": [
              "          date       state  deaths  ...  cdf_cases  cdf_deaths  cdf_hospitalized\n",
              "0   2020-07-15  California    7368  ...  0.0975151    0.127598        0.00268609\n",
              "1   2020-07-16  California    7490  ...   0.100056     0.12971        0.00554707\n",
              "2   2020-07-17  California    7607  ...   0.102844    0.131737        0.00859386\n",
              "3   2020-07-18  California    7697  ...   0.105113    0.133295         0.0114548\n",
              "4   2020-07-19  California    7710  ...    0.10738     0.13352         0.0135862\n",
              "..         ...         ...     ...  ...        ...         ...               ...\n",
              "243 2021-03-16  California   56719  ...   0.995284    0.982249          0.990704\n",
              "244 2021-03-17  California   56952  ...   0.996208    0.986284          0.993169\n",
              "245 2021-03-18  California   57187  ...   0.997187    0.990354          0.995382\n",
              "246 2021-03-19  California   57391  ...   0.998068    0.993887          0.997691\n",
              "247 2021-03-20  California   57469  ...   0.998669    0.995238                 1\n",
              "\n",
              "[248 rows x 17 columns]"
            ]
          },
          "metadata": {
            "tags": []
          },
          "execution_count": 660
        }
      ]
    },
    {
      "cell_type": "markdown",
      "metadata": {
        "id": "XyO0H_m_iH-Y"
      },
      "source": [
        " **Statistics**"
      ]
    },
    {
      "cell_type": "code",
      "metadata": {
        "id": "P4gFTVzBiG1Y"
      },
      "source": [
        "# creating framework for statistics\n",
        "averagedayofcase = df['Avg day of case'].iloc[-1]\n",
        "averagedayofhospitalization = df['Avg day of hospitalization'].iloc[-1]\n",
        "averagedayofdeath = df['Avg day of death'].iloc[-1]\n",
        "differDeaths = df['Avg Death Day - Avg Case Day'].max()\n",
        "differCases= -df['Avg Death Day - Avg Case Day'].min()\n",
        "differhospitalizations = df['Avg Hospitalization Day - Avg Case Day'].max()\n",
        "differhospitalizations1 = -df['Avg Hospitalization Day - Avg Case Day'].min()"
      ],
      "execution_count": 661,
      "outputs": []
    },
    {
      "cell_type": "code",
      "metadata": {
        "colab": {
          "base_uri": "https://localhost:8080/"
        },
        "id": "qkVDZGPGicsX",
        "outputId": "4ea7bccd-f988-47b9-8b6c-1ad5070ef7ab"
      },
      "source": [
        "print('COVID-19 STATISTICS')\n",
        "print('')\n",
        "print('State = ', df.state.iloc[-1])\n",
        "print('Average Day of Death and Average Day of Case as of',df['date'].iloc[-1])\n",
        "print('Case =', averagedayofcase)\n",
        "print('Death = ', averagedayofdeath)\n",
        "print('Hospitalization = ', averagedayofhospitalization)\n",
        "print('Days When Average Dates of Death Differ By Largest Amounts')\n",
        "print('Death Day – Case Day =', differDeaths)\n",
        "print('Case Day - Death Day =',differCases)\n",
        "print('Case Day - Hospitalization day = ',differhospitalizations)\n",
        "print('Hospialization Day - Case Day =', differhospitalizations1) "
      ],
      "execution_count": 662,
      "outputs": [
        {
          "output_type": "stream",
          "text": [
            "COVID-19 STATISTICS\n",
            "\n",
            "State =  California\n",
            "Average Day of Death and Average Day of Case as of 2021-03-20 00:00:00\n",
            "Case = 266.56\n",
            "Death =  272.66\n",
            "Hospitalization =  271.22\n",
            "Days When Average Dates of Death Differ By Largest Amounts\n",
            "Death Day – Case Day = 6.100000000000023\n",
            "Case Day - Death Day = 45.70999999999998\n",
            "Case Day - Hospitalization day =  34.84\n",
            "Hospialization Day - Case Day = 3.0\n"
          ],
          "name": "stdout"
        }
      ]
    },
    {
      "cell_type": "markdown",
      "metadata": {
        "id": "sob8_scbis0e"
      },
      "source": [
        "**Data Visualization**"
      ]
    },
    {
      "cell_type": "code",
      "metadata": {
        "colab": {
          "base_uri": "https://localhost:8080/",
          "height": 1000
        },
        "id": "Soaymn8zeCpa",
        "outputId": "ae9b0b2e-494a-4d2b-9fe5-57bde5b669a5"
      },
      "source": [
        "# ratio avg Day of Event/current Date Graph\n",
        "df.plot(x= 'Day',y = ['Avg Day of Case/ Current Day','Avg Day of Death/ Current Day','Avg Day of Hospitalization/ Current Day'],title = 'Ratio of Average Day of Event to Current Date', ylabel = 'Ratio')\n",
        "# avg hospitalization day - avg case day\n",
        "df.plot(x = 'Day', y=['Avg Death Day - Avg Case Day','Avg Hospitalization Day - Avg Case Day'],title = 'Avg Death Day - Avg Case Day, Avg Hospitalization Day - Avg Case Day',ylabel = 'Difference in Days')\n",
        "# avg Day of Case/Death/Hospitalization\n",
        "df.plot(x = 'Day', y= ['Avg day of case','Avg day of death','Avg day of hospitalization'],title = 'Average Day, Case,Death,Hospitalization, as of Date Day 1 = March 1, 2020', ylabel = 'Average Day of Case or Death')\n",
        "# CDF\n",
        "df.plot( x= 'Day', y= ['cdf_cases','cdf_deaths','cdf_hospitalized'],title = 'Cumulative Probability Distribution, Days of Cases,Deaths,Hospitalization', ylabel = 'Cumulative Probability')\n",
        "\n",
        "plt.style.use('seaborn')"
      ],
      "execution_count": 664,
      "outputs": [
        {
          "output_type": "display_data",
          "data": {
            "image/png": "[encoded data removed]",
            "text/plain": [
              "<Figure size 576x396 with 1 Axes>"
            ]
          },
          "metadata": {
            "tags": []
          }
        },
        {
          "output_type": "display_data",
          "data": {
            "image/png": "[encoded data removed]",
            "text/plain": [
              "<Figure size 576x396 with 1 Axes>"
            ]
          },
          "metadata": {
            "tags": []
          }
        },
        {
          "output_type": "display_data",
          "data": {
            "image/png": "[encoded data removed]",
            "text/plain": [
              "<Figure size 576x396 with 1 Axes>"
            ]
          },
          "metadata": {
            "tags": []
          }
        },
        {
          "output_type": "display_data",
          "data": {
            "image/png": "[encoded data removed]",
            "text/plain": [
              "<Figure size 576x396 with 1 Axes>"
            ]
          },
          "metadata": {
            "tags": []
          }
        }
      ]
    }
  ]
}